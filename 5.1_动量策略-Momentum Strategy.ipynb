{
 "cells": [
  {
   "cell_type": "markdown",
   "metadata": {},
   "source": [
    "# 动量策略-Momentum Strategy"
   ]
  },
  {
   "cell_type": "code",
   "execution_count": 1,
   "metadata": {
    "collapsed": true
   },
   "outputs": [],
   "source": [
    "%matplotlib inline\n",
    "import matplotlib.pyplot as plt\n",
    "plt.style.use('seaborn')\n",
    "import matplotlib as mpl\n",
    "mpl.rcParams['font.family'] = 'serif'\n",
    "import warnings; warnings.simplefilter('ignore')       #忽略警告信息；"
   ]
  },
  {
   "cell_type": "markdown",
   "metadata": {},
   "source": [
    "#### 前导知识及复习"
   ]
  },
  {
   "cell_type": "code",
   "execution_count": 2,
   "metadata": {
    "collapsed": true
   },
   "outputs": [],
   "source": [
    "import numpy as np\n",
    "import pandas as pd\n",
    "import tushare as ts"
   ]
  },
  {
   "cell_type": "code",
   "execution_count": 3,
   "metadata": {},
   "outputs": [
    {
     "data": {
      "text/plain": [
       "-1.0"
      ]
     },
     "execution_count": 3,
     "metadata": {},
     "output_type": "execute_result"
    }
   ],
   "source": [
    "np.sign(-0.02)                  #重要函数；"
   ]
  },
  {
   "cell_type": "code",
   "execution_count": 4,
   "metadata": {},
   "outputs": [
    {
     "data": {
      "text/plain": [
       "str"
      ]
     },
     "execution_count": 4,
     "metadata": {},
     "output_type": "execute_result"
    }
   ],
   "source": [
    "date = '2014-01-20'\n",
    "type(date)"
   ]
  },
  {
   "cell_type": "code",
   "execution_count": 5,
   "metadata": {},
   "outputs": [
    {
     "data": {
      "text/plain": [
       "pandas._libs.tslib.Timestamp"
      ]
     },
     "execution_count": 5,
     "metadata": {},
     "output_type": "execute_result"
    }
   ],
   "source": [
    "data = pd.to_datetime('2014-01-20') \n",
    "type(data)#转换成为时间数据；"
   ]
  },
  {
   "cell_type": "markdown",
   "metadata": {},
   "source": [
    "#### 1. 数据准备 & 回测准备"
   ]
  },
  {
   "cell_type": "code",
   "execution_count": 6,
   "metadata": {
    "collapsed": true
   },
   "outputs": [],
   "source": [
    "data = ts.get_k_data('hs300', start = '2010-01-01', end='2017-06-30')[['date','close']]"
   ]
  },
  {
   "cell_type": "code",
   "execution_count": 7,
   "metadata": {
    "collapsed": true
   },
   "outputs": [],
   "source": [
    "data.rename(columns={'close': 'price'}, inplace=True)"
   ]
  },
  {
   "cell_type": "code",
   "execution_count": 8,
   "metadata": {
    "collapsed": true
   },
   "outputs": [],
   "source": [
    "data.set_index('date', inplace = True)"
   ]
  },
  {
   "cell_type": "code",
   "execution_count": 9,
   "metadata": {},
   "outputs": [
    {
     "data": {
      "text/html": [
       "<div>\n",
       "<style>\n",
       "    .dataframe thead tr:only-child th {\n",
       "        text-align: right;\n",
       "    }\n",
       "\n",
       "    .dataframe thead th {\n",
       "        text-align: left;\n",
       "    }\n",
       "\n",
       "    .dataframe tbody tr th {\n",
       "        vertical-align: top;\n",
       "    }\n",
       "</style>\n",
       "<table border=\"1\" class=\"dataframe\">\n",
       "  <thead>\n",
       "    <tr style=\"text-align: right;\">\n",
       "      <th></th>\n",
       "      <th>price</th>\n",
       "    </tr>\n",
       "    <tr>\n",
       "      <th>date</th>\n",
       "      <th></th>\n",
       "    </tr>\n",
       "  </thead>\n",
       "  <tbody>\n",
       "    <tr>\n",
       "      <th>2010-01-04</th>\n",
       "      <td>3536.221</td>\n",
       "    </tr>\n",
       "    <tr>\n",
       "      <th>2010-01-05</th>\n",
       "      <td>3564.038</td>\n",
       "    </tr>\n",
       "    <tr>\n",
       "      <th>2010-01-06</th>\n",
       "      <td>3542.209</td>\n",
       "    </tr>\n",
       "    <tr>\n",
       "      <th>2010-01-07</th>\n",
       "      <td>3472.313</td>\n",
       "    </tr>\n",
       "    <tr>\n",
       "      <th>2010-01-08</th>\n",
       "      <td>3480.403</td>\n",
       "    </tr>\n",
       "  </tbody>\n",
       "</table>\n",
       "</div>"
      ],
      "text/plain": [
       "               price\n",
       "date                \n",
       "2010-01-04  3536.221\n",
       "2010-01-05  3564.038\n",
       "2010-01-06  3542.209\n",
       "2010-01-07  3472.313\n",
       "2010-01-08  3480.403"
      ]
     },
     "execution_count": 9,
     "metadata": {},
     "output_type": "execute_result"
    }
   ],
   "source": [
    "data.head()"
   ]
  },
  {
   "cell_type": "markdown",
   "metadata": {},
   "source": [
    "#### 2. 策略开发思路"
   ]
  },
  {
   "cell_type": "code",
   "execution_count": 10,
   "metadata": {
    "collapsed": true
   },
   "outputs": [],
   "source": [
    "data['returns'] = np.log(data['price'] / data['price'].shift(1))"
   ]
  },
  {
   "cell_type": "code",
   "execution_count": 11,
   "metadata": {},
   "outputs": [
    {
     "data": {
      "text/html": [
       "<div>\n",
       "<style>\n",
       "    .dataframe thead tr:only-child th {\n",
       "        text-align: right;\n",
       "    }\n",
       "\n",
       "    .dataframe thead th {\n",
       "        text-align: left;\n",
       "    }\n",
       "\n",
       "    .dataframe tbody tr th {\n",
       "        vertical-align: top;\n",
       "    }\n",
       "</style>\n",
       "<table border=\"1\" class=\"dataframe\">\n",
       "  <thead>\n",
       "    <tr style=\"text-align: right;\">\n",
       "      <th></th>\n",
       "      <th>price</th>\n",
       "      <th>returns</th>\n",
       "    </tr>\n",
       "    <tr>\n",
       "      <th>date</th>\n",
       "      <th></th>\n",
       "      <th></th>\n",
       "    </tr>\n",
       "  </thead>\n",
       "  <tbody>\n",
       "    <tr>\n",
       "      <th>2010-01-04</th>\n",
       "      <td>3536.221</td>\n",
       "      <td>NaN</td>\n",
       "    </tr>\n",
       "    <tr>\n",
       "      <th>2010-01-05</th>\n",
       "      <td>3564.038</td>\n",
       "      <td>0.007836</td>\n",
       "    </tr>\n",
       "    <tr>\n",
       "      <th>2010-01-06</th>\n",
       "      <td>3542.209</td>\n",
       "      <td>-0.006144</td>\n",
       "    </tr>\n",
       "    <tr>\n",
       "      <th>2010-01-07</th>\n",
       "      <td>3472.313</td>\n",
       "      <td>-0.019930</td>\n",
       "    </tr>\n",
       "    <tr>\n",
       "      <th>2010-01-08</th>\n",
       "      <td>3480.403</td>\n",
       "      <td>0.002327</td>\n",
       "    </tr>\n",
       "  </tbody>\n",
       "</table>\n",
       "</div>"
      ],
      "text/plain": [
       "               price   returns\n",
       "date                          \n",
       "2010-01-04  3536.221       NaN\n",
       "2010-01-05  3564.038  0.007836\n",
       "2010-01-06  3542.209 -0.006144\n",
       "2010-01-07  3472.313 -0.019930\n",
       "2010-01-08  3480.403  0.002327"
      ]
     },
     "execution_count": 11,
     "metadata": {},
     "output_type": "execute_result"
    }
   ],
   "source": [
    "data.head()"
   ]
  },
  {
   "cell_type": "code",
   "execution_count": 12,
   "metadata": {
    "collapsed": true
   },
   "outputs": [],
   "source": [
    "data['position'] = np.sign(data['returns'])     \n",
    "#关键语句,np.sign()很多地方用到；向量化；"
   ]
  },
  {
   "cell_type": "code",
   "execution_count": 13,
   "metadata": {},
   "outputs": [
    {
     "data": {
      "text/html": [
       "<div>\n",
       "<style>\n",
       "    .dataframe thead tr:only-child th {\n",
       "        text-align: right;\n",
       "    }\n",
       "\n",
       "    .dataframe thead th {\n",
       "        text-align: left;\n",
       "    }\n",
       "\n",
       "    .dataframe tbody tr th {\n",
       "        vertical-align: top;\n",
       "    }\n",
       "</style>\n",
       "<table border=\"1\" class=\"dataframe\">\n",
       "  <thead>\n",
       "    <tr style=\"text-align: right;\">\n",
       "      <th></th>\n",
       "      <th>price</th>\n",
       "      <th>returns</th>\n",
       "      <th>position</th>\n",
       "    </tr>\n",
       "    <tr>\n",
       "      <th>date</th>\n",
       "      <th></th>\n",
       "      <th></th>\n",
       "      <th></th>\n",
       "    </tr>\n",
       "  </thead>\n",
       "  <tbody>\n",
       "    <tr>\n",
       "      <th>2010-01-04</th>\n",
       "      <td>3536.221</td>\n",
       "      <td>NaN</td>\n",
       "      <td>NaN</td>\n",
       "    </tr>\n",
       "    <tr>\n",
       "      <th>2010-01-05</th>\n",
       "      <td>3564.038</td>\n",
       "      <td>0.007836</td>\n",
       "      <td>1.0</td>\n",
       "    </tr>\n",
       "    <tr>\n",
       "      <th>2010-01-06</th>\n",
       "      <td>3542.209</td>\n",
       "      <td>-0.006144</td>\n",
       "      <td>-1.0</td>\n",
       "    </tr>\n",
       "    <tr>\n",
       "      <th>2010-01-07</th>\n",
       "      <td>3472.313</td>\n",
       "      <td>-0.019930</td>\n",
       "      <td>-1.0</td>\n",
       "    </tr>\n",
       "    <tr>\n",
       "      <th>2010-01-08</th>\n",
       "      <td>3480.403</td>\n",
       "      <td>0.002327</td>\n",
       "      <td>1.0</td>\n",
       "    </tr>\n",
       "  </tbody>\n",
       "</table>\n",
       "</div>"
      ],
      "text/plain": [
       "               price   returns  position\n",
       "date                                    \n",
       "2010-01-04  3536.221       NaN       NaN\n",
       "2010-01-05  3564.038  0.007836       1.0\n",
       "2010-01-06  3542.209 -0.006144      -1.0\n",
       "2010-01-07  3472.313 -0.019930      -1.0\n",
       "2010-01-08  3480.403  0.002327       1.0"
      ]
     },
     "execution_count": 13,
     "metadata": {},
     "output_type": "execute_result"
    }
   ],
   "source": [
    "data.head()"
   ]
  },
  {
   "cell_type": "code",
   "execution_count": 14,
   "metadata": {
    "collapsed": true
   },
   "outputs": [],
   "source": [
    "data['strategy'] = data['position'].shift(1) * data['returns']  \n",
    "#计算Momentum策略收益；避免未来函数；"
   ]
  },
  {
   "cell_type": "code",
   "execution_count": 15,
   "metadata": {},
   "outputs": [
    {
     "data": {
      "text/html": [
       "<div>\n",
       "<style>\n",
       "    .dataframe thead tr:only-child th {\n",
       "        text-align: right;\n",
       "    }\n",
       "\n",
       "    .dataframe thead th {\n",
       "        text-align: left;\n",
       "    }\n",
       "\n",
       "    .dataframe tbody tr th {\n",
       "        vertical-align: top;\n",
       "    }\n",
       "</style>\n",
       "<table border=\"1\" class=\"dataframe\">\n",
       "  <thead>\n",
       "    <tr style=\"text-align: right;\">\n",
       "      <th></th>\n",
       "      <th>price</th>\n",
       "      <th>returns</th>\n",
       "      <th>position</th>\n",
       "      <th>strategy</th>\n",
       "    </tr>\n",
       "    <tr>\n",
       "      <th>date</th>\n",
       "      <th></th>\n",
       "      <th></th>\n",
       "      <th></th>\n",
       "      <th></th>\n",
       "    </tr>\n",
       "  </thead>\n",
       "  <tbody>\n",
       "    <tr>\n",
       "      <th>2010-01-04</th>\n",
       "      <td>3536.221</td>\n",
       "      <td>NaN</td>\n",
       "      <td>NaN</td>\n",
       "      <td>NaN</td>\n",
       "    </tr>\n",
       "    <tr>\n",
       "      <th>2010-01-05</th>\n",
       "      <td>3564.038</td>\n",
       "      <td>0.007836</td>\n",
       "      <td>1.0</td>\n",
       "      <td>NaN</td>\n",
       "    </tr>\n",
       "    <tr>\n",
       "      <th>2010-01-06</th>\n",
       "      <td>3542.209</td>\n",
       "      <td>-0.006144</td>\n",
       "      <td>-1.0</td>\n",
       "      <td>-0.006144</td>\n",
       "    </tr>\n",
       "    <tr>\n",
       "      <th>2010-01-07</th>\n",
       "      <td>3472.313</td>\n",
       "      <td>-0.019930</td>\n",
       "      <td>-1.0</td>\n",
       "      <td>0.019930</td>\n",
       "    </tr>\n",
       "    <tr>\n",
       "      <th>2010-01-08</th>\n",
       "      <td>3480.403</td>\n",
       "      <td>0.002327</td>\n",
       "      <td>1.0</td>\n",
       "      <td>-0.002327</td>\n",
       "    </tr>\n",
       "    <tr>\n",
       "      <th>2010-01-11</th>\n",
       "      <td>3482.680</td>\n",
       "      <td>0.000654</td>\n",
       "      <td>1.0</td>\n",
       "      <td>0.000654</td>\n",
       "    </tr>\n",
       "    <tr>\n",
       "      <th>2010-01-12</th>\n",
       "      <td>3535.407</td>\n",
       "      <td>0.015026</td>\n",
       "      <td>1.0</td>\n",
       "      <td>0.015026</td>\n",
       "    </tr>\n",
       "    <tr>\n",
       "      <th>2010-01-13</th>\n",
       "      <td>3421.116</td>\n",
       "      <td>-0.032862</td>\n",
       "      <td>-1.0</td>\n",
       "      <td>-0.032862</td>\n",
       "    </tr>\n",
       "    <tr>\n",
       "      <th>2010-01-14</th>\n",
       "      <td>3469.616</td>\n",
       "      <td>0.014077</td>\n",
       "      <td>1.0</td>\n",
       "      <td>-0.014077</td>\n",
       "    </tr>\n",
       "    <tr>\n",
       "      <th>2010-01-15</th>\n",
       "      <td>3483.312</td>\n",
       "      <td>0.003940</td>\n",
       "      <td>1.0</td>\n",
       "      <td>0.003940</td>\n",
       "    </tr>\n",
       "  </tbody>\n",
       "</table>\n",
       "</div>"
      ],
      "text/plain": [
       "               price   returns  position  strategy\n",
       "date                                              \n",
       "2010-01-04  3536.221       NaN       NaN       NaN\n",
       "2010-01-05  3564.038  0.007836       1.0       NaN\n",
       "2010-01-06  3542.209 -0.006144      -1.0 -0.006144\n",
       "2010-01-07  3472.313 -0.019930      -1.0  0.019930\n",
       "2010-01-08  3480.403  0.002327       1.0 -0.002327\n",
       "2010-01-11  3482.680  0.000654       1.0  0.000654\n",
       "2010-01-12  3535.407  0.015026       1.0  0.015026\n",
       "2010-01-13  3421.116 -0.032862      -1.0 -0.032862\n",
       "2010-01-14  3469.616  0.014077       1.0 -0.014077\n",
       "2010-01-15  3483.312  0.003940       1.0  0.003940"
      ]
     },
     "execution_count": 15,
     "metadata": {},
     "output_type": "execute_result"
    }
   ],
   "source": [
    "data.head(10)"
   ]
  },
  {
   "cell_type": "markdown",
   "metadata": {},
   "source": [
    "#### 3. 策略可视化"
   ]
  },
  {
   "cell_type": "code",
   "execution_count": 16,
   "metadata": {},
   "outputs": [
    {
     "data": {
      "text/plain": [
       "<matplotlib.axes._subplots.AxesSubplot at 0x15e9afa9e80>"
      ]
     },
     "execution_count": 16,
     "metadata": {},
     "output_type": "execute_result"
    },
    {
     "data": {
      "image/png": "[encoded data removed]",
      "text/plain": [
       "<matplotlib.figure.Figure at 0x15e9af8bcf8>"
      ]
     },
     "metadata": {},
     "output_type": "display_data"
    }
   ],
   "source": [
    "data[['returns', 'strategy']].cumsum().apply(np.exp).plot(figsize=(10, 6))    \n",
    "#计算出策略的最终的累计收益；"
   ]
  },
  {
   "cell_type": "markdown",
   "metadata": {},
   "source": [
    "策略的问题和思考？\n",
    "过于频繁的买卖开仓；"
   ]
  },
  {
   "cell_type": "markdown",
   "metadata": {},
   "source": [
    "#### 4. 策略优化之思路——参数优化和穷举"
   ]
  },
  {
   "cell_type": "code",
   "execution_count": 17,
   "metadata": {
    "collapsed": true
   },
   "outputs": [],
   "source": [
    "data['position_5'] = np.sign(data['returns'].rolling(5).mean()) "
   ]
  },
  {
   "cell_type": "code",
   "execution_count": 18,
   "metadata": {},
   "outputs": [
    {
     "data": {
      "text/html": [
       "<div>\n",
       "<style>\n",
       "    .dataframe thead tr:only-child th {\n",
       "        text-align: right;\n",
       "    }\n",
       "\n",
       "    .dataframe thead th {\n",
       "        text-align: left;\n",
       "    }\n",
       "\n",
       "    .dataframe tbody tr th {\n",
       "        vertical-align: top;\n",
       "    }\n",
       "</style>\n",
       "<table border=\"1\" class=\"dataframe\">\n",
       "  <thead>\n",
       "    <tr style=\"text-align: right;\">\n",
       "      <th></th>\n",
       "      <th>price</th>\n",
       "      <th>returns</th>\n",
       "      <th>position</th>\n",
       "      <th>strategy</th>\n",
       "      <th>position_5</th>\n",
       "    </tr>\n",
       "    <tr>\n",
       "      <th>date</th>\n",
       "      <th></th>\n",
       "      <th></th>\n",
       "      <th></th>\n",
       "      <th></th>\n",
       "      <th></th>\n",
       "    </tr>\n",
       "  </thead>\n",
       "  <tbody>\n",
       "    <tr>\n",
       "      <th>2010-01-04</th>\n",
       "      <td>3536.221</td>\n",
       "      <td>NaN</td>\n",
       "      <td>NaN</td>\n",
       "      <td>NaN</td>\n",
       "      <td>NaN</td>\n",
       "    </tr>\n",
       "    <tr>\n",
       "      <th>2010-01-05</th>\n",
       "      <td>3564.038</td>\n",
       "      <td>0.007836</td>\n",
       "      <td>1.0</td>\n",
       "      <td>NaN</td>\n",
       "      <td>NaN</td>\n",
       "    </tr>\n",
       "    <tr>\n",
       "      <th>2010-01-06</th>\n",
       "      <td>3542.209</td>\n",
       "      <td>-0.006144</td>\n",
       "      <td>-1.0</td>\n",
       "      <td>-0.006144</td>\n",
       "      <td>NaN</td>\n",
       "    </tr>\n",
       "    <tr>\n",
       "      <th>2010-01-07</th>\n",
       "      <td>3472.313</td>\n",
       "      <td>-0.019930</td>\n",
       "      <td>-1.0</td>\n",
       "      <td>0.019930</td>\n",
       "      <td>NaN</td>\n",
       "    </tr>\n",
       "    <tr>\n",
       "      <th>2010-01-08</th>\n",
       "      <td>3480.403</td>\n",
       "      <td>0.002327</td>\n",
       "      <td>1.0</td>\n",
       "      <td>-0.002327</td>\n",
       "      <td>NaN</td>\n",
       "    </tr>\n",
       "    <tr>\n",
       "      <th>2010-01-11</th>\n",
       "      <td>3482.680</td>\n",
       "      <td>0.000654</td>\n",
       "      <td>1.0</td>\n",
       "      <td>0.000654</td>\n",
       "      <td>-1.0</td>\n",
       "    </tr>\n",
       "    <tr>\n",
       "      <th>2010-01-12</th>\n",
       "      <td>3535.407</td>\n",
       "      <td>0.015026</td>\n",
       "      <td>1.0</td>\n",
       "      <td>0.015026</td>\n",
       "      <td>-1.0</td>\n",
       "    </tr>\n",
       "    <tr>\n",
       "      <th>2010-01-13</th>\n",
       "      <td>3421.116</td>\n",
       "      <td>-0.032862</td>\n",
       "      <td>-1.0</td>\n",
       "      <td>-0.032862</td>\n",
       "      <td>-1.0</td>\n",
       "    </tr>\n",
       "    <tr>\n",
       "      <th>2010-01-14</th>\n",
       "      <td>3469.616</td>\n",
       "      <td>0.014077</td>\n",
       "      <td>1.0</td>\n",
       "      <td>-0.014077</td>\n",
       "      <td>-1.0</td>\n",
       "    </tr>\n",
       "    <tr>\n",
       "      <th>2010-01-15</th>\n",
       "      <td>3483.312</td>\n",
       "      <td>0.003940</td>\n",
       "      <td>1.0</td>\n",
       "      <td>0.003940</td>\n",
       "      <td>1.0</td>\n",
       "    </tr>\n",
       "    <tr>\n",
       "      <th>2010-01-18</th>\n",
       "      <td>3501.258</td>\n",
       "      <td>0.005139</td>\n",
       "      <td>1.0</td>\n",
       "      <td>0.005139</td>\n",
       "      <td>1.0</td>\n",
       "    </tr>\n",
       "    <tr>\n",
       "      <th>2010-01-19</th>\n",
       "      <td>3507.877</td>\n",
       "      <td>0.001889</td>\n",
       "      <td>1.0</td>\n",
       "      <td>0.001889</td>\n",
       "      <td>-1.0</td>\n",
       "    </tr>\n",
       "    <tr>\n",
       "      <th>2010-01-20</th>\n",
       "      <td>3395.435</td>\n",
       "      <td>-0.032579</td>\n",
       "      <td>-1.0</td>\n",
       "      <td>-0.032579</td>\n",
       "      <td>-1.0</td>\n",
       "    </tr>\n",
       "    <tr>\n",
       "      <th>2010-01-21</th>\n",
       "      <td>3409.299</td>\n",
       "      <td>0.004075</td>\n",
       "      <td>1.0</td>\n",
       "      <td>-0.004075</td>\n",
       "      <td>-1.0</td>\n",
       "    </tr>\n",
       "    <tr>\n",
       "      <th>2010-01-22</th>\n",
       "      <td>3366.717</td>\n",
       "      <td>-0.012569</td>\n",
       "      <td>-1.0</td>\n",
       "      <td>-0.012569</td>\n",
       "      <td>-1.0</td>\n",
       "    </tr>\n",
       "    <tr>\n",
       "      <th>2010-01-25</th>\n",
       "      <td>3327.992</td>\n",
       "      <td>-0.011569</td>\n",
       "      <td>-1.0</td>\n",
       "      <td>0.011569</td>\n",
       "      <td>-1.0</td>\n",
       "    </tr>\n",
       "    <tr>\n",
       "      <th>2010-01-26</th>\n",
       "      <td>3243.149</td>\n",
       "      <td>-0.025824</td>\n",
       "      <td>-1.0</td>\n",
       "      <td>0.025824</td>\n",
       "      <td>-1.0</td>\n",
       "    </tr>\n",
       "    <tr>\n",
       "      <th>2010-01-27</th>\n",
       "      <td>3198.868</td>\n",
       "      <td>-0.013748</td>\n",
       "      <td>-1.0</td>\n",
       "      <td>0.013748</td>\n",
       "      <td>-1.0</td>\n",
       "    </tr>\n",
       "    <tr>\n",
       "      <th>2010-01-28</th>\n",
       "      <td>3207.379</td>\n",
       "      <td>0.002657</td>\n",
       "      <td>1.0</td>\n",
       "      <td>-0.002657</td>\n",
       "      <td>-1.0</td>\n",
       "    </tr>\n",
       "    <tr>\n",
       "      <th>2010-01-29</th>\n",
       "      <td>3204.912</td>\n",
       "      <td>-0.000769</td>\n",
       "      <td>-1.0</td>\n",
       "      <td>-0.000769</td>\n",
       "      <td>-1.0</td>\n",
       "    </tr>\n",
       "  </tbody>\n",
       "</table>\n",
       "</div>"
      ],
      "text/plain": [
       "               price   returns  position  strategy  position_5\n",
       "date                                                          \n",
       "2010-01-04  3536.221       NaN       NaN       NaN         NaN\n",
       "2010-01-05  3564.038  0.007836       1.0       NaN         NaN\n",
       "2010-01-06  3542.209 -0.006144      -1.0 -0.006144         NaN\n",
       "2010-01-07  3472.313 -0.019930      -1.0  0.019930         NaN\n",
       "2010-01-08  3480.403  0.002327       1.0 -0.002327         NaN\n",
       "2010-01-11  3482.680  0.000654       1.0  0.000654        -1.0\n",
       "2010-01-12  3535.407  0.015026       1.0  0.015026        -1.0\n",
       "2010-01-13  3421.116 -0.032862      -1.0 -0.032862        -1.0\n",
       "2010-01-14  3469.616  0.014077       1.0 -0.014077        -1.0\n",
       "2010-01-15  3483.312  0.003940       1.0  0.003940         1.0\n",
       "2010-01-18  3501.258  0.005139       1.0  0.005139         1.0\n",
       "2010-01-19  3507.877  0.001889       1.0  0.001889        -1.0\n",
       "2010-01-20  3395.435 -0.032579      -1.0 -0.032579        -1.0\n",
       "2010-01-21  3409.299  0.004075       1.0 -0.004075        -1.0\n",
       "2010-01-22  3366.717 -0.012569      -1.0 -0.012569        -1.0\n",
       "2010-01-25  3327.992 -0.011569      -1.0  0.011569        -1.0\n",
       "2010-01-26  3243.149 -0.025824      -1.0  0.025824        -1.0\n",
       "2010-01-27  3198.868 -0.013748      -1.0  0.013748        -1.0\n",
       "2010-01-28  3207.379  0.002657       1.0 -0.002657        -1.0\n",
       "2010-01-29  3204.912 -0.000769      -1.0 -0.000769        -1.0"
      ]
     },
     "execution_count": 18,
     "metadata": {},
     "output_type": "execute_result"
    }
   ],
   "source": [
    "data.head(20)"
   ]
  },
  {
   "cell_type": "code",
   "execution_count": 19,
   "metadata": {
    "collapsed": true
   },
   "outputs": [],
   "source": [
    "data['strategy_5'] = data['position_5'].shift(1) * data['returns']"
   ]
  },
  {
   "cell_type": "code",
   "execution_count": 20,
   "metadata": {},
   "outputs": [
    {
     "data": {
      "text/plain": [
       "<matplotlib.axes._subplots.AxesSubplot at 0x15e9b49b198>"
      ]
     },
     "execution_count": 20,
     "metadata": {},
     "output_type": "execute_result"
    },
    {
     "data": {
      "image/png": "[encoded data removed]",
      "text/plain": [
       "<matplotlib.figure.Figure at 0x15e9b00b748>"
      ]
     },
     "metadata": {},
     "output_type": "display_data"
    }
   ],
   "source": [
    "data[['returns', 'strategy_5']].dropna().cumsum().apply(np.exp).plot(figsize=(10, 6))"
   ]
  },
  {
   "cell_type": "markdown",
   "metadata": {},
   "source": [
    "#### 参数寻优——使用离散Return计算方法"
   ]
  },
  {
   "cell_type": "code",
   "execution_count": 21,
   "metadata": {},
   "outputs": [
    {
     "data": {
      "text/html": [
       "<div>\n",
       "<style>\n",
       "    .dataframe thead tr:only-child th {\n",
       "        text-align: right;\n",
       "    }\n",
       "\n",
       "    .dataframe thead th {\n",
       "        text-align: left;\n",
       "    }\n",
       "\n",
       "    .dataframe tbody tr th {\n",
       "        vertical-align: top;\n",
       "    }\n",
       "</style>\n",
       "<table border=\"1\" class=\"dataframe\">\n",
       "  <thead>\n",
       "    <tr style=\"text-align: right;\">\n",
       "      <th></th>\n",
       "      <th>price</th>\n",
       "      <th>returns</th>\n",
       "      <th>position</th>\n",
       "      <th>strategy</th>\n",
       "      <th>position_5</th>\n",
       "      <th>strategy_5</th>\n",
       "      <th>returns_dis</th>\n",
       "      <th>returns_dis_cum</th>\n",
       "    </tr>\n",
       "    <tr>\n",
       "      <th>date</th>\n",
       "      <th></th>\n",
       "      <th></th>\n",
       "      <th></th>\n",
       "      <th></th>\n",
       "      <th></th>\n",
       "      <th></th>\n",
       "      <th></th>\n",
       "      <th></th>\n",
       "    </tr>\n",
       "  </thead>\n",
       "  <tbody>\n",
       "    <tr>\n",
       "      <th>2010-01-04</th>\n",
       "      <td>3536.221</td>\n",
       "      <td>NaN</td>\n",
       "      <td>NaN</td>\n",
       "      <td>NaN</td>\n",
       "      <td>NaN</td>\n",
       "      <td>NaN</td>\n",
       "      <td>NaN</td>\n",
       "      <td>NaN</td>\n",
       "    </tr>\n",
       "    <tr>\n",
       "      <th>2010-01-05</th>\n",
       "      <td>3564.038</td>\n",
       "      <td>0.007836</td>\n",
       "      <td>1.0</td>\n",
       "      <td>NaN</td>\n",
       "      <td>NaN</td>\n",
       "      <td>NaN</td>\n",
       "      <td>0.007866</td>\n",
       "      <td>1.007866</td>\n",
       "    </tr>\n",
       "    <tr>\n",
       "      <th>2010-01-06</th>\n",
       "      <td>3542.209</td>\n",
       "      <td>-0.006144</td>\n",
       "      <td>-1.0</td>\n",
       "      <td>-0.006144</td>\n",
       "      <td>NaN</td>\n",
       "      <td>NaN</td>\n",
       "      <td>-0.006125</td>\n",
       "      <td>1.001693</td>\n",
       "    </tr>\n",
       "    <tr>\n",
       "      <th>2010-01-07</th>\n",
       "      <td>3472.313</td>\n",
       "      <td>-0.019930</td>\n",
       "      <td>-1.0</td>\n",
       "      <td>0.019930</td>\n",
       "      <td>NaN</td>\n",
       "      <td>NaN</td>\n",
       "      <td>-0.019732</td>\n",
       "      <td>0.981928</td>\n",
       "    </tr>\n",
       "    <tr>\n",
       "      <th>2010-01-08</th>\n",
       "      <td>3480.403</td>\n",
       "      <td>0.002327</td>\n",
       "      <td>1.0</td>\n",
       "      <td>-0.002327</td>\n",
       "      <td>NaN</td>\n",
       "      <td>NaN</td>\n",
       "      <td>0.002330</td>\n",
       "      <td>0.984215</td>\n",
       "    </tr>\n",
       "  </tbody>\n",
       "</table>\n",
       "</div>"
      ],
      "text/plain": [
       "               price   returns  position  strategy  position_5  strategy_5  \\\n",
       "date                                                                         \n",
       "2010-01-04  3536.221       NaN       NaN       NaN         NaN         NaN   \n",
       "2010-01-05  3564.038  0.007836       1.0       NaN         NaN         NaN   \n",
       "2010-01-06  3542.209 -0.006144      -1.0 -0.006144         NaN         NaN   \n",
       "2010-01-07  3472.313 -0.019930      -1.0  0.019930         NaN         NaN   \n",
       "2010-01-08  3480.403  0.002327       1.0 -0.002327         NaN         NaN   \n",
       "\n",
       "            returns_dis  returns_dis_cum  \n",
       "date                                      \n",
       "2010-01-04          NaN              NaN  \n",
       "2010-01-05     0.007866         1.007866  \n",
       "2010-01-06    -0.006125         1.001693  \n",
       "2010-01-07    -0.019732         0.981928  \n",
       "2010-01-08     0.002330         0.984215  "
      ]
     },
     "execution_count": 21,
     "metadata": {},
     "output_type": "execute_result"
    }
   ],
   "source": [
    "data['returns_dis'] = data['price'] / data['price'].shift(1)-1\n",
    "#data['returns_dis'] = data['price'].pct_change()\n",
    "data['returns_dis_cum'] = (data['returns_dis']+1).cumprod()\n",
    "data.head()"
   ]
  },
  {
   "cell_type": "code",
   "execution_count": 22,
   "metadata": {},
   "outputs": [
    {
     "data": {
      "text/plain": [
       "list"
      ]
     },
     "execution_count": 22,
     "metadata": {},
     "output_type": "execute_result"
    }
   ],
   "source": [
    "price_plot = ['returns_dis_cum']    #这是用来绘制图形的一个list\n",
    "type(price_plot)"
   ]
  },
  {
   "cell_type": "code",
   "execution_count": 23,
   "metadata": {
    "collapsed": true
   },
   "outputs": [],
   "source": [
    "for days in [10,20,30,60]:\n",
    "#     data['position_%d' % days] = np.sign(data['returns'].rolling(days).mean())\n",
    "    price_plot.append('sty_cumr_%dd' % days)\n",
    "    data['position_%dd' % days] = np.where(data['returns'].rolling(days).mean()>0,1,-1)\n",
    "    data['strategy_%dd' % days] = data['position_%dd' % days].shift(1) * data['returns']\n",
    "    data['sty_cumr_%dd' % days] = (data['strategy_%dd' % days]+1).cumprod()"
   ]
  },
  {
   "cell_type": "code",
   "execution_count": 24,
   "metadata": {},
   "outputs": [
    {
     "data": {
      "text/html": [
       "<div>\n",
       "<style>\n",
       "    .dataframe thead tr:only-child th {\n",
       "        text-align: right;\n",
       "    }\n",
       "\n",
       "    .dataframe thead th {\n",
       "        text-align: left;\n",
       "    }\n",
       "\n",
       "    .dataframe tbody tr th {\n",
       "        vertical-align: top;\n",
       "    }\n",
       "</style>\n",
       "<table border=\"1\" class=\"dataframe\">\n",
       "  <thead>\n",
       "    <tr style=\"text-align: right;\">\n",
       "      <th></th>\n",
       "      <th>price</th>\n",
       "      <th>returns</th>\n",
       "      <th>position</th>\n",
       "      <th>strategy</th>\n",
       "      <th>position_5</th>\n",
       "      <th>strategy_5</th>\n",
       "      <th>returns_dis</th>\n",
       "      <th>returns_dis_cum</th>\n",
       "      <th>position_10d</th>\n",
       "      <th>strategy_10d</th>\n",
       "      <th>sty_cumr_10d</th>\n",
       "      <th>position_20d</th>\n",
       "      <th>strategy_20d</th>\n",
       "      <th>sty_cumr_20d</th>\n",
       "      <th>position_30d</th>\n",
       "      <th>strategy_30d</th>\n",
       "      <th>sty_cumr_30d</th>\n",
       "      <th>position_60d</th>\n",
       "      <th>strategy_60d</th>\n",
       "      <th>sty_cumr_60d</th>\n",
       "    </tr>\n",
       "    <tr>\n",
       "      <th>date</th>\n",
       "      <th></th>\n",
       "      <th></th>\n",
       "      <th></th>\n",
       "      <th></th>\n",
       "      <th></th>\n",
       "      <th></th>\n",
       "      <th></th>\n",
       "      <th></th>\n",
       "      <th></th>\n",
       "      <th></th>\n",
       "      <th></th>\n",
       "      <th></th>\n",
       "      <th></th>\n",
       "      <th></th>\n",
       "      <th></th>\n",
       "      <th></th>\n",
       "      <th></th>\n",
       "      <th></th>\n",
       "      <th></th>\n",
       "      <th></th>\n",
       "    </tr>\n",
       "  </thead>\n",
       "  <tbody>\n",
       "    <tr>\n",
       "      <th>2010-01-04</th>\n",
       "      <td>3536.221</td>\n",
       "      <td>NaN</td>\n",
       "      <td>NaN</td>\n",
       "      <td>NaN</td>\n",
       "      <td>NaN</td>\n",
       "      <td>NaN</td>\n",
       "      <td>NaN</td>\n",
       "      <td>NaN</td>\n",
       "      <td>-1</td>\n",
       "      <td>NaN</td>\n",
       "      <td>NaN</td>\n",
       "      <td>-1</td>\n",
       "      <td>NaN</td>\n",
       "      <td>NaN</td>\n",
       "      <td>-1</td>\n",
       "      <td>NaN</td>\n",
       "      <td>NaN</td>\n",
       "      <td>-1</td>\n",
       "      <td>NaN</td>\n",
       "      <td>NaN</td>\n",
       "    </tr>\n",
       "    <tr>\n",
       "      <th>2010-01-05</th>\n",
       "      <td>3564.038</td>\n",
       "      <td>0.007836</td>\n",
       "      <td>1.0</td>\n",
       "      <td>NaN</td>\n",
       "      <td>NaN</td>\n",
       "      <td>NaN</td>\n",
       "      <td>0.007866</td>\n",
       "      <td>1.007866</td>\n",
       "      <td>-1</td>\n",
       "      <td>-0.007836</td>\n",
       "      <td>0.992164</td>\n",
       "      <td>-1</td>\n",
       "      <td>-0.007836</td>\n",
       "      <td>0.992164</td>\n",
       "      <td>-1</td>\n",
       "      <td>-0.007836</td>\n",
       "      <td>0.992164</td>\n",
       "      <td>-1</td>\n",
       "      <td>-0.007836</td>\n",
       "      <td>0.992164</td>\n",
       "    </tr>\n",
       "    <tr>\n",
       "      <th>2010-01-06</th>\n",
       "      <td>3542.209</td>\n",
       "      <td>-0.006144</td>\n",
       "      <td>-1.0</td>\n",
       "      <td>-0.006144</td>\n",
       "      <td>NaN</td>\n",
       "      <td>NaN</td>\n",
       "      <td>-0.006125</td>\n",
       "      <td>1.001693</td>\n",
       "      <td>-1</td>\n",
       "      <td>0.006144</td>\n",
       "      <td>0.998260</td>\n",
       "      <td>-1</td>\n",
       "      <td>0.006144</td>\n",
       "      <td>0.998260</td>\n",
       "      <td>-1</td>\n",
       "      <td>0.006144</td>\n",
       "      <td>0.998260</td>\n",
       "      <td>-1</td>\n",
       "      <td>0.006144</td>\n",
       "      <td>0.998260</td>\n",
       "    </tr>\n",
       "    <tr>\n",
       "      <th>2010-01-07</th>\n",
       "      <td>3472.313</td>\n",
       "      <td>-0.019930</td>\n",
       "      <td>-1.0</td>\n",
       "      <td>0.019930</td>\n",
       "      <td>NaN</td>\n",
       "      <td>NaN</td>\n",
       "      <td>-0.019732</td>\n",
       "      <td>0.981928</td>\n",
       "      <td>-1</td>\n",
       "      <td>0.019930</td>\n",
       "      <td>1.018155</td>\n",
       "      <td>-1</td>\n",
       "      <td>0.019930</td>\n",
       "      <td>1.018155</td>\n",
       "      <td>-1</td>\n",
       "      <td>0.019930</td>\n",
       "      <td>1.018155</td>\n",
       "      <td>-1</td>\n",
       "      <td>0.019930</td>\n",
       "      <td>1.018155</td>\n",
       "    </tr>\n",
       "    <tr>\n",
       "      <th>2010-01-08</th>\n",
       "      <td>3480.403</td>\n",
       "      <td>0.002327</td>\n",
       "      <td>1.0</td>\n",
       "      <td>-0.002327</td>\n",
       "      <td>NaN</td>\n",
       "      <td>NaN</td>\n",
       "      <td>0.002330</td>\n",
       "      <td>0.984215</td>\n",
       "      <td>-1</td>\n",
       "      <td>-0.002327</td>\n",
       "      <td>1.015785</td>\n",
       "      <td>-1</td>\n",
       "      <td>-0.002327</td>\n",
       "      <td>1.015785</td>\n",
       "      <td>-1</td>\n",
       "      <td>-0.002327</td>\n",
       "      <td>1.015785</td>\n",
       "      <td>-1</td>\n",
       "      <td>-0.002327</td>\n",
       "      <td>1.015785</td>\n",
       "    </tr>\n",
       "  </tbody>\n",
       "</table>\n",
       "</div>"
      ],
      "text/plain": [
       "               price   returns  position  strategy  position_5  strategy_5  \\\n",
       "date                                                                         \n",
       "2010-01-04  3536.221       NaN       NaN       NaN         NaN         NaN   \n",
       "2010-01-05  3564.038  0.007836       1.0       NaN         NaN         NaN   \n",
       "2010-01-06  3542.209 -0.006144      -1.0 -0.006144         NaN         NaN   \n",
       "2010-01-07  3472.313 -0.019930      -1.0  0.019930         NaN         NaN   \n",
       "2010-01-08  3480.403  0.002327       1.0 -0.002327         NaN         NaN   \n",
       "\n",
       "            returns_dis  returns_dis_cum  position_10d  strategy_10d  \\\n",
       "date                                                                   \n",
       "2010-01-04          NaN              NaN            -1           NaN   \n",
       "2010-01-05     0.007866         1.007866            -1     -0.007836   \n",
       "2010-01-06    -0.006125         1.001693            -1      0.006144   \n",
       "2010-01-07    -0.019732         0.981928            -1      0.019930   \n",
       "2010-01-08     0.002330         0.984215            -1     -0.002327   \n",
       "\n",
       "            sty_cumr_10d  position_20d  strategy_20d  sty_cumr_20d  \\\n",
       "date                                                                 \n",
       "2010-01-04           NaN            -1           NaN           NaN   \n",
       "2010-01-05      0.992164            -1     -0.007836      0.992164   \n",
       "2010-01-06      0.998260            -1      0.006144      0.998260   \n",
       "2010-01-07      1.018155            -1      0.019930      1.018155   \n",
       "2010-01-08      1.015785            -1     -0.002327      1.015785   \n",
       "\n",
       "            position_30d  strategy_30d  sty_cumr_30d  position_60d  \\\n",
       "date                                                                 \n",
       "2010-01-04            -1           NaN           NaN            -1   \n",
       "2010-01-05            -1     -0.007836      0.992164            -1   \n",
       "2010-01-06            -1      0.006144      0.998260            -1   \n",
       "2010-01-07            -1      0.019930      1.018155            -1   \n",
       "2010-01-08            -1     -0.002327      1.015785            -1   \n",
       "\n",
       "            strategy_60d  sty_cumr_60d  \n",
       "date                                    \n",
       "2010-01-04           NaN           NaN  \n",
       "2010-01-05     -0.007836      0.992164  \n",
       "2010-01-06      0.006144      0.998260  \n",
       "2010-01-07      0.019930      1.018155  \n",
       "2010-01-08     -0.002327      1.015785  "
      ]
     },
     "execution_count": 24,
     "metadata": {},
     "output_type": "execute_result"
    }
   ],
   "source": [
    "data.head()"
   ]
  },
  {
   "cell_type": "code",
   "execution_count": 25,
   "metadata": {},
   "outputs": [
    {
     "data": {
      "text/plain": [
       "['returns_dis_cum',\n",
       " 'sty_cumr_10d',\n",
       " 'sty_cumr_20d',\n",
       " 'sty_cumr_30d',\n",
       " 'sty_cumr_60d']"
      ]
     },
     "execution_count": 25,
     "metadata": {},
     "output_type": "execute_result"
    }
   ],
   "source": [
    "price_plot"
   ]
  },
  {
   "cell_type": "code",
   "execution_count": 26,
   "metadata": {},
   "outputs": [
    {
     "data": {
      "text/plain": [
       "<matplotlib.axes._subplots.AxesSubplot at 0x15e9b550550>"
      ]
     },
     "execution_count": 26,
     "metadata": {},
     "output_type": "execute_result"
    },
    {
     "data": {
      "image/png": "[encoded data removed]",
      "text/plain": [
       "<matplotlib.figure.Figure at 0x15e9b590a58>"
      ]
     },
     "metadata": {},
     "output_type": "display_data"
    }
   ],
   "source": [
    "data[price_plot].dropna().plot(\n",
    "    title='HS300 Multi Parameters Momuntum Strategy',\n",
    "    figsize=(10, 6), style=['--', '--', '--', '--','--'])"
   ]
  },
  {
   "cell_type": "markdown",
   "metadata": {},
   "source": [
    "#### 5. 策略优化思路之—— High Frequency Data用于Momentum策略"
   ]
  },
  {
   "cell_type": "code",
   "execution_count": null,
   "metadata": {
    "collapsed": true
   },
   "outputs": [],
   "source": [
    "hs300_hf = ts.get_k_data('hs300', ktype='5')"
   ]
  },
  {
   "cell_type": "code",
   "execution_count": null,
   "metadata": {
    "collapsed": true
   },
   "outputs": [],
   "source": [
    "hs300_hf.head(10)"
   ]
  },
  {
   "cell_type": "code",
   "execution_count": null,
   "metadata": {
    "collapsed": true
   },
   "outputs": [],
   "source": [
    "hs300_hf.set_index('date',inplace = True)"
   ]
  },
  {
   "cell_type": "code",
   "execution_count": null,
   "metadata": {
    "collapsed": true
   },
   "outputs": [],
   "source": [
    "hs300_hf.index = hs300_hf.index.to_datetime()      "
   ]
  },
  {
   "cell_type": "code",
   "execution_count": null,
   "metadata": {
    "collapsed": true
   },
   "outputs": [],
   "source": [
    "hs300_hf.info()            #Datetime时间数据；"
   ]
  },
  {
   "cell_type": "code",
   "execution_count": null,
   "metadata": {
    "collapsed": true
   },
   "outputs": [],
   "source": [
    "hs300_hf['2017-07-15':'2017-07-28'].head()"
   ]
  },
  {
   "cell_type": "code",
   "execution_count": null,
   "metadata": {
    "collapsed": true
   },
   "outputs": [],
   "source": [
    "hs300_hf['returns'] = np.log(hs300_hf['close'] / hs300_hf['close'].shift(1))"
   ]
  },
  {
   "cell_type": "code",
   "execution_count": null,
   "metadata": {
    "collapsed": true
   },
   "outputs": [],
   "source": [
    "hs300_hf['position'] = np.sign(hs300_hf['returns'].rolling(10).mean())     #10个5分钟平均；"
   ]
  },
  {
   "cell_type": "code",
   "execution_count": null,
   "metadata": {
    "collapsed": true
   },
   "outputs": [],
   "source": [
    "hs300_hf['strategy'] = hs300_hf['position'].shift(1) * hs300_hf['returns']"
   ]
  },
  {
   "cell_type": "code",
   "execution_count": null,
   "metadata": {
    "collapsed": true
   },
   "outputs": [],
   "source": [
    "hs300_hf[['returns', 'strategy']].dropna().cumsum().apply(np.exp).plot(figsize=(10, 6),\n",
    "                                                                       style=['--', '--'])"
   ]
  },
  {
   "cell_type": "markdown",
   "metadata": {},
   "source": [
    "声明：本资料仅限内部研究和交流使用，切勿外传。"
   ]
  }
 ],
 "metadata": {
  "anaconda-cloud": {},
  "kernelspec": {
   "display_name": "Python 2",
   "language": "python",
   "name": "python2"
  },
  "language_info": {
   "codemirror_mode": {
    "name": "ipython",
    "version": 2
   },
   "file_extension": ".py",
   "mimetype": "text/x-python",
   "name": "python",
   "nbconvert_exporter": "python",
   "pygments_lexer": "ipython2",
   "version": "2.7.13"
  }
 },
 "nbformat": 4,
 "nbformat_minor": 1
}
