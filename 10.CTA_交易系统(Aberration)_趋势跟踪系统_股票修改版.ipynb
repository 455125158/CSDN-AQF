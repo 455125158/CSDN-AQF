{
 "cells": [
  {
   "cell_type": "markdown",
   "metadata": {},
   "source": [
    "# 交易系统(Aberration)——趋势跟踪系统股票修改版\n",
    "\n",
    "---\n",
    "\n",
    "### 1.基本原理\n",
    "\n",
    "    股票价格多围绕某一价格上下波动。当股价远离基准价格超过一定幅度则可能形成长期趋势，而短期股价偏离基准价格过多则可能因过度偏离均值而形成大幅回撤甚至趋势终止。\n",
    "    \n",
    "    由此以观察期内均线作为基准价格，以观察期内标准差的一定倍数作为开仓价或止盈价，采用移动止损方式进行止损构建此策略。\n",
    "\n",
    "\n",
    "- 开仓条件    \n",
    "  \n",
    "  当日最高价 > 均价 +　开仓触发倍数 × 观察期内标准差最大值\n",
    "\n",
    "\n",
    "- 止盈条件  \n",
    "  \n",
    "  当天最高价 > 均价 + 止盈触发倍数 × 观察期内标准差最大值\n",
    "    \n",
    "\n",
    "- 止损条件  \n",
    "  \n",
    "  同样结合了移动止损和固定止损两种止损模式；\n",
    "  \n",
    "  当天最低价 < max(均价， 开仓价 - 止损触发倍数 × 开仓时观察期内标准差最大值) \n",
    "  \n",
    "  均价：移动止损；开仓价 - 止损触发倍数 × 开仓时观察期内标准差最大值：固定止损\n",
    "  \n",
    "  注意：\n",
    "  \n",
    "  \n",
    "- 考虑了开仓当天也触发了平仓信号的近似处理；  \n",
    "\n",
    "\n",
    "- 用观察期内标准差的最大值开仓的原因是：在震荡行情的时候，避免频繁开仓；更加稳定\n",
    "  "
   ]
  },
  {
   "cell_type": "markdown",
   "metadata": {},
   "source": [
    "---\n",
    "\n",
    "### 2.策略实现"
   ]
  },
  {
   "cell_type": "markdown",
   "metadata": {},
   "source": [
    "### 2.1 数据获取"
   ]
  },
  {
   "cell_type": "code",
   "execution_count": 1,
   "metadata": {},
   "outputs": [],
   "source": [
    "import pandas as pd\n",
    "import numpy as np\n",
    "import tushare as ts\n",
    "import matplotlib\n",
    "import matplotlib.pyplot as plt\n",
    "%matplotlib inline"
   ]
  },
  {
   "cell_type": "code",
   "execution_count": 2,
   "metadata": {
    "collapsed": true
   },
   "outputs": [],
   "source": [
    "code = '002397'\n",
    "length = 10             #  参考周期长度，用于确定计算标准差及移动平均的周期\n",
    "open_trigger = 0.5      #  价格向上偏离均线0.5倍观察期内标准差的最大值开仓；\n",
    "stopwin_trigger = 3     #  价格向上偏离均线3倍观察期内标准差的最大值止盈；\n",
    "stoplose_trigger = 1    #  移动止损；跌破均值移动止损；固定止损：开仓价向下偏离观察期内标准差的最大值；"
   ]
  },
  {
   "cell_type": "code",
   "execution_count": 3,
   "metadata": {
    "scrolled": false
   },
   "outputs": [],
   "source": [
    "data = ts.get_k_data(code, '2012-01-01', '2017-01-01')"
   ]
  },
  {
   "cell_type": "code",
   "execution_count": 4,
   "metadata": {
    "scrolled": true
   },
   "outputs": [
    {
     "data": {
      "text/html": [
       "<div>\n",
       "<style>\n",
       "    .dataframe thead tr:only-child th {\n",
       "        text-align: right;\n",
       "    }\n",
       "\n",
       "    .dataframe thead th {\n",
       "        text-align: left;\n",
       "    }\n",
       "\n",
       "    .dataframe tbody tr th {\n",
       "        vertical-align: top;\n",
       "    }\n",
       "</style>\n",
       "<table border=\"1\" class=\"dataframe\">\n",
       "  <thead>\n",
       "    <tr style=\"text-align: right;\">\n",
       "      <th></th>\n",
       "      <th>date</th>\n",
       "      <th>open</th>\n",
       "      <th>close</th>\n",
       "      <th>high</th>\n",
       "      <th>low</th>\n",
       "      <th>volume</th>\n",
       "      <th>code</th>\n",
       "    </tr>\n",
       "  </thead>\n",
       "  <tbody>\n",
       "    <tr>\n",
       "      <th>0</th>\n",
       "      <td>2012-01-04</td>\n",
       "      <td>5.437</td>\n",
       "      <td>5.183</td>\n",
       "      <td>5.437</td>\n",
       "      <td>5.148</td>\n",
       "      <td>1512.0</td>\n",
       "      <td>002397</td>\n",
       "    </tr>\n",
       "    <tr>\n",
       "      <th>1</th>\n",
       "      <td>2012-01-05</td>\n",
       "      <td>5.084</td>\n",
       "      <td>4.955</td>\n",
       "      <td>5.084</td>\n",
       "      <td>4.800</td>\n",
       "      <td>3389.0</td>\n",
       "      <td>002397</td>\n",
       "    </tr>\n",
       "    <tr>\n",
       "      <th>2</th>\n",
       "      <td>2012-01-06</td>\n",
       "      <td>4.806</td>\n",
       "      <td>4.918</td>\n",
       "      <td>4.941</td>\n",
       "      <td>4.692</td>\n",
       "      <td>4425.0</td>\n",
       "      <td>002397</td>\n",
       "    </tr>\n",
       "    <tr>\n",
       "      <th>3</th>\n",
       "      <td>2012-01-09</td>\n",
       "      <td>4.797</td>\n",
       "      <td>4.970</td>\n",
       "      <td>4.980</td>\n",
       "      <td>4.679</td>\n",
       "      <td>2581.0</td>\n",
       "      <td>002397</td>\n",
       "    </tr>\n",
       "    <tr>\n",
       "      <th>4</th>\n",
       "      <td>2012-01-10</td>\n",
       "      <td>4.897</td>\n",
       "      <td>5.140</td>\n",
       "      <td>5.148</td>\n",
       "      <td>4.793</td>\n",
       "      <td>2586.0</td>\n",
       "      <td>002397</td>\n",
       "    </tr>\n",
       "  </tbody>\n",
       "</table>\n",
       "</div>"
      ],
      "text/plain": [
       "         date   open  close   high    low  volume    code\n",
       "0  2012-01-04  5.437  5.183  5.437  5.148  1512.0  002397\n",
       "1  2012-01-05  5.084  4.955  5.084  4.800  3389.0  002397\n",
       "2  2012-01-06  4.806  4.918  4.941  4.692  4425.0  002397\n",
       "3  2012-01-09  4.797  4.970  4.980  4.679  2581.0  002397\n",
       "4  2012-01-10  4.897  5.140  5.148  4.793  2586.0  002397"
      ]
     },
     "execution_count": 4,
     "metadata": {},
     "output_type": "execute_result"
    }
   ],
   "source": [
    "data.head()"
   ]
  },
  {
   "cell_type": "markdown",
   "metadata": {},
   "source": [
    "### 2.2 策略数据处理"
   ]
  },
  {
   "cell_type": "code",
   "execution_count": 5,
   "metadata": {
    "collapsed": true
   },
   "outputs": [],
   "source": [
    "data['pct_change'] = data['close'].pct_change()"
   ]
  },
  {
   "cell_type": "code",
   "execution_count": 6,
   "metadata": {
    "collapsed": true
   },
   "outputs": [],
   "source": [
    "data['ma'] = data['close'].rolling(window=length, min_periods=3).mean()"
   ]
  },
  {
   "cell_type": "code",
   "execution_count": 7,
   "metadata": {
    "collapsed": true
   },
   "outputs": [],
   "source": [
    "data['std'] = data['close'].rolling(window=length, min_periods=3).std()"
   ]
  },
  {
   "cell_type": "code",
   "execution_count": 8,
   "metadata": {},
   "outputs": [
    {
     "data": {
      "text/html": [
       "<div>\n",
       "<style>\n",
       "    .dataframe thead tr:only-child th {\n",
       "        text-align: right;\n",
       "    }\n",
       "\n",
       "    .dataframe thead th {\n",
       "        text-align: left;\n",
       "    }\n",
       "\n",
       "    .dataframe tbody tr th {\n",
       "        vertical-align: top;\n",
       "    }\n",
       "</style>\n",
       "<table border=\"1\" class=\"dataframe\">\n",
       "  <thead>\n",
       "    <tr style=\"text-align: right;\">\n",
       "      <th></th>\n",
       "      <th>date</th>\n",
       "      <th>open</th>\n",
       "      <th>close</th>\n",
       "      <th>high</th>\n",
       "      <th>low</th>\n",
       "      <th>volume</th>\n",
       "      <th>code</th>\n",
       "      <th>pct_change</th>\n",
       "      <th>ma</th>\n",
       "      <th>std</th>\n",
       "    </tr>\n",
       "  </thead>\n",
       "  <tbody>\n",
       "    <tr>\n",
       "      <th>0</th>\n",
       "      <td>2012-01-04</td>\n",
       "      <td>5.437</td>\n",
       "      <td>5.183</td>\n",
       "      <td>5.437</td>\n",
       "      <td>5.148</td>\n",
       "      <td>1512.0</td>\n",
       "      <td>002397</td>\n",
       "      <td>NaN</td>\n",
       "      <td>NaN</td>\n",
       "      <td>NaN</td>\n",
       "    </tr>\n",
       "    <tr>\n",
       "      <th>1</th>\n",
       "      <td>2012-01-05</td>\n",
       "      <td>5.084</td>\n",
       "      <td>4.955</td>\n",
       "      <td>5.084</td>\n",
       "      <td>4.800</td>\n",
       "      <td>3389.0</td>\n",
       "      <td>002397</td>\n",
       "      <td>-0.043990</td>\n",
       "      <td>NaN</td>\n",
       "      <td>NaN</td>\n",
       "    </tr>\n",
       "    <tr>\n",
       "      <th>2</th>\n",
       "      <td>2012-01-06</td>\n",
       "      <td>4.806</td>\n",
       "      <td>4.918</td>\n",
       "      <td>4.941</td>\n",
       "      <td>4.692</td>\n",
       "      <td>4425.0</td>\n",
       "      <td>002397</td>\n",
       "      <td>-0.007467</td>\n",
       "      <td>5.018667</td>\n",
       "      <td>0.143514</td>\n",
       "    </tr>\n",
       "    <tr>\n",
       "      <th>3</th>\n",
       "      <td>2012-01-09</td>\n",
       "      <td>4.797</td>\n",
       "      <td>4.970</td>\n",
       "      <td>4.980</td>\n",
       "      <td>4.679</td>\n",
       "      <td>2581.0</td>\n",
       "      <td>002397</td>\n",
       "      <td>0.010573</td>\n",
       "      <td>5.006500</td>\n",
       "      <td>0.119679</td>\n",
       "    </tr>\n",
       "    <tr>\n",
       "      <th>4</th>\n",
       "      <td>2012-01-10</td>\n",
       "      <td>4.897</td>\n",
       "      <td>5.140</td>\n",
       "      <td>5.148</td>\n",
       "      <td>4.793</td>\n",
       "      <td>2586.0</td>\n",
       "      <td>002397</td>\n",
       "      <td>0.034205</td>\n",
       "      <td>5.033200</td>\n",
       "      <td>0.119611</td>\n",
       "    </tr>\n",
       "  </tbody>\n",
       "</table>\n",
       "</div>"
      ],
      "text/plain": [
       "         date   open  close   high    low  volume    code  pct_change  \\\n",
       "0  2012-01-04  5.437  5.183  5.437  5.148  1512.0  002397         NaN   \n",
       "1  2012-01-05  5.084  4.955  5.084  4.800  3389.0  002397   -0.043990   \n",
       "2  2012-01-06  4.806  4.918  4.941  4.692  4425.0  002397   -0.007467   \n",
       "3  2012-01-09  4.797  4.970  4.980  4.679  2581.0  002397    0.010573   \n",
       "4  2012-01-10  4.897  5.140  5.148  4.793  2586.0  002397    0.034205   \n",
       "\n",
       "         ma       std  \n",
       "0       NaN       NaN  \n",
       "1       NaN       NaN  \n",
       "2  5.018667  0.143514  \n",
       "3  5.006500  0.119679  \n",
       "4  5.033200  0.119611  "
      ]
     },
     "execution_count": 8,
     "metadata": {},
     "output_type": "execute_result"
    }
   ],
   "source": [
    "data.head()"
   ]
  },
  {
   "cell_type": "markdown",
   "metadata": {},
   "source": [
    "以观察期内标准差最大值作为标准差限制指标"
   ]
  },
  {
   "cell_type": "code",
   "execution_count": 9,
   "metadata": {
    "collapsed": true
   },
   "outputs": [],
   "source": [
    "data['std_limit'] = data['std'].rolling(window=length).max()      #观察期内标准差的最大值"
   ]
  },
  {
   "cell_type": "markdown",
   "metadata": {},
   "source": [
    "由于实盘中当天的日线级别参考指标未实现，例如当日ma计算时使用当日收盘价，因此应使用昨日参考指标指导当日交易"
   ]
  },
  {
   "cell_type": "code",
   "execution_count": 14,
   "metadata": {
    "collapsed": true
   },
   "outputs": [],
   "source": [
    "data['yes_ma'] = data['ma'].shift(1)"
   ]
  },
  {
   "cell_type": "code",
   "execution_count": 15,
   "metadata": {
    "collapsed": true
   },
   "outputs": [],
   "source": [
    "data['yes_std_limit'] = data['std_limit'].shift(1)            "
   ]
  },
  {
   "cell_type": "markdown",
   "metadata": {},
   "source": [
    "计算当日开仓价和止盈价"
   ]
  },
  {
   "cell_type": "code",
   "execution_count": 16,
   "metadata": {
    "collapsed": true
   },
   "outputs": [],
   "source": [
    "data['long_open_price'] = data['yes_ma'] + data['yes_std_limit']*open_trigger    #计算每一天满足条件的开仓价；"
   ]
  },
  {
   "cell_type": "code",
   "execution_count": 17,
   "metadata": {
    "collapsed": true
   },
   "outputs": [],
   "source": [
    "data['long_stopwin_price'] = data['yes_ma'] + data['yes_std_limit']*stopwin_trigger   #计算每一天满足条件的止盈价；价格高于3倍观察期内标准差最大值止盈；"
   ]
  },
  {
   "cell_type": "code",
   "execution_count": 18,
   "metadata": {},
   "outputs": [
    {
     "data": {
      "text/html": [
       "<div>\n",
       "<style>\n",
       "    .dataframe thead tr:only-child th {\n",
       "        text-align: right;\n",
       "    }\n",
       "\n",
       "    .dataframe thead th {\n",
       "        text-align: left;\n",
       "    }\n",
       "\n",
       "    .dataframe tbody tr th {\n",
       "        vertical-align: top;\n",
       "    }\n",
       "</style>\n",
       "<table border=\"1\" class=\"dataframe\">\n",
       "  <thead>\n",
       "    <tr style=\"text-align: right;\">\n",
       "      <th></th>\n",
       "      <th>date</th>\n",
       "      <th>pct_change</th>\n",
       "      <th>ma</th>\n",
       "      <th>std</th>\n",
       "      <th>yes_std_limit</th>\n",
       "      <th>long_open_price</th>\n",
       "      <th>long_stopwin_price</th>\n",
       "    </tr>\n",
       "  </thead>\n",
       "  <tbody>\n",
       "    <tr>\n",
       "      <th>10</th>\n",
       "      <td>2012-01-18</td>\n",
       "      <td>-0.021863</td>\n",
       "      <td>4.7478</td>\n",
       "      <td>0.33236</td>\n",
       "      <td>NaN</td>\n",
       "      <td>NaN</td>\n",
       "      <td>NaN</td>\n",
       "    </tr>\n",
       "    <tr>\n",
       "      <th>11</th>\n",
       "      <td>2012-01-19</td>\n",
       "      <td>0.032829</td>\n",
       "      <td>4.6959</td>\n",
       "      <td>0.33690</td>\n",
       "      <td>NaN</td>\n",
       "      <td>NaN</td>\n",
       "      <td>NaN</td>\n",
       "    </tr>\n",
       "    <tr>\n",
       "      <th>12</th>\n",
       "      <td>2012-01-20</td>\n",
       "      <td>0.017809</td>\n",
       "      <td>4.6556</td>\n",
       "      <td>0.33144</td>\n",
       "      <td>0.3369</td>\n",
       "      <td>4.86435</td>\n",
       "      <td>5.706601</td>\n",
       "    </tr>\n",
       "    <tr>\n",
       "      <th>13</th>\n",
       "      <td>2012-01-30</td>\n",
       "      <td>-0.007309</td>\n",
       "      <td>4.6068</td>\n",
       "      <td>0.31555</td>\n",
       "      <td>0.3369</td>\n",
       "      <td>4.82405</td>\n",
       "      <td>5.666301</td>\n",
       "    </tr>\n",
       "    <tr>\n",
       "      <th>14</th>\n",
       "      <td>2012-01-31</td>\n",
       "      <td>0.000000</td>\n",
       "      <td>4.5410</td>\n",
       "      <td>0.25476</td>\n",
       "      <td>0.3369</td>\n",
       "      <td>4.77525</td>\n",
       "      <td>5.617501</td>\n",
       "    </tr>\n",
       "    <tr>\n",
       "      <th>15</th>\n",
       "      <td>2012-02-01</td>\n",
       "      <td>-0.013833</td>\n",
       "      <td>4.4781</td>\n",
       "      <td>0.18292</td>\n",
       "      <td>0.3369</td>\n",
       "      <td>4.70945</td>\n",
       "      <td>5.551701</td>\n",
       "    </tr>\n",
       "  </tbody>\n",
       "</table>\n",
       "</div>"
      ],
      "text/plain": [
       "          date  pct_change      ma      std  yes_std_limit  long_open_price  \\\n",
       "10  2012-01-18   -0.021863  4.7478  0.33236            NaN              NaN   \n",
       "11  2012-01-19    0.032829  4.6959  0.33690            NaN              NaN   \n",
       "12  2012-01-20    0.017809  4.6556  0.33144         0.3369          4.86435   \n",
       "13  2012-01-30   -0.007309  4.6068  0.31555         0.3369          4.82405   \n",
       "14  2012-01-31    0.000000  4.5410  0.25476         0.3369          4.77525   \n",
       "15  2012-02-01   -0.013833  4.4781  0.18292         0.3369          4.70945   \n",
       "\n",
       "    long_stopwin_price  \n",
       "10                 NaN  \n",
       "11                 NaN  \n",
       "12            5.706601  \n",
       "13            5.666301  \n",
       "14            5.617501  \n",
       "15            5.551701  "
      ]
     },
     "execution_count": 18,
     "metadata": {},
     "output_type": "execute_result"
    }
   ],
   "source": [
    "data.loc[10:15, ['date', 'pct_change', 'ma', 'std', 'yes_std_limit','long_open_price', 'long_stopwin_price']]"
   ]
  },
  {
   "cell_type": "markdown",
   "metadata": {},
   "source": [
    "### 2.3 计算开仓、止盈信号"
   ]
  },
  {
   "cell_type": "code",
   "execution_count": 20,
   "metadata": {},
   "outputs": [],
   "source": [
    "data['long_open_signal'] = np.where(data['high'] > data['long_open_price'], 1, 0)"
   ]
  },
  {
   "cell_type": "code",
   "execution_count": 21,
   "metadata": {
    "collapsed": true
   },
   "outputs": [],
   "source": [
    "data['long_stopwin_signal'] = np.where(data['high'] > data['long_stopwin_price'], 1, 0)"
   ]
  },
  {
   "cell_type": "code",
   "execution_count": 22,
   "metadata": {
    "scrolled": true
   },
   "outputs": [
    {
     "data": {
      "text/html": [
       "<div>\n",
       "<style>\n",
       "    .dataframe thead tr:only-child th {\n",
       "        text-align: right;\n",
       "    }\n",
       "\n",
       "    .dataframe thead th {\n",
       "        text-align: left;\n",
       "    }\n",
       "\n",
       "    .dataframe tbody tr th {\n",
       "        vertical-align: top;\n",
       "    }\n",
       "</style>\n",
       "<table border=\"1\" class=\"dataframe\">\n",
       "  <thead>\n",
       "    <tr style=\"text-align: right;\">\n",
       "      <th></th>\n",
       "      <th>date</th>\n",
       "      <th>long_open_signal</th>\n",
       "      <th>long_stopwin_signal</th>\n",
       "    </tr>\n",
       "  </thead>\n",
       "  <tbody>\n",
       "    <tr>\n",
       "      <th>0</th>\n",
       "      <td>2012-01-04</td>\n",
       "      <td>0</td>\n",
       "      <td>0</td>\n",
       "    </tr>\n",
       "    <tr>\n",
       "      <th>1</th>\n",
       "      <td>2012-01-05</td>\n",
       "      <td>0</td>\n",
       "      <td>0</td>\n",
       "    </tr>\n",
       "    <tr>\n",
       "      <th>2</th>\n",
       "      <td>2012-01-06</td>\n",
       "      <td>0</td>\n",
       "      <td>0</td>\n",
       "    </tr>\n",
       "    <tr>\n",
       "      <th>3</th>\n",
       "      <td>2012-01-09</td>\n",
       "      <td>0</td>\n",
       "      <td>0</td>\n",
       "    </tr>\n",
       "    <tr>\n",
       "      <th>4</th>\n",
       "      <td>2012-01-10</td>\n",
       "      <td>0</td>\n",
       "      <td>0</td>\n",
       "    </tr>\n",
       "  </tbody>\n",
       "</table>\n",
       "</div>"
      ],
      "text/plain": [
       "         date  long_open_signal  long_stopwin_signal\n",
       "0  2012-01-04                 0                    0\n",
       "1  2012-01-05                 0                    0\n",
       "2  2012-01-06                 0                    0\n",
       "3  2012-01-09                 0                    0\n",
       "4  2012-01-10                 0                    0"
      ]
     },
     "execution_count": 22,
     "metadata": {},
     "output_type": "execute_result"
    }
   ],
   "source": [
    "data[['date', 'long_open_signal', 'long_stopwin_signal']].head()"
   ]
  },
  {
   "cell_type": "markdown",
   "metadata": {},
   "source": [
    "### 3 策略逻辑\n",
    "\n",
    "#### 策略要点：  \n",
    "    1. 当天有持仓，满足平仓条件进行平仓后，当天不再开仓；\n",
    "    2. 当天无持仓，满足开仓条件则进行开仓。开仓当日如果同时满足平仓条件，以第二日开盘价平仓；"
   ]
  },
  {
   "cell_type": "code",
   "execution_count": 24,
   "metadata": {
    "collapsed": true
   },
   "outputs": [],
   "source": [
    "flag = 0    # 记录持仓情况，0代表空仓，1代表持仓；"
   ]
  },
  {
   "cell_type": "code",
   "execution_count": 33,
   "metadata": {},
   "outputs": [],
   "source": [
    "# 前12个数据因均值计算无效所以不作为待处理数据\n",
    "# 终止数据选择倒数第二个以防止当天止盈情况会以第二天开盘价平仓导致无数据情况发生\n",
    "# 最后一天不再进行操作；可能会面临最后一天开仓之后当天触发平仓，要用下一天开盘价卖出，无法得到； \n",
    "\n",
    "for i in range(12, (len(data)-1)):\n",
    "        # 有持仓进行平仓\n",
    "        if flag == 1:\n",
    "            # 计算止损价格，取均线和开仓价下移一定倍数标准差，两者的最大值作为止损价\n",
    "            stoplose_price = max(data.loc[i,'yes_ma'], long_open_price - long_open_delta * stoplose_trigger)    \n",
    "            # 多头止盈并计算当日收益率\n",
    "            if data.loc[i, 'long_stopwin_signal']: \n",
    "                data.loc[i, 'return'] = data.loc[i, 'long_stopwin_price']/data.loc[i-1, 'close'] - 1\n",
    "                flag = 0\n",
    "                \n",
    "            \n",
    "            # 多头移动止损并计算当日收益率\n",
    "            elif data.loc[i, 'low'] < stoplose_price:    \n",
    "            # 考虑到当天开盘价就低于止损价，无法止损的情况；\n",
    "            # 谨慎起见，在计算收益时，取止损价和开盘价的最小值；\n",
    "                data.loc[i, 'return'] = min(data.loc[i, 'open'], stoplose_price)/data.loc[i-1, 'close'] - 1\n",
    "                flag = 0\n",
    "            # 多头持仓并计算收益率\n",
    "            \n",
    "            else: \n",
    "                data.loc[i, 'return'] = data.loc[i, 'close']/data.loc[i-1, 'close'] - 1\n",
    "\n",
    "        \n",
    "        \n",
    "        \n",
    "        # 无持仓进行开仓\n",
    "        else:\n",
    "            if data.loc[i, 'long_open_signal']:    \n",
    "                #开仓时标记flag=1\n",
    "                flag = 1\n",
    "                # 需要比较当天的开盘价和开仓价，当开盘价高于开仓价时，只能以开盘价进行开仓，不能用开仓价;\n",
    "                # 否则对导致策略收益高估；\n",
    "                # 记录开仓价\n",
    "                long_open_price = max(data.loc[i, 'open'], data.loc[i, 'long_open_price'])    \n",
    "#                 long_open_price = data.loc[i, 'long_open_price']  #存在问题；\n",
    "                # 记录开仓时的10天内的标准差的最大值；是为了计算固定止损的价格；\n",
    "                long_open_delta = data.loc[i, 'yes_std_limit']\n",
    "                # 记录当天盈利情况\n",
    "                data.loc[i, 'return'] = data.loc[i, 'close']/long_open_price - 1\n",
    "                \n",
    "                                \n",
    "                # 计算止损价：多头移动止损，以均线和开仓价减一定倍数标准差，两者的最大值作为止损点\n",
    "                stoplose_price = max(data.loc[i,'yes_ma'], long_open_price - long_open_delta * stoplose_trigger)\n",
    "                # 如果开仓当天同时满足平仓条件，则以第二天开盘价平仓\n",
    "                # 这里做了一定的近似处理；\n",
    "                if (data.loc[i, 'low'] < stoplose_price     # 满足止损条件\n",
    "                 or data.loc[i, 'long_stopwin_signal']):    # 满足止盈条件\n",
    "                        # 记录此次操作盈利情况并将收益记录在开仓日\n",
    "                        data.loc[i, 'return'] = data.loc[i+1, 'open']/long_open_price - 1    \n",
    "                        flag = 0\n",
    "                "
   ]
  },
  {
   "cell_type": "code",
   "execution_count": 34,
   "metadata": {},
   "outputs": [
    {
     "data": {
      "text/html": [
       "<div>\n",
       "<style>\n",
       "    .dataframe thead tr:only-child th {\n",
       "        text-align: right;\n",
       "    }\n",
       "\n",
       "    .dataframe thead th {\n",
       "        text-align: left;\n",
       "    }\n",
       "\n",
       "    .dataframe tbody tr th {\n",
       "        vertical-align: top;\n",
       "    }\n",
       "</style>\n",
       "<table border=\"1\" class=\"dataframe\">\n",
       "  <thead>\n",
       "    <tr style=\"text-align: right;\">\n",
       "      <th></th>\n",
       "      <th>date</th>\n",
       "      <th>open</th>\n",
       "      <th>close</th>\n",
       "      <th>high</th>\n",
       "      <th>low</th>\n",
       "      <th>volume</th>\n",
       "      <th>code</th>\n",
       "      <th>pct_change</th>\n",
       "      <th>ma</th>\n",
       "      <th>std</th>\n",
       "      <th>std_limit</th>\n",
       "      <th>yes_ma</th>\n",
       "      <th>yes_std_limit</th>\n",
       "      <th>long_open_price</th>\n",
       "      <th>long_stopwin_price</th>\n",
       "      <th>long_open_signal</th>\n",
       "      <th>long_stopwin_signal</th>\n",
       "      <th>return</th>\n",
       "      <th>strategy_return</th>\n",
       "      <th>stock_return</th>\n",
       "    </tr>\n",
       "  </thead>\n",
       "  <tbody>\n",
       "    <tr>\n",
       "      <th>1200</th>\n",
       "      <td>2016-12-26</td>\n",
       "      <td>7.970</td>\n",
       "      <td>8.029</td>\n",
       "      <td>8.059</td>\n",
       "      <td>7.882</td>\n",
       "      <td>22182.0</td>\n",
       "      <td>002397</td>\n",
       "      <td>0.006140</td>\n",
       "      <td>8.0835</td>\n",
       "      <td>0.081495</td>\n",
       "      <td>0.437591</td>\n",
       "      <td>8.0786</td>\n",
       "      <td>0.437591</td>\n",
       "      <td>8.297395</td>\n",
       "      <td>9.391372</td>\n",
       "      <td>0</td>\n",
       "      <td>0</td>\n",
       "      <td>0.0</td>\n",
       "      <td>177.535371</td>\n",
       "      <td>1.549103</td>\n",
       "    </tr>\n",
       "    <tr>\n",
       "      <th>1201</th>\n",
       "      <td>2016-12-27</td>\n",
       "      <td>8.039</td>\n",
       "      <td>8.049</td>\n",
       "      <td>8.089</td>\n",
       "      <td>8.010</td>\n",
       "      <td>14229.0</td>\n",
       "      <td>002397</td>\n",
       "      <td>0.002491</td>\n",
       "      <td>8.0884</td>\n",
       "      <td>0.077280</td>\n",
       "      <td>0.437591</td>\n",
       "      <td>8.0835</td>\n",
       "      <td>0.437591</td>\n",
       "      <td>8.302295</td>\n",
       "      <td>9.396272</td>\n",
       "      <td>0</td>\n",
       "      <td>0</td>\n",
       "      <td>0.0</td>\n",
       "      <td>177.535371</td>\n",
       "      <td>1.552962</td>\n",
       "    </tr>\n",
       "    <tr>\n",
       "      <th>1202</th>\n",
       "      <td>2016-12-28</td>\n",
       "      <td>8.039</td>\n",
       "      <td>7.990</td>\n",
       "      <td>8.089</td>\n",
       "      <td>7.960</td>\n",
       "      <td>16192.0</td>\n",
       "      <td>002397</td>\n",
       "      <td>-0.007330</td>\n",
       "      <td>8.0904</td>\n",
       "      <td>0.074068</td>\n",
       "      <td>0.368969</td>\n",
       "      <td>8.0884</td>\n",
       "      <td>0.437591</td>\n",
       "      <td>8.307195</td>\n",
       "      <td>9.401172</td>\n",
       "      <td>0</td>\n",
       "      <td>0</td>\n",
       "      <td>0.0</td>\n",
       "      <td>177.535371</td>\n",
       "      <td>1.541578</td>\n",
       "    </tr>\n",
       "    <tr>\n",
       "      <th>1203</th>\n",
       "      <td>2016-12-29</td>\n",
       "      <td>7.960</td>\n",
       "      <td>8.000</td>\n",
       "      <td>8.049</td>\n",
       "      <td>7.960</td>\n",
       "      <td>13150.0</td>\n",
       "      <td>002397</td>\n",
       "      <td>0.001252</td>\n",
       "      <td>8.0806</td>\n",
       "      <td>0.079252</td>\n",
       "      <td>0.262750</td>\n",
       "      <td>8.0904</td>\n",
       "      <td>0.368969</td>\n",
       "      <td>8.274885</td>\n",
       "      <td>9.197308</td>\n",
       "      <td>0</td>\n",
       "      <td>0</td>\n",
       "      <td>0.0</td>\n",
       "      <td>177.535371</td>\n",
       "      <td>1.543508</td>\n",
       "    </tr>\n",
       "    <tr>\n",
       "      <th>1204</th>\n",
       "      <td>2016-12-30</td>\n",
       "      <td>8.000</td>\n",
       "      <td>7.980</td>\n",
       "      <td>8.029</td>\n",
       "      <td>7.960</td>\n",
       "      <td>11531.0</td>\n",
       "      <td>002397</td>\n",
       "      <td>-0.002500</td>\n",
       "      <td>8.0609</td>\n",
       "      <td>0.077082</td>\n",
       "      <td>0.231091</td>\n",
       "      <td>8.0806</td>\n",
       "      <td>0.262750</td>\n",
       "      <td>8.211975</td>\n",
       "      <td>8.868850</td>\n",
       "      <td>0</td>\n",
       "      <td>0</td>\n",
       "      <td>0.0</td>\n",
       "      <td>177.535371</td>\n",
       "      <td>1.539649</td>\n",
       "    </tr>\n",
       "  </tbody>\n",
       "</table>\n",
       "</div>"
      ],
      "text/plain": [
       "            date   open  close   high    low   volume    code  pct_change  \\\n",
       "1200  2016-12-26  7.970  8.029  8.059  7.882  22182.0  002397    0.006140   \n",
       "1201  2016-12-27  8.039  8.049  8.089  8.010  14229.0  002397    0.002491   \n",
       "1202  2016-12-28  8.039  7.990  8.089  7.960  16192.0  002397   -0.007330   \n",
       "1203  2016-12-29  7.960  8.000  8.049  7.960  13150.0  002397    0.001252   \n",
       "1204  2016-12-30  8.000  7.980  8.029  7.960  11531.0  002397   -0.002500   \n",
       "\n",
       "          ma       std  std_limit  yes_ma  yes_std_limit  long_open_price  \\\n",
       "1200  8.0835  0.081495   0.437591  8.0786       0.437591         8.297395   \n",
       "1201  8.0884  0.077280   0.437591  8.0835       0.437591         8.302295   \n",
       "1202  8.0904  0.074068   0.368969  8.0884       0.437591         8.307195   \n",
       "1203  8.0806  0.079252   0.262750  8.0904       0.368969         8.274885   \n",
       "1204  8.0609  0.077082   0.231091  8.0806       0.262750         8.211975   \n",
       "\n",
       "      long_stopwin_price  long_open_signal  long_stopwin_signal  return  \\\n",
       "1200            9.391372                 0                    0     0.0   \n",
       "1201            9.396272                 0                    0     0.0   \n",
       "1202            9.401172                 0                    0     0.0   \n",
       "1203            9.197308                 0                    0     0.0   \n",
       "1204            8.868850                 0                    0     0.0   \n",
       "\n",
       "      strategy_return  stock_return  \n",
       "1200       177.535371      1.549103  \n",
       "1201       177.535371      1.552962  \n",
       "1202       177.535371      1.541578  \n",
       "1203       177.535371      1.543508  \n",
       "1204       177.535371      1.539649  "
      ]
     },
     "execution_count": 34,
     "metadata": {},
     "output_type": "execute_result"
    }
   ],
   "source": [
    "data.tail()"
   ]
  },
  {
   "cell_type": "markdown",
   "metadata": {},
   "source": [
    "### 4 计算策略收益率并可视化"
   ]
  },
  {
   "cell_type": "code",
   "execution_count": 35,
   "metadata": {},
   "outputs": [],
   "source": [
    "data['return'].fillna(0, inplace=True)\n",
    "data['strategy_return'] = (data['return'] + 1).cumprod()\n",
    "data['stock_return'] = (data['pct_change'] + 1).cumprod()"
   ]
  },
  {
   "cell_type": "code",
   "execution_count": 36,
   "metadata": {
    "scrolled": true
   },
   "outputs": [
    {
     "data": {
      "image/png": "[encoded data removed]",
      "text/plain": [
       "<matplotlib.figure.Figure at 0x1d7fd6495c0>"
      ]
     },
     "metadata": {},
     "output_type": "display_data"
    }
   ],
   "source": [
    "matplotlib.style.use('ggplot')\n",
    "fig = plt.figure(figsize=(10,5))\n",
    "ax = fig.add_subplot(1,1,1)\n",
    "ax.plot(data.stock_return)\n",
    "ax.plot(data.strategy_return)\n",
    "plt.title(code)\n",
    "plt.legend()\n",
    "plt.show()"
   ]
  },
  {
   "cell_type": "markdown",
   "metadata": {},
   "source": [
    "---\n",
    "\n",
    "### 5.策略编写与实盘差异\n",
    "\n",
    "#### 5.1 策略账号操作对盘面价格的影响\n",
    "\n",
    "    未考虑交易滑点。实盘交易中，如果满足操作条件时实盘成交量较小，策略账号进行操作可能会对盘面价格产生一定影响，导致当次操作成交均价偏离期望成交价，由此产生滑点（一般对收益产生负影响, 策略回测表现优于实盘表现）。\n",
    "    \n",
    "#### 5.2 交易费用\n",
    "     \n",
    "    未考虑交易手续费。对于交易频率较低的策略，交易手续费对回测结果的影响较小；对于交易频率较高的策略，交易手续费可能决定策略回测结果是否为正。（策略回测表现优于实盘表现）\n",
    "    \n",
    "#### 5.3 策略回测执行价实盘是否执行\n",
    "\n",
    "1.期望开仓价是否执行  \n",
    "\n",
    "    本策略回测中期望开仓价定为均线价格加一定倍数的标准差，实盘中可能面临以下情况：\n",
    " - 开仓执行当日开盘时涨停，实盘中无法成交。\n",
    " - 期望开仓价恰好为涨停价，实盘中可能无法成交。\n",
    " - 期望开仓价距离涨停价较近，实盘中价格上涨突破期望开仓价时因交易不活跃等原因直接跳价到涨停价或因交易系统产生并发送交易信号时间慢于价格快速上涨到涨停的时间，实盘中无法成交。  \n",
    "    \n",
    "    \n",
    "2.期望止损价是否执行  \n",
    "\n",
    "    本策略回测中期望止损价定为均线价格和开仓价格的最大值，实盘中可能面临以下情况：\n",
    " - 止损执行当日开盘价低于期望止损价，满足止损条件，应以开盘价执行。（期望止损价更优于开盘价，策略回测表现优于实盘表现）\n",
    " - 止损执行当日开盘时跌停，实盘中无法成交。\n",
    " - 期望止损价恰好为跌停价，实盘中可能无法成交。\n",
    " - 期望止损价距离跌停板较近，实盘中价格下跌突破期望止损价时因交易不活跃等原因直接跳价到跌停价或因交易系统产生并发送交易信号时间慢于价格快速下跌到跌停的时间，实盘中无法成交。  \n",
    "    \n",
    "    \n",
    "#### 5.4 策略信号执行优先级\n",
    "\n",
    "    因策略回测使用日线级数据，当日内同时满足多个操作条件，如同时满足开仓信号、止损信号，回测将无法辨别信号出现先后顺序，由此使用信号执行优先级方式近似计算策略收益情况。该种方式将产生一定偏差。\n",
    "    \n",
    "1.开仓当日同时满足开仓、止损条件\n",
    "\n",
    "    策略回测中，如开仓当日同时满足开仓、止损条件，则假设进行一次完整交易，先开仓，后以第二日开盘价平仓。\n",
    "    实盘中当日如果先满足止损条件（此时未持仓），后满足开仓条件，则第二日不进行平仓操作。（因策略收益特点类似看涨期权，因此实盘表现可能优于策略回测表现）\n",
    "    \n",
    "2.平仓当日同时满足止盈、止损条件\n",
    "\n",
    "    策略回测中，如平仓当日同时满足止盈、止损条件，则以止盈价进行平仓。\n",
    "    实盘中当日如果先满足止损条件（此时有持仓），后满足止盈条件，则以止损价进行平仓操作。（策略回测表现优于实盘表现）"
   ]
  },
  {
   "cell_type": "markdown",
   "metadata": {},
   "source": [
    "声明：本资料仅供内部学习交流使用，切勿外传。"
   ]
  }
 ],
 "metadata": {
  "kernelspec": {
   "display_name": "Python 3",
   "language": "python",
   "name": "python3"
  },
  "language_info": {
   "codemirror_mode": {
    "name": "ipython",
    "version": 3
   },
   "file_extension": ".py",
   "mimetype": "text/x-python",
   "name": "python",
   "nbconvert_exporter": "python",
   "pygments_lexer": "ipython3",
   "version": "3.7.1"
  }
 },
 "nbformat": 4,
 "nbformat_minor": 2
}
