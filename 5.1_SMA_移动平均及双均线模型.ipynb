{
 "cells": [
  {
   "cell_type": "markdown",
   "metadata": {},
   "source": [
    "# SMA_移动平均及双均线模型"
   ]
  },
  {
   "cell_type": "code",
   "execution_count": 1,
   "metadata": {
    "collapsed": true
   },
   "outputs": [],
   "source": [
    "%matplotlib inline\n",
    "import matplotlib.pyplot as plt\n",
    "import seaborn\n",
    "# plt.style.use('seaborn')             ggplot;\n",
    "import matplotlib as mpl\n",
    "mpl.rcParams['font.family'] = 'serif'               #解决一些字体显示乱码问题\n",
    "import warnings; warnings.simplefilter('ignore')       #忽略警告信息；"
   ]
  },
  {
   "cell_type": "code",
   "execution_count": 2,
   "metadata": {
    "collapsed": true
   },
   "outputs": [],
   "source": [
    "import numpy as np\n",
    "import pandas as pd\n",
    "import tushare as ts"
   ]
  },
  {
   "cell_type": "markdown",
   "metadata": {},
   "source": [
    "### 前导知识学习"
   ]
  },
  {
   "cell_type": "code",
   "execution_count": 14,
   "metadata": {
    "collapsed": true
   },
   "outputs": [],
   "source": [
    "# Tushare API\n",
    "data = ts.get_k_data('600030', start = '2010-01-01', end='2017-06-30') "
   ]
  },
  {
   "cell_type": "code",
   "execution_count": 15,
   "metadata": {},
   "outputs": [
    {
     "data": {
      "text/html": [
       "<div>\n",
       "<style>\n",
       "    .dataframe thead tr:only-child th {\n",
       "        text-align: right;\n",
       "    }\n",
       "\n",
       "    .dataframe thead th {\n",
       "        text-align: left;\n",
       "    }\n",
       "\n",
       "    .dataframe tbody tr th {\n",
       "        vertical-align: top;\n",
       "    }\n",
       "</style>\n",
       "<table border=\"1\" class=\"dataframe\">\n",
       "  <thead>\n",
       "    <tr style=\"text-align: right;\">\n",
       "      <th></th>\n",
       "      <th>date</th>\n",
       "      <th>open</th>\n",
       "      <th>close</th>\n",
       "      <th>high</th>\n",
       "      <th>low</th>\n",
       "      <th>volume</th>\n",
       "      <th>code</th>\n",
       "    </tr>\n",
       "  </thead>\n",
       "  <tbody>\n",
       "    <tr>\n",
       "      <th>0</th>\n",
       "      <td>2010-01-04</td>\n",
       "      <td>17.809</td>\n",
       "      <td>17.413</td>\n",
       "      <td>17.975</td>\n",
       "      <td>17.386</td>\n",
       "      <td>1106207.58</td>\n",
       "      <td>600030</td>\n",
       "    </tr>\n",
       "    <tr>\n",
       "      <th>1</th>\n",
       "      <td>2010-01-05</td>\n",
       "      <td>17.558</td>\n",
       "      <td>18.265</td>\n",
       "      <td>18.421</td>\n",
       "      <td>17.146</td>\n",
       "      <td>2093915.41</td>\n",
       "      <td>600030</td>\n",
       "    </tr>\n",
       "    <tr>\n",
       "      <th>2</th>\n",
       "      <td>2010-01-06</td>\n",
       "      <td>18.365</td>\n",
       "      <td>18.053</td>\n",
       "      <td>18.449</td>\n",
       "      <td>18.031</td>\n",
       "      <td>1437889.30</td>\n",
       "      <td>600030</td>\n",
       "    </tr>\n",
       "    <tr>\n",
       "      <th>3</th>\n",
       "      <td>2010-01-07</td>\n",
       "      <td>18.042</td>\n",
       "      <td>17.614</td>\n",
       "      <td>18.298</td>\n",
       "      <td>17.475</td>\n",
       "      <td>1235592.34</td>\n",
       "      <td>600030</td>\n",
       "    </tr>\n",
       "    <tr>\n",
       "      <th>4</th>\n",
       "      <td>2010-01-08</td>\n",
       "      <td>17.497</td>\n",
       "      <td>17.953</td>\n",
       "      <td>18.009</td>\n",
       "      <td>17.419</td>\n",
       "      <td>1040929.92</td>\n",
       "      <td>600030</td>\n",
       "    </tr>\n",
       "  </tbody>\n",
       "</table>\n",
       "</div>"
      ],
      "text/plain": [
       "         date    open   close    high     low      volume    code\n",
       "0  2010-01-04  17.809  17.413  17.975  17.386  1106207.58  600030\n",
       "1  2010-01-05  17.558  18.265  18.421  17.146  2093915.41  600030\n",
       "2  2010-01-06  18.365  18.053  18.449  18.031  1437889.30  600030\n",
       "3  2010-01-07  18.042  17.614  18.298  17.475  1235592.34  600030\n",
       "4  2010-01-08  17.497  17.953  18.009  17.419  1040929.92  600030"
      ]
     },
     "execution_count": 15,
     "metadata": {},
     "output_type": "execute_result"
    }
   ],
   "source": [
    "data.head()    #DataFrame数据结构"
   ]
  },
  {
   "cell_type": "code",
   "execution_count": 16,
   "metadata": {
    "collapsed": true
   },
   "outputs": [],
   "source": [
    "data.set_index('date', inplace = True)   #设置索引；替换，真实覆盖；"
   ]
  },
  {
   "cell_type": "code",
   "execution_count": 17,
   "metadata": {},
   "outputs": [
    {
     "data": {
      "text/html": [
       "<div>\n",
       "<style>\n",
       "    .dataframe thead tr:only-child th {\n",
       "        text-align: right;\n",
       "    }\n",
       "\n",
       "    .dataframe thead th {\n",
       "        text-align: left;\n",
       "    }\n",
       "\n",
       "    .dataframe tbody tr th {\n",
       "        vertical-align: top;\n",
       "    }\n",
       "</style>\n",
       "<table border=\"1\" class=\"dataframe\">\n",
       "  <thead>\n",
       "    <tr style=\"text-align: right;\">\n",
       "      <th></th>\n",
       "      <th>open</th>\n",
       "      <th>close</th>\n",
       "      <th>high</th>\n",
       "      <th>low</th>\n",
       "      <th>volume</th>\n",
       "      <th>code</th>\n",
       "    </tr>\n",
       "    <tr>\n",
       "      <th>date</th>\n",
       "      <th></th>\n",
       "      <th></th>\n",
       "      <th></th>\n",
       "      <th></th>\n",
       "      <th></th>\n",
       "      <th></th>\n",
       "    </tr>\n",
       "  </thead>\n",
       "  <tbody>\n",
       "    <tr>\n",
       "      <th>2010-01-04</th>\n",
       "      <td>17.809</td>\n",
       "      <td>17.413</td>\n",
       "      <td>17.975</td>\n",
       "      <td>17.386</td>\n",
       "      <td>1106207.58</td>\n",
       "      <td>600030</td>\n",
       "    </tr>\n",
       "    <tr>\n",
       "      <th>2010-01-05</th>\n",
       "      <td>17.558</td>\n",
       "      <td>18.265</td>\n",
       "      <td>18.421</td>\n",
       "      <td>17.146</td>\n",
       "      <td>2093915.41</td>\n",
       "      <td>600030</td>\n",
       "    </tr>\n",
       "    <tr>\n",
       "      <th>2010-01-06</th>\n",
       "      <td>18.365</td>\n",
       "      <td>18.053</td>\n",
       "      <td>18.449</td>\n",
       "      <td>18.031</td>\n",
       "      <td>1437889.30</td>\n",
       "      <td>600030</td>\n",
       "    </tr>\n",
       "    <tr>\n",
       "      <th>2010-01-07</th>\n",
       "      <td>18.042</td>\n",
       "      <td>17.614</td>\n",
       "      <td>18.298</td>\n",
       "      <td>17.475</td>\n",
       "      <td>1235592.34</td>\n",
       "      <td>600030</td>\n",
       "    </tr>\n",
       "    <tr>\n",
       "      <th>2010-01-08</th>\n",
       "      <td>17.497</td>\n",
       "      <td>17.953</td>\n",
       "      <td>18.009</td>\n",
       "      <td>17.419</td>\n",
       "      <td>1040929.92</td>\n",
       "      <td>600030</td>\n",
       "    </tr>\n",
       "  </tbody>\n",
       "</table>\n",
       "</div>"
      ],
      "text/plain": [
       "              open   close    high     low      volume    code\n",
       "date                                                          \n",
       "2010-01-04  17.809  17.413  17.975  17.386  1106207.58  600030\n",
       "2010-01-05  17.558  18.265  18.421  17.146  2093915.41  600030\n",
       "2010-01-06  18.365  18.053  18.449  18.031  1437889.30  600030\n",
       "2010-01-07  18.042  17.614  18.298  17.475  1235592.34  600030\n",
       "2010-01-08  17.497  17.953  18.009  17.419  1040929.92  600030"
      ]
     },
     "execution_count": 17,
     "metadata": {},
     "output_type": "execute_result"
    }
   ],
   "source": [
    "data.head()"
   ]
  },
  {
   "cell_type": "code",
   "execution_count": 18,
   "metadata": {
    "collapsed": true
   },
   "outputs": [],
   "source": [
    "data['SMA_20'] = data['close'].rolling(20).mean()"
   ]
  },
  {
   "cell_type": "code",
   "execution_count": 19,
   "metadata": {
    "collapsed": true
   },
   "outputs": [],
   "source": [
    "data['SMA_60'] = data['close'].rolling(60).mean() "
   ]
  },
  {
   "cell_type": "code",
   "execution_count": 21,
   "metadata": {},
   "outputs": [
    {
     "data": {
      "text/html": [
       "<div>\n",
       "<style>\n",
       "    .dataframe thead tr:only-child th {\n",
       "        text-align: right;\n",
       "    }\n",
       "\n",
       "    .dataframe thead th {\n",
       "        text-align: left;\n",
       "    }\n",
       "\n",
       "    .dataframe tbody tr th {\n",
       "        vertical-align: top;\n",
       "    }\n",
       "</style>\n",
       "<table border=\"1\" class=\"dataframe\">\n",
       "  <thead>\n",
       "    <tr style=\"text-align: right;\">\n",
       "      <th></th>\n",
       "      <th>open</th>\n",
       "      <th>close</th>\n",
       "      <th>high</th>\n",
       "      <th>low</th>\n",
       "      <th>volume</th>\n",
       "      <th>code</th>\n",
       "      <th>SMA_20</th>\n",
       "      <th>SMA_60</th>\n",
       "    </tr>\n",
       "    <tr>\n",
       "      <th>date</th>\n",
       "      <th></th>\n",
       "      <th></th>\n",
       "      <th></th>\n",
       "      <th></th>\n",
       "      <th></th>\n",
       "      <th></th>\n",
       "      <th></th>\n",
       "      <th></th>\n",
       "    </tr>\n",
       "  </thead>\n",
       "  <tbody>\n",
       "    <tr>\n",
       "      <th>2017-06-26</th>\n",
       "      <td>16.94</td>\n",
       "      <td>17.26</td>\n",
       "      <td>17.41</td>\n",
       "      <td>16.90</td>\n",
       "      <td>2113195.0</td>\n",
       "      <td>600030</td>\n",
       "      <td>16.5325</td>\n",
       "      <td>16.188000</td>\n",
       "    </tr>\n",
       "    <tr>\n",
       "      <th>2017-06-27</th>\n",
       "      <td>17.25</td>\n",
       "      <td>17.11</td>\n",
       "      <td>17.28</td>\n",
       "      <td>17.06</td>\n",
       "      <td>924024.0</td>\n",
       "      <td>600030</td>\n",
       "      <td>16.5685</td>\n",
       "      <td>16.203333</td>\n",
       "    </tr>\n",
       "    <tr>\n",
       "      <th>2017-06-28</th>\n",
       "      <td>17.08</td>\n",
       "      <td>17.09</td>\n",
       "      <td>17.27</td>\n",
       "      <td>17.01</td>\n",
       "      <td>871050.0</td>\n",
       "      <td>600030</td>\n",
       "      <td>16.6010</td>\n",
       "      <td>16.219167</td>\n",
       "    </tr>\n",
       "    <tr>\n",
       "      <th>2017-06-29</th>\n",
       "      <td>17.08</td>\n",
       "      <td>17.09</td>\n",
       "      <td>17.19</td>\n",
       "      <td>16.98</td>\n",
       "      <td>668341.0</td>\n",
       "      <td>600030</td>\n",
       "      <td>16.6370</td>\n",
       "      <td>16.236167</td>\n",
       "    </tr>\n",
       "    <tr>\n",
       "      <th>2017-06-30</th>\n",
       "      <td>17.02</td>\n",
       "      <td>17.02</td>\n",
       "      <td>17.11</td>\n",
       "      <td>16.82</td>\n",
       "      <td>751091.0</td>\n",
       "      <td>600030</td>\n",
       "      <td>16.6690</td>\n",
       "      <td>16.251333</td>\n",
       "    </tr>\n",
       "  </tbody>\n",
       "</table>\n",
       "</div>"
      ],
      "text/plain": [
       "             open  close   high    low     volume    code   SMA_20     SMA_60\n",
       "date                                                                         \n",
       "2017-06-26  16.94  17.26  17.41  16.90  2113195.0  600030  16.5325  16.188000\n",
       "2017-06-27  17.25  17.11  17.28  17.06   924024.0  600030  16.5685  16.203333\n",
       "2017-06-28  17.08  17.09  17.27  17.01   871050.0  600030  16.6010  16.219167\n",
       "2017-06-29  17.08  17.09  17.19  16.98   668341.0  600030  16.6370  16.236167\n",
       "2017-06-30  17.02  17.02  17.11  16.82   751091.0  600030  16.6690  16.251333"
      ]
     },
     "execution_count": 21,
     "metadata": {},
     "output_type": "execute_result"
    }
   ],
   "source": [
    "data.tail()"
   ]
  },
  {
   "cell_type": "code",
   "execution_count": 23,
   "metadata": {},
   "outputs": [
    {
     "data": {
      "text/plain": [
       "<matplotlib.axes._subplots.AxesSubplot at 0x1ee3fcab6d8>"
      ]
     },
     "execution_count": 23,
     "metadata": {},
     "output_type": "execute_result"
    },
    {
     "data": {
      "image/png": "[encoded data removed]",
      "text/plain": [
       "<matplotlib.figure.Figure at 0x1ee3fcab320>"
      ]
     },
     "metadata": {},
     "output_type": "display_data"
    }
   ],
   "source": [
    "data[['close','SMA_20','SMA_60']].plot(figsize = (10,6))    #可视化"
   ]
  },
  {
   "cell_type": "code",
   "execution_count": 27,
   "metadata": {
    "collapsed": true
   },
   "outputs": [],
   "source": [
    "#计算股票return\n",
    "data['returns'] = np.log(data['close'] / data['close'].shift(1))     \n",
    "#Numpy向量化操作，避免循环；"
   ]
  },
  {
   "cell_type": "code",
   "execution_count": 25,
   "metadata": {
    "collapsed": true
   },
   "outputs": [],
   "source": [
    "data['returns_dis'] = data['close']/data['close'].shift(1)-1"
   ]
  },
  {
   "cell_type": "code",
   "execution_count": 29,
   "metadata": {
    "collapsed": true
   },
   "outputs": [],
   "source": [
    "data['return_dis2'] = data['close'].pct_change()"
   ]
  },
  {
   "cell_type": "code",
   "execution_count": 30,
   "metadata": {},
   "outputs": [
    {
     "data": {
      "text/html": [
       "<div>\n",
       "<style>\n",
       "    .dataframe thead tr:only-child th {\n",
       "        text-align: right;\n",
       "    }\n",
       "\n",
       "    .dataframe thead th {\n",
       "        text-align: left;\n",
       "    }\n",
       "\n",
       "    .dataframe tbody tr th {\n",
       "        vertical-align: top;\n",
       "    }\n",
       "</style>\n",
       "<table border=\"1\" class=\"dataframe\">\n",
       "  <thead>\n",
       "    <tr style=\"text-align: right;\">\n",
       "      <th></th>\n",
       "      <th>open</th>\n",
       "      <th>close</th>\n",
       "      <th>high</th>\n",
       "      <th>low</th>\n",
       "      <th>volume</th>\n",
       "      <th>code</th>\n",
       "      <th>SMA_20</th>\n",
       "      <th>SMA_60</th>\n",
       "      <th>yes_close</th>\n",
       "      <th>returns_dis</th>\n",
       "      <th>returns</th>\n",
       "      <th>return_dis2</th>\n",
       "    </tr>\n",
       "    <tr>\n",
       "      <th>date</th>\n",
       "      <th></th>\n",
       "      <th></th>\n",
       "      <th></th>\n",
       "      <th></th>\n",
       "      <th></th>\n",
       "      <th></th>\n",
       "      <th></th>\n",
       "      <th></th>\n",
       "      <th></th>\n",
       "      <th></th>\n",
       "      <th></th>\n",
       "      <th></th>\n",
       "    </tr>\n",
       "  </thead>\n",
       "  <tbody>\n",
       "    <tr>\n",
       "      <th>2010-01-04</th>\n",
       "      <td>17.809</td>\n",
       "      <td>17.413</td>\n",
       "      <td>17.975</td>\n",
       "      <td>17.386</td>\n",
       "      <td>1106207.58</td>\n",
       "      <td>600030</td>\n",
       "      <td>NaN</td>\n",
       "      <td>NaN</td>\n",
       "      <td>NaN</td>\n",
       "      <td>NaN</td>\n",
       "      <td>NaN</td>\n",
       "      <td>NaN</td>\n",
       "    </tr>\n",
       "    <tr>\n",
       "      <th>2010-01-05</th>\n",
       "      <td>17.558</td>\n",
       "      <td>18.265</td>\n",
       "      <td>18.421</td>\n",
       "      <td>17.146</td>\n",
       "      <td>2093915.41</td>\n",
       "      <td>600030</td>\n",
       "      <td>NaN</td>\n",
       "      <td>NaN</td>\n",
       "      <td>17.413</td>\n",
       "      <td>0.048929</td>\n",
       "      <td>0.047770</td>\n",
       "      <td>0.048929</td>\n",
       "    </tr>\n",
       "    <tr>\n",
       "      <th>2010-01-06</th>\n",
       "      <td>18.365</td>\n",
       "      <td>18.053</td>\n",
       "      <td>18.449</td>\n",
       "      <td>18.031</td>\n",
       "      <td>1437889.30</td>\n",
       "      <td>600030</td>\n",
       "      <td>NaN</td>\n",
       "      <td>NaN</td>\n",
       "      <td>18.265</td>\n",
       "      <td>-0.011607</td>\n",
       "      <td>-0.011675</td>\n",
       "      <td>-0.011607</td>\n",
       "    </tr>\n",
       "    <tr>\n",
       "      <th>2010-01-07</th>\n",
       "      <td>18.042</td>\n",
       "      <td>17.614</td>\n",
       "      <td>18.298</td>\n",
       "      <td>17.475</td>\n",
       "      <td>1235592.34</td>\n",
       "      <td>600030</td>\n",
       "      <td>NaN</td>\n",
       "      <td>NaN</td>\n",
       "      <td>18.053</td>\n",
       "      <td>-0.024317</td>\n",
       "      <td>-0.024618</td>\n",
       "      <td>-0.024317</td>\n",
       "    </tr>\n",
       "    <tr>\n",
       "      <th>2010-01-08</th>\n",
       "      <td>17.497</td>\n",
       "      <td>17.953</td>\n",
       "      <td>18.009</td>\n",
       "      <td>17.419</td>\n",
       "      <td>1040929.92</td>\n",
       "      <td>600030</td>\n",
       "      <td>NaN</td>\n",
       "      <td>NaN</td>\n",
       "      <td>17.614</td>\n",
       "      <td>0.019246</td>\n",
       "      <td>0.019063</td>\n",
       "      <td>0.019246</td>\n",
       "    </tr>\n",
       "  </tbody>\n",
       "</table>\n",
       "</div>"
      ],
      "text/plain": [
       "              open   close    high     low      volume    code  SMA_20  \\\n",
       "date                                                                     \n",
       "2010-01-04  17.809  17.413  17.975  17.386  1106207.58  600030     NaN   \n",
       "2010-01-05  17.558  18.265  18.421  17.146  2093915.41  600030     NaN   \n",
       "2010-01-06  18.365  18.053  18.449  18.031  1437889.30  600030     NaN   \n",
       "2010-01-07  18.042  17.614  18.298  17.475  1235592.34  600030     NaN   \n",
       "2010-01-08  17.497  17.953  18.009  17.419  1040929.92  600030     NaN   \n",
       "\n",
       "            SMA_60  yes_close  returns_dis   returns  return_dis2  \n",
       "date                                                               \n",
       "2010-01-04     NaN        NaN          NaN       NaN          NaN  \n",
       "2010-01-05     NaN     17.413     0.048929  0.047770     0.048929  \n",
       "2010-01-06     NaN     18.265    -0.011607 -0.011675    -0.011607  \n",
       "2010-01-07     NaN     18.053    -0.024317 -0.024618    -0.024317  \n",
       "2010-01-08     NaN     17.614     0.019246  0.019063     0.019246  "
      ]
     },
     "execution_count": 30,
     "metadata": {},
     "output_type": "execute_result"
    }
   ],
   "source": [
    "data.head()"
   ]
  },
  {
   "cell_type": "code",
   "execution_count": 32,
   "metadata": {
    "collapsed": true
   },
   "outputs": [],
   "source": [
    "data['position'] = np.where(data['SMA_20'] > data['SMA_60'], 1, -1)     "
   ]
  },
  {
   "cell_type": "code",
   "execution_count": 33,
   "metadata": {},
   "outputs": [
    {
     "data": {
      "text/plain": [
       "<matplotlib.axes._subplots.AxesSubplot at 0x1ee403864e0>"
      ]
     },
     "execution_count": 33,
     "metadata": {},
     "output_type": "execute_result"
    },
    {
     "data": {
      "image/png": "[encoded data removed]",
      "text/plain": [
       "<matplotlib.figure.Figure at 0x1ee4023deb8>"
      ]
     },
     "metadata": {},
     "output_type": "display_data"
    }
   ],
   "source": [
    "data['returns'].cumsum().apply(np.exp).plot(figsize=(10, 6))  \n",
    "#可视化；计算累计收益，连续下的算法；"
   ]
  },
  {
   "cell_type": "markdown",
   "metadata": {},
   "source": [
    "## SMA策略"
   ]
  },
  {
   "cell_type": "markdown",
   "metadata": {},
   "source": [
    "### 1. 数据准备 & 回测准备"
   ]
  },
  {
   "cell_type": "code",
   "execution_count": 34,
   "metadata": {
    "collapsed": true
   },
   "outputs": [],
   "source": [
    "import numpy as np\n",
    "import pandas as pd\n",
    "import tushare as ts"
   ]
  },
  {
   "cell_type": "code",
   "execution_count": 35,
   "metadata": {
    "collapsed": true
   },
   "outputs": [],
   "source": [
    "data = ts.get_k_data('hs300', start = '2010-01-01', end='2017-06-30')    \n",
    "#要用Tushare新的数据获取接口，不然数据获取有bug；"
   ]
  },
  {
   "cell_type": "code",
   "execution_count": 36,
   "metadata": {
    "collapsed": true
   },
   "outputs": [],
   "source": [
    "data = pd.DataFrame(data)             #把data转换成为DataFrame格式；"
   ]
  },
  {
   "cell_type": "code",
   "execution_count": 37,
   "metadata": {},
   "outputs": [
    {
     "data": {
      "text/html": [
       "<div>\n",
       "<style>\n",
       "    .dataframe thead tr:only-child th {\n",
       "        text-align: right;\n",
       "    }\n",
       "\n",
       "    .dataframe thead th {\n",
       "        text-align: left;\n",
       "    }\n",
       "\n",
       "    .dataframe tbody tr th {\n",
       "        vertical-align: top;\n",
       "    }\n",
       "</style>\n",
       "<table border=\"1\" class=\"dataframe\">\n",
       "  <thead>\n",
       "    <tr style=\"text-align: right;\">\n",
       "      <th></th>\n",
       "      <th>date</th>\n",
       "      <th>open</th>\n",
       "      <th>close</th>\n",
       "      <th>high</th>\n",
       "      <th>low</th>\n",
       "      <th>volume</th>\n",
       "      <th>code</th>\n",
       "    </tr>\n",
       "  </thead>\n",
       "  <tbody>\n",
       "    <tr>\n",
       "      <th>0</th>\n",
       "      <td>2010-01-04</td>\n",
       "      <td>3592.468</td>\n",
       "      <td>3536.221</td>\n",
       "      <td>3597.75</td>\n",
       "      <td>3535.38</td>\n",
       "      <td>66101080.0</td>\n",
       "      <td>hs300</td>\n",
       "    </tr>\n",
       "    <tr>\n",
       "      <th>1</th>\n",
       "      <td>2010-01-05</td>\n",
       "      <td>3545.186</td>\n",
       "      <td>3564.038</td>\n",
       "      <td>3577.53</td>\n",
       "      <td>3497.66</td>\n",
       "      <td>85809641.0</td>\n",
       "      <td>hs300</td>\n",
       "    </tr>\n",
       "    <tr>\n",
       "      <th>2</th>\n",
       "      <td>2010-01-06</td>\n",
       "      <td>3558.700</td>\n",
       "      <td>3542.209</td>\n",
       "      <td>3588.83</td>\n",
       "      <td>3541.17</td>\n",
       "      <td>78473125.0</td>\n",
       "      <td>hs300</td>\n",
       "    </tr>\n",
       "    <tr>\n",
       "      <th>3</th>\n",
       "      <td>2010-01-07</td>\n",
       "      <td>3543.160</td>\n",
       "      <td>3472.313</td>\n",
       "      <td>3558.56</td>\n",
       "      <td>3452.77</td>\n",
       "      <td>80350037.0</td>\n",
       "      <td>hs300</td>\n",
       "    </tr>\n",
       "    <tr>\n",
       "      <th>4</th>\n",
       "      <td>2010-01-08</td>\n",
       "      <td>3456.908</td>\n",
       "      <td>3480.403</td>\n",
       "      <td>3482.08</td>\n",
       "      <td>3426.70</td>\n",
       "      <td>60613533.0</td>\n",
       "      <td>hs300</td>\n",
       "    </tr>\n",
       "  </tbody>\n",
       "</table>\n",
       "</div>"
      ],
      "text/plain": [
       "         date      open     close     high      low      volume   code\n",
       "0  2010-01-04  3592.468  3536.221  3597.75  3535.38  66101080.0  hs300\n",
       "1  2010-01-05  3545.186  3564.038  3577.53  3497.66  85809641.0  hs300\n",
       "2  2010-01-06  3558.700  3542.209  3588.83  3541.17  78473125.0  hs300\n",
       "3  2010-01-07  3543.160  3472.313  3558.56  3452.77  80350037.0  hs300\n",
       "4  2010-01-08  3456.908  3480.403  3482.08  3426.70  60613533.0  hs300"
      ]
     },
     "execution_count": 37,
     "metadata": {},
     "output_type": "execute_result"
    }
   ],
   "source": [
    "data.head()"
   ]
  },
  {
   "cell_type": "code",
   "execution_count": 38,
   "metadata": {
    "collapsed": true
   },
   "outputs": [],
   "source": [
    "data.rename(columns={'close': 'price'}, inplace=True)      #dict"
   ]
  },
  {
   "cell_type": "code",
   "execution_count": 39,
   "metadata": {},
   "outputs": [
    {
     "name": "stdout",
     "output_type": "stream",
     "text": [
      "<class 'pandas.core.frame.DataFrame'>\n",
      "Int64Index: 1819 entries, 0 to 1818\n",
      "Data columns (total 7 columns):\n",
      "date      1819 non-null object\n",
      "open      1819 non-null float64\n",
      "price     1819 non-null float64\n",
      "high      1819 non-null float64\n",
      "low       1819 non-null float64\n",
      "volume    1819 non-null float64\n",
      "code      1819 non-null object\n",
      "dtypes: float64(5), object(2)\n",
      "memory usage: 113.7+ KB\n"
     ]
    }
   ],
   "source": [
    "data.info()"
   ]
  },
  {
   "cell_type": "code",
   "execution_count": 40,
   "metadata": {},
   "outputs": [
    {
     "data": {
      "text/html": [
       "<div>\n",
       "<style>\n",
       "    .dataframe thead tr:only-child th {\n",
       "        text-align: right;\n",
       "    }\n",
       "\n",
       "    .dataframe thead th {\n",
       "        text-align: left;\n",
       "    }\n",
       "\n",
       "    .dataframe tbody tr th {\n",
       "        vertical-align: top;\n",
       "    }\n",
       "</style>\n",
       "<table border=\"1\" class=\"dataframe\">\n",
       "  <thead>\n",
       "    <tr style=\"text-align: right;\">\n",
       "      <th></th>\n",
       "      <th>date</th>\n",
       "      <th>open</th>\n",
       "      <th>price</th>\n",
       "      <th>high</th>\n",
       "      <th>low</th>\n",
       "      <th>volume</th>\n",
       "      <th>code</th>\n",
       "    </tr>\n",
       "  </thead>\n",
       "  <tbody>\n",
       "    <tr>\n",
       "      <th>0</th>\n",
       "      <td>2010-01-04</td>\n",
       "      <td>3592.468</td>\n",
       "      <td>3536.221</td>\n",
       "      <td>3597.75</td>\n",
       "      <td>3535.38</td>\n",
       "      <td>66101080.0</td>\n",
       "      <td>hs300</td>\n",
       "    </tr>\n",
       "    <tr>\n",
       "      <th>1</th>\n",
       "      <td>2010-01-05</td>\n",
       "      <td>3545.186</td>\n",
       "      <td>3564.038</td>\n",
       "      <td>3577.53</td>\n",
       "      <td>3497.66</td>\n",
       "      <td>85809641.0</td>\n",
       "      <td>hs300</td>\n",
       "    </tr>\n",
       "    <tr>\n",
       "      <th>2</th>\n",
       "      <td>2010-01-06</td>\n",
       "      <td>3558.700</td>\n",
       "      <td>3542.209</td>\n",
       "      <td>3588.83</td>\n",
       "      <td>3541.17</td>\n",
       "      <td>78473125.0</td>\n",
       "      <td>hs300</td>\n",
       "    </tr>\n",
       "    <tr>\n",
       "      <th>3</th>\n",
       "      <td>2010-01-07</td>\n",
       "      <td>3543.160</td>\n",
       "      <td>3472.313</td>\n",
       "      <td>3558.56</td>\n",
       "      <td>3452.77</td>\n",
       "      <td>80350037.0</td>\n",
       "      <td>hs300</td>\n",
       "    </tr>\n",
       "    <tr>\n",
       "      <th>4</th>\n",
       "      <td>2010-01-08</td>\n",
       "      <td>3456.908</td>\n",
       "      <td>3480.403</td>\n",
       "      <td>3482.08</td>\n",
       "      <td>3426.70</td>\n",
       "      <td>60613533.0</td>\n",
       "      <td>hs300</td>\n",
       "    </tr>\n",
       "  </tbody>\n",
       "</table>\n",
       "</div>"
      ],
      "text/plain": [
       "         date      open     price     high      low      volume   code\n",
       "0  2010-01-04  3592.468  3536.221  3597.75  3535.38  66101080.0  hs300\n",
       "1  2010-01-05  3545.186  3564.038  3577.53  3497.66  85809641.0  hs300\n",
       "2  2010-01-06  3558.700  3542.209  3588.83  3541.17  78473125.0  hs300\n",
       "3  2010-01-07  3543.160  3472.313  3558.56  3452.77  80350037.0  hs300\n",
       "4  2010-01-08  3456.908  3480.403  3482.08  3426.70  60613533.0  hs300"
      ]
     },
     "execution_count": 40,
     "metadata": {},
     "output_type": "execute_result"
    }
   ],
   "source": [
    "data.head()"
   ]
  },
  {
   "cell_type": "code",
   "execution_count": 41,
   "metadata": {
    "collapsed": true
   },
   "outputs": [],
   "source": [
    "data.set_index('date', inplace = True)        #覆盖操作；"
   ]
  },
  {
   "cell_type": "code",
   "execution_count": null,
   "metadata": {
    "collapsed": true
   },
   "outputs": [],
   "source": [
    "data.set_index('date')                        #视图；"
   ]
  },
  {
   "cell_type": "code",
   "execution_count": 42,
   "metadata": {},
   "outputs": [
    {
     "data": {
      "text/html": [
       "<div>\n",
       "<style>\n",
       "    .dataframe thead tr:only-child th {\n",
       "        text-align: right;\n",
       "    }\n",
       "\n",
       "    .dataframe thead th {\n",
       "        text-align: left;\n",
       "    }\n",
       "\n",
       "    .dataframe tbody tr th {\n",
       "        vertical-align: top;\n",
       "    }\n",
       "</style>\n",
       "<table border=\"1\" class=\"dataframe\">\n",
       "  <thead>\n",
       "    <tr style=\"text-align: right;\">\n",
       "      <th></th>\n",
       "      <th>open</th>\n",
       "      <th>price</th>\n",
       "      <th>high</th>\n",
       "      <th>low</th>\n",
       "      <th>volume</th>\n",
       "      <th>code</th>\n",
       "    </tr>\n",
       "    <tr>\n",
       "      <th>date</th>\n",
       "      <th></th>\n",
       "      <th></th>\n",
       "      <th></th>\n",
       "      <th></th>\n",
       "      <th></th>\n",
       "      <th></th>\n",
       "    </tr>\n",
       "  </thead>\n",
       "  <tbody>\n",
       "    <tr>\n",
       "      <th>2010-01-04</th>\n",
       "      <td>3592.468</td>\n",
       "      <td>3536.221</td>\n",
       "      <td>3597.75</td>\n",
       "      <td>3535.38</td>\n",
       "      <td>66101080.0</td>\n",
       "      <td>hs300</td>\n",
       "    </tr>\n",
       "    <tr>\n",
       "      <th>2010-01-05</th>\n",
       "      <td>3545.186</td>\n",
       "      <td>3564.038</td>\n",
       "      <td>3577.53</td>\n",
       "      <td>3497.66</td>\n",
       "      <td>85809641.0</td>\n",
       "      <td>hs300</td>\n",
       "    </tr>\n",
       "    <tr>\n",
       "      <th>2010-01-06</th>\n",
       "      <td>3558.700</td>\n",
       "      <td>3542.209</td>\n",
       "      <td>3588.83</td>\n",
       "      <td>3541.17</td>\n",
       "      <td>78473125.0</td>\n",
       "      <td>hs300</td>\n",
       "    </tr>\n",
       "    <tr>\n",
       "      <th>2010-01-07</th>\n",
       "      <td>3543.160</td>\n",
       "      <td>3472.313</td>\n",
       "      <td>3558.56</td>\n",
       "      <td>3452.77</td>\n",
       "      <td>80350037.0</td>\n",
       "      <td>hs300</td>\n",
       "    </tr>\n",
       "    <tr>\n",
       "      <th>2010-01-08</th>\n",
       "      <td>3456.908</td>\n",
       "      <td>3480.403</td>\n",
       "      <td>3482.08</td>\n",
       "      <td>3426.70</td>\n",
       "      <td>60613533.0</td>\n",
       "      <td>hs300</td>\n",
       "    </tr>\n",
       "  </tbody>\n",
       "</table>\n",
       "</div>"
      ],
      "text/plain": [
       "                open     price     high      low      volume   code\n",
       "date                                                               \n",
       "2010-01-04  3592.468  3536.221  3597.75  3535.38  66101080.0  hs300\n",
       "2010-01-05  3545.186  3564.038  3577.53  3497.66  85809641.0  hs300\n",
       "2010-01-06  3558.700  3542.209  3588.83  3541.17  78473125.0  hs300\n",
       "2010-01-07  3543.160  3472.313  3558.56  3452.77  80350037.0  hs300\n",
       "2010-01-08  3456.908  3480.403  3482.08  3426.70  60613533.0  hs300"
      ]
     },
     "execution_count": 42,
     "metadata": {},
     "output_type": "execute_result"
    }
   ],
   "source": [
    "data.head()"
   ]
  },
  {
   "cell_type": "code",
   "execution_count": 43,
   "metadata": {
    "collapsed": true
   },
   "outputs": [],
   "source": [
    "data['SMA_10'] = data['price'].rolling(10).mean()      #必背"
   ]
  },
  {
   "cell_type": "code",
   "execution_count": 44,
   "metadata": {
    "collapsed": true
   },
   "outputs": [],
   "source": [
    "data['SMA_60'] = data['price'].rolling(60).mean()"
   ]
  },
  {
   "cell_type": "code",
   "execution_count": 45,
   "metadata": {},
   "outputs": [
    {
     "data": {
      "text/html": [
       "<div>\n",
       "<style>\n",
       "    .dataframe thead tr:only-child th {\n",
       "        text-align: right;\n",
       "    }\n",
       "\n",
       "    .dataframe thead th {\n",
       "        text-align: left;\n",
       "    }\n",
       "\n",
       "    .dataframe tbody tr th {\n",
       "        vertical-align: top;\n",
       "    }\n",
       "</style>\n",
       "<table border=\"1\" class=\"dataframe\">\n",
       "  <thead>\n",
       "    <tr style=\"text-align: right;\">\n",
       "      <th></th>\n",
       "      <th>open</th>\n",
       "      <th>price</th>\n",
       "      <th>high</th>\n",
       "      <th>low</th>\n",
       "      <th>volume</th>\n",
       "      <th>code</th>\n",
       "      <th>SMA_10</th>\n",
       "      <th>SMA_60</th>\n",
       "    </tr>\n",
       "    <tr>\n",
       "      <th>date</th>\n",
       "      <th></th>\n",
       "      <th></th>\n",
       "      <th></th>\n",
       "      <th></th>\n",
       "      <th></th>\n",
       "      <th></th>\n",
       "      <th></th>\n",
       "      <th></th>\n",
       "    </tr>\n",
       "  </thead>\n",
       "  <tbody>\n",
       "    <tr>\n",
       "      <th>2017-06-26</th>\n",
       "      <td>3627.02</td>\n",
       "      <td>3668.09</td>\n",
       "      <td>3671.94</td>\n",
       "      <td>3627.02</td>\n",
       "      <td>134637995.0</td>\n",
       "      <td>hs300</td>\n",
       "      <td>3573.455</td>\n",
       "      <td>3475.314500</td>\n",
       "    </tr>\n",
       "    <tr>\n",
       "      <th>2017-06-27</th>\n",
       "      <td>3665.58</td>\n",
       "      <td>3674.72</td>\n",
       "      <td>3676.53</td>\n",
       "      <td>3648.76</td>\n",
       "      <td>97558702.0</td>\n",
       "      <td>hs300</td>\n",
       "      <td>3582.700</td>\n",
       "      <td>3478.729667</td>\n",
       "    </tr>\n",
       "    <tr>\n",
       "      <th>2017-06-28</th>\n",
       "      <td>3664.16</td>\n",
       "      <td>3646.17</td>\n",
       "      <td>3672.19</td>\n",
       "      <td>3644.03</td>\n",
       "      <td>97920858.0</td>\n",
       "      <td>hs300</td>\n",
       "      <td>3593.787</td>\n",
       "      <td>3481.746000</td>\n",
       "    </tr>\n",
       "    <tr>\n",
       "      <th>2017-06-29</th>\n",
       "      <td>3649.25</td>\n",
       "      <td>3668.83</td>\n",
       "      <td>3669.13</td>\n",
       "      <td>3644.73</td>\n",
       "      <td>85589498.0</td>\n",
       "      <td>hs300</td>\n",
       "      <td>3607.791</td>\n",
       "      <td>3485.613833</td>\n",
       "    </tr>\n",
       "    <tr>\n",
       "      <th>2017-06-30</th>\n",
       "      <td>3654.73</td>\n",
       "      <td>3666.80</td>\n",
       "      <td>3669.76</td>\n",
       "      <td>3646.23</td>\n",
       "      <td>81510028.0</td>\n",
       "      <td>hs300</td>\n",
       "      <td>3622.595</td>\n",
       "      <td>3489.126333</td>\n",
       "    </tr>\n",
       "  </tbody>\n",
       "</table>\n",
       "</div>"
      ],
      "text/plain": [
       "               open    price     high      low       volume   code    SMA_10  \\\n",
       "date                                                                           \n",
       "2017-06-26  3627.02  3668.09  3671.94  3627.02  134637995.0  hs300  3573.455   \n",
       "2017-06-27  3665.58  3674.72  3676.53  3648.76   97558702.0  hs300  3582.700   \n",
       "2017-06-28  3664.16  3646.17  3672.19  3644.03   97920858.0  hs300  3593.787   \n",
       "2017-06-29  3649.25  3668.83  3669.13  3644.73   85589498.0  hs300  3607.791   \n",
       "2017-06-30  3654.73  3666.80  3669.76  3646.23   81510028.0  hs300  3622.595   \n",
       "\n",
       "                 SMA_60  \n",
       "date                     \n",
       "2017-06-26  3475.314500  \n",
       "2017-06-27  3478.729667  \n",
       "2017-06-28  3481.746000  \n",
       "2017-06-29  3485.613833  \n",
       "2017-06-30  3489.126333  "
      ]
     },
     "execution_count": 45,
     "metadata": {},
     "output_type": "execute_result"
    }
   ],
   "source": [
    "data.tail()"
   ]
  },
  {
   "cell_type": "code",
   "execution_count": 48,
   "metadata": {},
   "outputs": [
    {
     "data": {
      "text/plain": [
       "<matplotlib.axes._subplots.AxesSubplot at 0x1ee403864a8>"
      ]
     },
     "execution_count": 48,
     "metadata": {},
     "output_type": "execute_result"
    },
    {
     "data": {
      "image/png": "[encoded data removed]",
      "text/plain": [
       "<matplotlib.figure.Figure at 0x1ee4033a208>"
      ]
     },
     "metadata": {},
     "output_type": "display_data"
    }
   ],
   "source": [
    "data[['price','SMA_10','SMA_60']].plot(title='HS300 stock price | 10 & 60 days SMAs',\n",
    "                                       figsize=(10, 6))\n",
    "#Pandas里面如何选择多列必须要掌握；"
   ]
  },
  {
   "cell_type": "markdown",
   "metadata": {},
   "source": [
    "### 2. 策略开发思路"
   ]
  },
  {
   "cell_type": "code",
   "execution_count": 49,
   "metadata": {
    "collapsed": true
   },
   "outputs": [],
   "source": [
    "data['position'] = np.where(data['SMA_10'] > data['SMA_60'], 1, -1)"
   ]
  },
  {
   "cell_type": "code",
   "execution_count": 52,
   "metadata": {},
   "outputs": [
    {
     "data": {
      "text/html": [
       "<div>\n",
       "<style>\n",
       "    .dataframe thead tr:only-child th {\n",
       "        text-align: right;\n",
       "    }\n",
       "\n",
       "    .dataframe thead th {\n",
       "        text-align: left;\n",
       "    }\n",
       "\n",
       "    .dataframe tbody tr th {\n",
       "        vertical-align: top;\n",
       "    }\n",
       "</style>\n",
       "<table border=\"1\" class=\"dataframe\">\n",
       "  <thead>\n",
       "    <tr style=\"text-align: right;\">\n",
       "      <th></th>\n",
       "      <th>open</th>\n",
       "      <th>price</th>\n",
       "      <th>high</th>\n",
       "      <th>low</th>\n",
       "      <th>volume</th>\n",
       "      <th>code</th>\n",
       "      <th>SMA_10</th>\n",
       "      <th>SMA_60</th>\n",
       "      <th>position</th>\n",
       "    </tr>\n",
       "    <tr>\n",
       "      <th>date</th>\n",
       "      <th></th>\n",
       "      <th></th>\n",
       "      <th></th>\n",
       "      <th></th>\n",
       "      <th></th>\n",
       "      <th></th>\n",
       "      <th></th>\n",
       "      <th></th>\n",
       "      <th></th>\n",
       "    </tr>\n",
       "  </thead>\n",
       "  <tbody>\n",
       "    <tr>\n",
       "      <th>2010-04-02</th>\n",
       "      <td>3400.139</td>\n",
       "      <td>3407.281</td>\n",
       "      <td>3412.20</td>\n",
       "      <td>3391.81</td>\n",
       "      <td>69015592.0</td>\n",
       "      <td>hs300</td>\n",
       "      <td>3323.0607</td>\n",
       "      <td>3313.824200</td>\n",
       "      <td>1</td>\n",
       "    </tr>\n",
       "    <tr>\n",
       "      <th>2010-04-06</th>\n",
       "      <td>3422.849</td>\n",
       "      <td>3405.442</td>\n",
       "      <td>3436.29</td>\n",
       "      <td>3386.89</td>\n",
       "      <td>65191710.0</td>\n",
       "      <td>hs300</td>\n",
       "      <td>3333.3610</td>\n",
       "      <td>3311.644550</td>\n",
       "      <td>1</td>\n",
       "    </tr>\n",
       "    <tr>\n",
       "      <th>2010-04-07</th>\n",
       "      <td>3403.088</td>\n",
       "      <td>3387.705</td>\n",
       "      <td>3404.58</td>\n",
       "      <td>3369.02</td>\n",
       "      <td>54011228.0</td>\n",
       "      <td>hs300</td>\n",
       "      <td>3344.5387</td>\n",
       "      <td>3308.705667</td>\n",
       "      <td>1</td>\n",
       "    </tr>\n",
       "    <tr>\n",
       "      <th>2010-04-08</th>\n",
       "      <td>3381.306</td>\n",
       "      <td>3346.409</td>\n",
       "      <td>3381.31</td>\n",
       "      <td>3336.16</td>\n",
       "      <td>62185322.0</td>\n",
       "      <td>hs300</td>\n",
       "      <td>3351.4709</td>\n",
       "      <td>3305.442333</td>\n",
       "      <td>1</td>\n",
       "    </tr>\n",
       "    <tr>\n",
       "      <th>2010-04-09</th>\n",
       "      <td>3348.773</td>\n",
       "      <td>3379.365</td>\n",
       "      <td>3379.40</td>\n",
       "      <td>3342.47</td>\n",
       "      <td>51263265.0</td>\n",
       "      <td>hs300</td>\n",
       "      <td>3366.4918</td>\n",
       "      <td>3303.893200</td>\n",
       "      <td>1</td>\n",
       "    </tr>\n",
       "  </tbody>\n",
       "</table>\n",
       "</div>"
      ],
      "text/plain": [
       "                open     price     high      low      volume   code  \\\n",
       "date                                                                  \n",
       "2010-04-02  3400.139  3407.281  3412.20  3391.81  69015592.0  hs300   \n",
       "2010-04-06  3422.849  3405.442  3436.29  3386.89  65191710.0  hs300   \n",
       "2010-04-07  3403.088  3387.705  3404.58  3369.02  54011228.0  hs300   \n",
       "2010-04-08  3381.306  3346.409  3381.31  3336.16  62185322.0  hs300   \n",
       "2010-04-09  3348.773  3379.365  3379.40  3342.47  51263265.0  hs300   \n",
       "\n",
       "               SMA_10       SMA_60  position  \n",
       "date                                          \n",
       "2010-04-02  3323.0607  3313.824200         1  \n",
       "2010-04-06  3333.3610  3311.644550         1  \n",
       "2010-04-07  3344.5387  3308.705667         1  \n",
       "2010-04-08  3351.4709  3305.442333         1  \n",
       "2010-04-09  3366.4918  3303.893200         1  "
      ]
     },
     "execution_count": 52,
     "metadata": {},
     "output_type": "execute_result"
    }
   ],
   "source": [
    "data.head()"
   ]
  },
  {
   "cell_type": "code",
   "execution_count": 51,
   "metadata": {
    "collapsed": true
   },
   "outputs": [],
   "source": [
    "data.dropna(inplace=True)     #去掉空值，NaN"
   ]
  },
  {
   "cell_type": "code",
   "execution_count": 53,
   "metadata": {},
   "outputs": [
    {
     "data": {
      "text/plain": [
       "<matplotlib.axes._subplots.AxesSubplot at 0x1ee40420eb8>"
      ]
     },
     "execution_count": 53,
     "metadata": {},
     "output_type": "execute_result"
    },
    {
     "data": {
      "image/png": "[encoded data removed]",
      "text/plain": [
       "<matplotlib.figure.Figure at 0x1ee40351668>"
      ]
     },
     "metadata": {},
     "output_type": "display_data"
    }
   ],
   "source": [
    "data['position'].plot(ylim=[-1.1, 1.1], title='Market Positioning')"
   ]
  },
  {
   "cell_type": "markdown",
   "metadata": {},
   "source": [
    "### 3. 计算策略年化收益并可视化"
   ]
  },
  {
   "cell_type": "code",
   "execution_count": 54,
   "metadata": {
    "collapsed": true
   },
   "outputs": [],
   "source": [
    "data['returns'] = np.log(data['price'] / data['price'].shift(1))    \n",
    "#Numpy向量化；循环做法（尽量避免）,连续return"
   ]
  },
  {
   "cell_type": "code",
   "execution_count": 55,
   "metadata": {},
   "outputs": [
    {
     "data": {
      "text/html": [
       "<div>\n",
       "<style>\n",
       "    .dataframe thead tr:only-child th {\n",
       "        text-align: right;\n",
       "    }\n",
       "\n",
       "    .dataframe thead th {\n",
       "        text-align: left;\n",
       "    }\n",
       "\n",
       "    .dataframe tbody tr th {\n",
       "        vertical-align: top;\n",
       "    }\n",
       "</style>\n",
       "<table border=\"1\" class=\"dataframe\">\n",
       "  <thead>\n",
       "    <tr style=\"text-align: right;\">\n",
       "      <th></th>\n",
       "      <th>open</th>\n",
       "      <th>price</th>\n",
       "      <th>high</th>\n",
       "      <th>low</th>\n",
       "      <th>volume</th>\n",
       "      <th>code</th>\n",
       "      <th>SMA_10</th>\n",
       "      <th>SMA_60</th>\n",
       "      <th>position</th>\n",
       "      <th>returns</th>\n",
       "    </tr>\n",
       "    <tr>\n",
       "      <th>date</th>\n",
       "      <th></th>\n",
       "      <th></th>\n",
       "      <th></th>\n",
       "      <th></th>\n",
       "      <th></th>\n",
       "      <th></th>\n",
       "      <th></th>\n",
       "      <th></th>\n",
       "      <th></th>\n",
       "      <th></th>\n",
       "    </tr>\n",
       "  </thead>\n",
       "  <tbody>\n",
       "    <tr>\n",
       "      <th>2010-04-02</th>\n",
       "      <td>3400.139</td>\n",
       "      <td>3407.281</td>\n",
       "      <td>3412.20</td>\n",
       "      <td>3391.81</td>\n",
       "      <td>69015592.0</td>\n",
       "      <td>hs300</td>\n",
       "      <td>3323.0607</td>\n",
       "      <td>3313.824200</td>\n",
       "      <td>1</td>\n",
       "      <td>NaN</td>\n",
       "    </tr>\n",
       "    <tr>\n",
       "      <th>2010-04-06</th>\n",
       "      <td>3422.849</td>\n",
       "      <td>3405.442</td>\n",
       "      <td>3436.29</td>\n",
       "      <td>3386.89</td>\n",
       "      <td>65191710.0</td>\n",
       "      <td>hs300</td>\n",
       "      <td>3333.3610</td>\n",
       "      <td>3311.644550</td>\n",
       "      <td>1</td>\n",
       "      <td>-0.000540</td>\n",
       "    </tr>\n",
       "    <tr>\n",
       "      <th>2010-04-07</th>\n",
       "      <td>3403.088</td>\n",
       "      <td>3387.705</td>\n",
       "      <td>3404.58</td>\n",
       "      <td>3369.02</td>\n",
       "      <td>54011228.0</td>\n",
       "      <td>hs300</td>\n",
       "      <td>3344.5387</td>\n",
       "      <td>3308.705667</td>\n",
       "      <td>1</td>\n",
       "      <td>-0.005222</td>\n",
       "    </tr>\n",
       "    <tr>\n",
       "      <th>2010-04-08</th>\n",
       "      <td>3381.306</td>\n",
       "      <td>3346.409</td>\n",
       "      <td>3381.31</td>\n",
       "      <td>3336.16</td>\n",
       "      <td>62185322.0</td>\n",
       "      <td>hs300</td>\n",
       "      <td>3351.4709</td>\n",
       "      <td>3305.442333</td>\n",
       "      <td>1</td>\n",
       "      <td>-0.012265</td>\n",
       "    </tr>\n",
       "    <tr>\n",
       "      <th>2010-04-09</th>\n",
       "      <td>3348.773</td>\n",
       "      <td>3379.365</td>\n",
       "      <td>3379.40</td>\n",
       "      <td>3342.47</td>\n",
       "      <td>51263265.0</td>\n",
       "      <td>hs300</td>\n",
       "      <td>3366.4918</td>\n",
       "      <td>3303.893200</td>\n",
       "      <td>1</td>\n",
       "      <td>0.009800</td>\n",
       "    </tr>\n",
       "  </tbody>\n",
       "</table>\n",
       "</div>"
      ],
      "text/plain": [
       "                open     price     high      low      volume   code  \\\n",
       "date                                                                  \n",
       "2010-04-02  3400.139  3407.281  3412.20  3391.81  69015592.0  hs300   \n",
       "2010-04-06  3422.849  3405.442  3436.29  3386.89  65191710.0  hs300   \n",
       "2010-04-07  3403.088  3387.705  3404.58  3369.02  54011228.0  hs300   \n",
       "2010-04-08  3381.306  3346.409  3381.31  3336.16  62185322.0  hs300   \n",
       "2010-04-09  3348.773  3379.365  3379.40  3342.47  51263265.0  hs300   \n",
       "\n",
       "               SMA_10       SMA_60  position   returns  \n",
       "date                                                    \n",
       "2010-04-02  3323.0607  3313.824200         1       NaN  \n",
       "2010-04-06  3333.3610  3311.644550         1 -0.000540  \n",
       "2010-04-07  3344.5387  3308.705667         1 -0.005222  \n",
       "2010-04-08  3351.4709  3305.442333         1 -0.012265  \n",
       "2010-04-09  3366.4918  3303.893200         1  0.009800  "
      ]
     },
     "execution_count": 55,
     "metadata": {},
     "output_type": "execute_result"
    }
   ],
   "source": [
    "data.head()"
   ]
  },
  {
   "cell_type": "code",
   "execution_count": null,
   "metadata": {
    "collapsed": true
   },
   "outputs": [],
   "source": [
    "# data['returns_dis'] = data['price']/data['price'].shift(1)-1    #离散计算return方法1"
   ]
  },
  {
   "cell_type": "code",
   "execution_count": null,
   "metadata": {
    "collapsed": true
   },
   "outputs": [],
   "source": [
    "# data['return_dis2'] = data['price'].pct_change()                #离散计算return方法2"
   ]
  },
  {
   "cell_type": "code",
   "execution_count": 59,
   "metadata": {},
   "outputs": [
    {
     "data": {
      "text/plain": [
       "<matplotlib.axes._subplots.AxesSubplot at 0x1ee407fa2b0>"
      ]
     },
     "execution_count": 59,
     "metadata": {},
     "output_type": "execute_result"
    },
    {
     "data": {
      "image/png": "[encoded data removed]",
      "text/plain": [
       "<matplotlib.figure.Figure at 0x1ee40814160>"
      ]
     },
     "metadata": {},
     "output_type": "display_data"
    }
   ],
   "source": [
    "data['returns'].hist(bins=35)"
   ]
  },
  {
   "cell_type": "code",
   "execution_count": 60,
   "metadata": {
    "collapsed": true
   },
   "outputs": [],
   "source": [
    "data['strategy'] = data['position'].shift(1) * data['returns']     \n",
    "#注意未来函数；一般会使得回测收益高估；"
   ]
  },
  {
   "cell_type": "code",
   "execution_count": 61,
   "metadata": {},
   "outputs": [
    {
     "data": {
      "text/plain": [
       "returns     0.073405\n",
       "strategy    0.727883\n",
       "dtype: float64"
      ]
     },
     "execution_count": 61,
     "metadata": {},
     "output_type": "execute_result"
    }
   ],
   "source": [
    "data[['returns', 'strategy']].sum()"
   ]
  },
  {
   "cell_type": "code",
   "execution_count": 62,
   "metadata": {},
   "outputs": [
    {
     "data": {
      "text/plain": [
       "<matplotlib.axes._subplots.AxesSubplot at 0x1ee40887dd8>"
      ]
     },
     "execution_count": 62,
     "metadata": {},
     "output_type": "execute_result"
    },
    {
     "data": {
      "image/png": "[encoded data removed]",
      "text/plain": [
       "<matplotlib.figure.Figure at 0x1ee409154a8>"
      ]
     },
     "metadata": {},
     "output_type": "display_data"
    }
   ],
   "source": [
    "data[['returns', 'strategy']].cumsum().apply(np.exp).plot(figsize=(10, 6))   #可视化；离散的计算方法参考Momoentum策略"
   ]
  },
  {
   "cell_type": "markdown",
   "metadata": {},
   "source": [
    "### 4. 策略收益风险评估"
   ]
  },
  {
   "cell_type": "code",
   "execution_count": 63,
   "metadata": {},
   "outputs": [
    {
     "data": {
      "text/plain": [
       "returns     0.010516\n",
       "strategy    0.104279\n",
       "dtype: float64"
      ]
     },
     "execution_count": 63,
     "metadata": {},
     "output_type": "execute_result"
    }
   ],
   "source": [
    "data[['returns', 'strategy']].mean() * 252     #年化收益率；"
   ]
  },
  {
   "cell_type": "code",
   "execution_count": 64,
   "metadata": {},
   "outputs": [
    {
     "data": {
      "text/plain": [
       "returns     0.245449\n",
       "strategy    0.245362\n",
       "dtype: float64"
      ]
     },
     "execution_count": 64,
     "metadata": {},
     "output_type": "execute_result"
    }
   ],
   "source": [
    "data[['returns', 'strategy']].std() * 252 ** 0.5   #年化风险；"
   ]
  },
  {
   "cell_type": "code",
   "execution_count": 65,
   "metadata": {
    "collapsed": true
   },
   "outputs": [],
   "source": [
    "data['cumret'] = data['strategy'].cumsum().apply(np.exp)"
   ]
  },
  {
   "cell_type": "code",
   "execution_count": 66,
   "metadata": {
    "collapsed": true
   },
   "outputs": [],
   "source": [
    "data['cummax'] = data['cumret'].cummax()"
   ]
  },
  {
   "cell_type": "code",
   "execution_count": 67,
   "metadata": {},
   "outputs": [
    {
     "data": {
      "text/html": [
       "<div>\n",
       "<style>\n",
       "    .dataframe thead tr:only-child th {\n",
       "        text-align: right;\n",
       "    }\n",
       "\n",
       "    .dataframe thead th {\n",
       "        text-align: left;\n",
       "    }\n",
       "\n",
       "    .dataframe tbody tr th {\n",
       "        vertical-align: top;\n",
       "    }\n",
       "</style>\n",
       "<table border=\"1\" class=\"dataframe\">\n",
       "  <thead>\n",
       "    <tr style=\"text-align: right;\">\n",
       "      <th></th>\n",
       "      <th>open</th>\n",
       "      <th>price</th>\n",
       "      <th>high</th>\n",
       "      <th>low</th>\n",
       "      <th>volume</th>\n",
       "      <th>code</th>\n",
       "      <th>SMA_10</th>\n",
       "      <th>SMA_60</th>\n",
       "      <th>position</th>\n",
       "      <th>returns</th>\n",
       "      <th>strategy</th>\n",
       "      <th>cumret</th>\n",
       "      <th>cummax</th>\n",
       "    </tr>\n",
       "    <tr>\n",
       "      <th>date</th>\n",
       "      <th></th>\n",
       "      <th></th>\n",
       "      <th></th>\n",
       "      <th></th>\n",
       "      <th></th>\n",
       "      <th></th>\n",
       "      <th></th>\n",
       "      <th></th>\n",
       "      <th></th>\n",
       "      <th></th>\n",
       "      <th></th>\n",
       "      <th></th>\n",
       "      <th></th>\n",
       "    </tr>\n",
       "  </thead>\n",
       "  <tbody>\n",
       "    <tr>\n",
       "      <th>2017-06-26</th>\n",
       "      <td>3627.02</td>\n",
       "      <td>3668.09</td>\n",
       "      <td>3671.94</td>\n",
       "      <td>3627.02</td>\n",
       "      <td>134637995.0</td>\n",
       "      <td>hs300</td>\n",
       "      <td>3573.455</td>\n",
       "      <td>3475.314500</td>\n",
       "      <td>1</td>\n",
       "      <td>0.012402</td>\n",
       "      <td>0.012402</td>\n",
       "      <td>2.071421</td>\n",
       "      <td>2.733857</td>\n",
       "    </tr>\n",
       "    <tr>\n",
       "      <th>2017-06-27</th>\n",
       "      <td>3665.58</td>\n",
       "      <td>3674.72</td>\n",
       "      <td>3676.53</td>\n",
       "      <td>3648.76</td>\n",
       "      <td>97558702.0</td>\n",
       "      <td>hs300</td>\n",
       "      <td>3582.700</td>\n",
       "      <td>3478.729667</td>\n",
       "      <td>1</td>\n",
       "      <td>0.001806</td>\n",
       "      <td>0.001806</td>\n",
       "      <td>2.075165</td>\n",
       "      <td>2.733857</td>\n",
       "    </tr>\n",
       "    <tr>\n",
       "      <th>2017-06-28</th>\n",
       "      <td>3664.16</td>\n",
       "      <td>3646.17</td>\n",
       "      <td>3672.19</td>\n",
       "      <td>3644.03</td>\n",
       "      <td>97920858.0</td>\n",
       "      <td>hs300</td>\n",
       "      <td>3593.787</td>\n",
       "      <td>3481.746000</td>\n",
       "      <td>1</td>\n",
       "      <td>-0.007800</td>\n",
       "      <td>-0.007800</td>\n",
       "      <td>2.059043</td>\n",
       "      <td>2.733857</td>\n",
       "    </tr>\n",
       "    <tr>\n",
       "      <th>2017-06-29</th>\n",
       "      <td>3649.25</td>\n",
       "      <td>3668.83</td>\n",
       "      <td>3669.13</td>\n",
       "      <td>3644.73</td>\n",
       "      <td>85589498.0</td>\n",
       "      <td>hs300</td>\n",
       "      <td>3607.791</td>\n",
       "      <td>3485.613833</td>\n",
       "      <td>1</td>\n",
       "      <td>0.006196</td>\n",
       "      <td>0.006196</td>\n",
       "      <td>2.071839</td>\n",
       "      <td>2.733857</td>\n",
       "    </tr>\n",
       "    <tr>\n",
       "      <th>2017-06-30</th>\n",
       "      <td>3654.73</td>\n",
       "      <td>3666.80</td>\n",
       "      <td>3669.76</td>\n",
       "      <td>3646.23</td>\n",
       "      <td>81510028.0</td>\n",
       "      <td>hs300</td>\n",
       "      <td>3622.595</td>\n",
       "      <td>3489.126333</td>\n",
       "      <td>1</td>\n",
       "      <td>-0.000553</td>\n",
       "      <td>-0.000553</td>\n",
       "      <td>2.070693</td>\n",
       "      <td>2.733857</td>\n",
       "    </tr>\n",
       "  </tbody>\n",
       "</table>\n",
       "</div>"
      ],
      "text/plain": [
       "               open    price     high      low       volume   code    SMA_10  \\\n",
       "date                                                                           \n",
       "2017-06-26  3627.02  3668.09  3671.94  3627.02  134637995.0  hs300  3573.455   \n",
       "2017-06-27  3665.58  3674.72  3676.53  3648.76   97558702.0  hs300  3582.700   \n",
       "2017-06-28  3664.16  3646.17  3672.19  3644.03   97920858.0  hs300  3593.787   \n",
       "2017-06-29  3649.25  3668.83  3669.13  3644.73   85589498.0  hs300  3607.791   \n",
       "2017-06-30  3654.73  3666.80  3669.76  3646.23   81510028.0  hs300  3622.595   \n",
       "\n",
       "                 SMA_60  position   returns  strategy    cumret    cummax  \n",
       "date                                                                       \n",
       "2017-06-26  3475.314500         1  0.012402  0.012402  2.071421  2.733857  \n",
       "2017-06-27  3478.729667         1  0.001806  0.001806  2.075165  2.733857  \n",
       "2017-06-28  3481.746000         1 -0.007800 -0.007800  2.059043  2.733857  \n",
       "2017-06-29  3485.613833         1  0.006196  0.006196  2.071839  2.733857  \n",
       "2017-06-30  3489.126333         1 -0.000553 -0.000553  2.070693  2.733857  "
      ]
     },
     "execution_count": 67,
     "metadata": {},
     "output_type": "execute_result"
    }
   ],
   "source": [
    "data.tail()"
   ]
  },
  {
   "cell_type": "code",
   "execution_count": 68,
   "metadata": {},
   "outputs": [
    {
     "data": {
      "text/plain": [
       "<matplotlib.axes._subplots.AxesSubplot at 0x1ee409f1ef0>"
      ]
     },
     "execution_count": 68,
     "metadata": {},
     "output_type": "execute_result"
    },
    {
     "data": {
      "image/png": "[encoded data removed]",
      "text/plain": [
       "<matplotlib.figure.Figure at 0x1ee409e65f8>"
      ]
     },
     "metadata": {},
     "output_type": "display_data"
    }
   ],
   "source": [
    "data[['cumret', 'cummax']].plot(figsize=(10, 6))"
   ]
  },
  {
   "cell_type": "code",
   "execution_count": 69,
   "metadata": {
    "collapsed": true
   },
   "outputs": [],
   "source": [
    "drawdown = (data['cummax'] - data['cumret'])"
   ]
  },
  {
   "cell_type": "code",
   "execution_count": 70,
   "metadata": {},
   "outputs": [
    {
     "data": {
      "text/plain": [
       "0.77500599417732596"
      ]
     },
     "execution_count": 70,
     "metadata": {},
     "output_type": "execute_result"
    }
   ],
   "source": [
    "drawdown.max()           #计算原理：最大回撤；"
   ]
  },
  {
   "cell_type": "markdown",
   "metadata": {},
   "source": [
    "### 5. 策略优化的一种思路"
   ]
  },
  {
   "cell_type": "code",
   "execution_count": 7,
   "metadata": {},
   "outputs": [
    {
     "data": {
      "text/html": [
       "<div>\n",
       "<style>\n",
       "    .dataframe thead tr:only-child th {\n",
       "        text-align: right;\n",
       "    }\n",
       "\n",
       "    .dataframe thead th {\n",
       "        text-align: left;\n",
       "    }\n",
       "\n",
       "    .dataframe tbody tr th {\n",
       "        vertical-align: top;\n",
       "    }\n",
       "</style>\n",
       "<table border=\"1\" class=\"dataframe\">\n",
       "  <thead>\n",
       "    <tr style=\"text-align: right;\">\n",
       "      <th></th>\n",
       "      <th>price</th>\n",
       "    </tr>\n",
       "    <tr>\n",
       "      <th>date</th>\n",
       "      <th></th>\n",
       "    </tr>\n",
       "  </thead>\n",
       "  <tbody>\n",
       "    <tr>\n",
       "      <th>2010-01-04</th>\n",
       "      <td>3536.221</td>\n",
       "    </tr>\n",
       "    <tr>\n",
       "      <th>2010-01-05</th>\n",
       "      <td>3564.038</td>\n",
       "    </tr>\n",
       "    <tr>\n",
       "      <th>2010-01-06</th>\n",
       "      <td>3542.209</td>\n",
       "    </tr>\n",
       "    <tr>\n",
       "      <th>2010-01-07</th>\n",
       "      <td>3472.313</td>\n",
       "    </tr>\n",
       "    <tr>\n",
       "      <th>2010-01-08</th>\n",
       "      <td>3480.403</td>\n",
       "    </tr>\n",
       "  </tbody>\n",
       "</table>\n",
       "</div>"
      ],
      "text/plain": [
       "               price\n",
       "date                \n",
       "2010-01-04  3536.221\n",
       "2010-01-05  3564.038\n",
       "2010-01-06  3542.209\n",
       "2010-01-07  3472.313\n",
       "2010-01-08  3480.403"
      ]
     },
     "execution_count": 7,
     "metadata": {},
     "output_type": "execute_result"
    }
   ],
   "source": [
    "hs300 = ts.get_k_data('hs300','2010-01-01', '2017-06-30')[['date','close']]\n",
    "# hs300 = pd.DataFrame(hs300)\n",
    "hs300.rename(columns={'close': 'price'}, inplace=True) \n",
    "hs300.set_index('date',inplace = True)\n",
    "hs300.head()"
   ]
  },
  {
   "cell_type": "code",
   "execution_count": 49,
   "metadata": {
    "collapsed": true
   },
   "outputs": [],
   "source": [
    "hs300['SMA_10'] = hs300['price'].rolling(10).mean()       #必背"
   ]
  },
  {
   "cell_type": "code",
   "execution_count": 50,
   "metadata": {
    "collapsed": true
   },
   "outputs": [],
   "source": [
    "hs300['SMA_60'] = hs300['price'].rolling(60).mean()       #必背"
   ]
  },
  {
   "cell_type": "code",
   "execution_count": 51,
   "metadata": {},
   "outputs": [
    {
     "data": {
      "text/html": [
       "<div>\n",
       "<style>\n",
       "    .dataframe thead tr:only-child th {\n",
       "        text-align: right;\n",
       "    }\n",
       "\n",
       "    .dataframe thead th {\n",
       "        text-align: left;\n",
       "    }\n",
       "\n",
       "    .dataframe tbody tr th {\n",
       "        vertical-align: top;\n",
       "    }\n",
       "</style>\n",
       "<table border=\"1\" class=\"dataframe\">\n",
       "  <thead>\n",
       "    <tr style=\"text-align: right;\">\n",
       "      <th></th>\n",
       "      <th>price</th>\n",
       "      <th>SMA_10</th>\n",
       "      <th>SMA_60</th>\n",
       "    </tr>\n",
       "    <tr>\n",
       "      <th>date</th>\n",
       "      <th></th>\n",
       "      <th></th>\n",
       "      <th></th>\n",
       "    </tr>\n",
       "  </thead>\n",
       "  <tbody>\n",
       "    <tr>\n",
       "      <th>2017-06-26</th>\n",
       "      <td>3668.09</td>\n",
       "      <td>3573.455</td>\n",
       "      <td>3475.314500</td>\n",
       "    </tr>\n",
       "    <tr>\n",
       "      <th>2017-06-27</th>\n",
       "      <td>3674.72</td>\n",
       "      <td>3582.700</td>\n",
       "      <td>3478.729667</td>\n",
       "    </tr>\n",
       "    <tr>\n",
       "      <th>2017-06-28</th>\n",
       "      <td>3646.17</td>\n",
       "      <td>3593.787</td>\n",
       "      <td>3481.746000</td>\n",
       "    </tr>\n",
       "    <tr>\n",
       "      <th>2017-06-29</th>\n",
       "      <td>3668.83</td>\n",
       "      <td>3607.791</td>\n",
       "      <td>3485.613833</td>\n",
       "    </tr>\n",
       "    <tr>\n",
       "      <th>2017-06-30</th>\n",
       "      <td>3666.80</td>\n",
       "      <td>3622.595</td>\n",
       "      <td>3489.126333</td>\n",
       "    </tr>\n",
       "  </tbody>\n",
       "</table>\n",
       "</div>"
      ],
      "text/plain": [
       "              price    SMA_10       SMA_60\n",
       "date                                      \n",
       "2017-06-26  3668.09  3573.455  3475.314500\n",
       "2017-06-27  3674.72  3582.700  3478.729667\n",
       "2017-06-28  3646.17  3593.787  3481.746000\n",
       "2017-06-29  3668.83  3607.791  3485.613833\n",
       "2017-06-30  3666.80  3622.595  3489.126333"
      ]
     },
     "execution_count": 51,
     "metadata": {},
     "output_type": "execute_result"
    }
   ],
   "source": [
    "hs300[['price', 'SMA_10', 'SMA_60']].tail()"
   ]
  },
  {
   "cell_type": "code",
   "execution_count": 52,
   "metadata": {
    "scrolled": true
   },
   "outputs": [
    {
     "data": {
      "text/plain": [
       "<matplotlib.axes._subplots.AxesSubplot at 0x1de61e2a278>"
      ]
     },
     "execution_count": 52,
     "metadata": {},
     "output_type": "execute_result"
    },
    {
     "data": {
      "image/png": "[encoded data removed]",
      "text/plain": [
       "<matplotlib.figure.Figure at 0x1de61e32f60>"
      ]
     },
     "metadata": {},
     "output_type": "display_data"
    }
   ],
   "source": [
    "hs300[['price', 'SMA_10', 'SMA_60']].plot(grid=True, figsize = (10,8))"
   ]
  },
  {
   "cell_type": "code",
   "execution_count": 53,
   "metadata": {},
   "outputs": [
    {
     "data": {
      "text/plain": [
       "date\n",
       "2017-06-26     98.140500\n",
       "2017-06-27    103.970333\n",
       "2017-06-28    112.041000\n",
       "2017-06-29    122.177167\n",
       "2017-06-30    133.468667\n",
       "Name: 10-60, dtype: float64"
      ]
     },
     "execution_count": 53,
     "metadata": {},
     "output_type": "execute_result"
    }
   ],
   "source": [
    "hs300['10-60'] = hs300['SMA_10'] - hs300['SMA_60']\n",
    "hs300['10-60'].tail()"
   ]
  },
  {
   "cell_type": "code",
   "execution_count": 54,
   "metadata": {},
   "outputs": [
    {
     "data": {
      "text/plain": [
       " 1    792\n",
       "-1    751\n",
       " 0    276\n",
       "Name: regime, dtype: int64"
      ]
     },
     "execution_count": 54,
     "metadata": {},
     "output_type": "execute_result"
    }
   ],
   "source": [
    "SD = 20                     #阈值\n",
    "hs300['regime'] = np.where(hs300['10-60'] > SD, 1,0)\n",
    "hs300['regime'] = np.where(hs300['10-60'] < -SD, -1,hs300['regime'])    #核心重要；\n",
    "hs300['regime'].value_counts()"
   ]
  },
  {
   "cell_type": "code",
   "execution_count": 55,
   "metadata": {},
   "outputs": [
    {
     "data": {
      "text/html": [
       "<div>\n",
       "<style>\n",
       "    .dataframe thead tr:only-child th {\n",
       "        text-align: right;\n",
       "    }\n",
       "\n",
       "    .dataframe thead th {\n",
       "        text-align: left;\n",
       "    }\n",
       "\n",
       "    .dataframe tbody tr th {\n",
       "        vertical-align: top;\n",
       "    }\n",
       "</style>\n",
       "<table border=\"1\" class=\"dataframe\">\n",
       "  <thead>\n",
       "    <tr style=\"text-align: right;\">\n",
       "      <th></th>\n",
       "      <th>price</th>\n",
       "      <th>SMA_10</th>\n",
       "      <th>SMA_60</th>\n",
       "      <th>10-60</th>\n",
       "      <th>regime</th>\n",
       "      <th>Market</th>\n",
       "      <th>Strategy</th>\n",
       "    </tr>\n",
       "    <tr>\n",
       "      <th>date</th>\n",
       "      <th></th>\n",
       "      <th></th>\n",
       "      <th></th>\n",
       "      <th></th>\n",
       "      <th></th>\n",
       "      <th></th>\n",
       "      <th></th>\n",
       "    </tr>\n",
       "  </thead>\n",
       "  <tbody>\n",
       "    <tr>\n",
       "      <th>2017-06-05</th>\n",
       "      <td>3468.75</td>\n",
       "      <td>3457.542</td>\n",
       "      <td>3448.415500</td>\n",
       "      <td>9.126500</td>\n",
       "      <td>0</td>\n",
       "      <td>-0.005107</td>\n",
       "      <td>-0.005107</td>\n",
       "    </tr>\n",
       "    <tr>\n",
       "      <th>2017-06-06</th>\n",
       "      <td>3492.88</td>\n",
       "      <td>3466.445</td>\n",
       "      <td>3449.064167</td>\n",
       "      <td>17.380833</td>\n",
       "      <td>0</td>\n",
       "      <td>0.006932</td>\n",
       "      <td>0.006932</td>\n",
       "    </tr>\n",
       "    <tr>\n",
       "      <th>2017-06-07</th>\n",
       "      <td>3533.87</td>\n",
       "      <td>3478.708</td>\n",
       "      <td>3450.483167</td>\n",
       "      <td>28.224833</td>\n",
       "      <td>1</td>\n",
       "      <td>0.011667</td>\n",
       "      <td>0.011667</td>\n",
       "    </tr>\n",
       "    <tr>\n",
       "      <th>2017-06-08</th>\n",
       "      <td>3560.98</td>\n",
       "      <td>3492.387</td>\n",
       "      <td>3452.717167</td>\n",
       "      <td>39.669833</td>\n",
       "      <td>1</td>\n",
       "      <td>0.007642</td>\n",
       "      <td>0.007642</td>\n",
       "    </tr>\n",
       "    <tr>\n",
       "      <th>2017-06-09</th>\n",
       "      <td>3576.17</td>\n",
       "      <td>3507.587</td>\n",
       "      <td>3455.188500</td>\n",
       "      <td>52.398500</td>\n",
       "      <td>1</td>\n",
       "      <td>0.004257</td>\n",
       "      <td>0.004257</td>\n",
       "    </tr>\n",
       "    <tr>\n",
       "      <th>2017-06-12</th>\n",
       "      <td>3574.39</td>\n",
       "      <td>3516.460</td>\n",
       "      <td>3457.126667</td>\n",
       "      <td>59.333333</td>\n",
       "      <td>1</td>\n",
       "      <td>-0.000498</td>\n",
       "      <td>-0.000498</td>\n",
       "    </tr>\n",
       "    <tr>\n",
       "      <th>2017-06-13</th>\n",
       "      <td>3582.27</td>\n",
       "      <td>3526.644</td>\n",
       "      <td>3459.219667</td>\n",
       "      <td>67.424333</td>\n",
       "      <td>1</td>\n",
       "      <td>0.002202</td>\n",
       "      <td>0.002202</td>\n",
       "    </tr>\n",
       "    <tr>\n",
       "      <th>2017-06-14</th>\n",
       "      <td>3535.30</td>\n",
       "      <td>3530.886</td>\n",
       "      <td>3460.414000</td>\n",
       "      <td>70.472000</td>\n",
       "      <td>1</td>\n",
       "      <td>-0.013199</td>\n",
       "      <td>-0.013199</td>\n",
       "    </tr>\n",
       "    <tr>\n",
       "      <th>2017-06-15</th>\n",
       "      <td>3528.79</td>\n",
       "      <td>3533.991</td>\n",
       "      <td>3461.202000</td>\n",
       "      <td>72.789000</td>\n",
       "      <td>1</td>\n",
       "      <td>-0.001843</td>\n",
       "      <td>-0.001843</td>\n",
       "    </tr>\n",
       "    <tr>\n",
       "      <th>2017-06-16</th>\n",
       "      <td>3518.76</td>\n",
       "      <td>3537.216</td>\n",
       "      <td>3462.417833</td>\n",
       "      <td>74.798167</td>\n",
       "      <td>1</td>\n",
       "      <td>-0.002846</td>\n",
       "      <td>-0.002846</td>\n",
       "    </tr>\n",
       "    <tr>\n",
       "      <th>2017-06-19</th>\n",
       "      <td>3553.67</td>\n",
       "      <td>3545.708</td>\n",
       "      <td>3464.152167</td>\n",
       "      <td>81.555833</td>\n",
       "      <td>1</td>\n",
       "      <td>0.009872</td>\n",
       "      <td>0.009872</td>\n",
       "    </tr>\n",
       "    <tr>\n",
       "      <th>2017-06-20</th>\n",
       "      <td>3546.49</td>\n",
       "      <td>3551.069</td>\n",
       "      <td>3465.487833</td>\n",
       "      <td>85.581167</td>\n",
       "      <td>1</td>\n",
       "      <td>-0.002022</td>\n",
       "      <td>-0.002022</td>\n",
       "    </tr>\n",
       "    <tr>\n",
       "      <th>2017-06-21</th>\n",
       "      <td>3587.96</td>\n",
       "      <td>3556.478</td>\n",
       "      <td>3467.786333</td>\n",
       "      <td>88.691667</td>\n",
       "      <td>1</td>\n",
       "      <td>0.011625</td>\n",
       "      <td>0.011625</td>\n",
       "    </tr>\n",
       "    <tr>\n",
       "      <th>2017-06-22</th>\n",
       "      <td>3590.34</td>\n",
       "      <td>3559.414</td>\n",
       "      <td>3469.925667</td>\n",
       "      <td>89.488333</td>\n",
       "      <td>1</td>\n",
       "      <td>0.000663</td>\n",
       "      <td>0.000663</td>\n",
       "    </tr>\n",
       "    <tr>\n",
       "      <th>2017-06-23</th>\n",
       "      <td>3622.88</td>\n",
       "      <td>3564.085</td>\n",
       "      <td>3472.147000</td>\n",
       "      <td>91.938000</td>\n",
       "      <td>1</td>\n",
       "      <td>0.009022</td>\n",
       "      <td>0.009022</td>\n",
       "    </tr>\n",
       "    <tr>\n",
       "      <th>2017-06-26</th>\n",
       "      <td>3668.09</td>\n",
       "      <td>3573.455</td>\n",
       "      <td>3475.314500</td>\n",
       "      <td>98.140500</td>\n",
       "      <td>1</td>\n",
       "      <td>0.012402</td>\n",
       "      <td>0.012402</td>\n",
       "    </tr>\n",
       "    <tr>\n",
       "      <th>2017-06-27</th>\n",
       "      <td>3674.72</td>\n",
       "      <td>3582.700</td>\n",
       "      <td>3478.729667</td>\n",
       "      <td>103.970333</td>\n",
       "      <td>1</td>\n",
       "      <td>0.001806</td>\n",
       "      <td>0.001806</td>\n",
       "    </tr>\n",
       "    <tr>\n",
       "      <th>2017-06-28</th>\n",
       "      <td>3646.17</td>\n",
       "      <td>3593.787</td>\n",
       "      <td>3481.746000</td>\n",
       "      <td>112.041000</td>\n",
       "      <td>1</td>\n",
       "      <td>-0.007800</td>\n",
       "      <td>-0.007800</td>\n",
       "    </tr>\n",
       "    <tr>\n",
       "      <th>2017-06-29</th>\n",
       "      <td>3668.83</td>\n",
       "      <td>3607.791</td>\n",
       "      <td>3485.613833</td>\n",
       "      <td>122.177167</td>\n",
       "      <td>1</td>\n",
       "      <td>0.006196</td>\n",
       "      <td>0.006196</td>\n",
       "    </tr>\n",
       "    <tr>\n",
       "      <th>2017-06-30</th>\n",
       "      <td>3666.80</td>\n",
       "      <td>3622.595</td>\n",
       "      <td>3489.126333</td>\n",
       "      <td>133.468667</td>\n",
       "      <td>1</td>\n",
       "      <td>-0.000553</td>\n",
       "      <td>-0.000553</td>\n",
       "    </tr>\n",
       "  </tbody>\n",
       "</table>\n",
       "</div>"
      ],
      "text/plain": [
       "              price    SMA_10       SMA_60       10-60  regime    Market  \\\n",
       "date                                                                       \n",
       "2017-06-05  3468.75  3457.542  3448.415500    9.126500       0 -0.005107   \n",
       "2017-06-06  3492.88  3466.445  3449.064167   17.380833       0  0.006932   \n",
       "2017-06-07  3533.87  3478.708  3450.483167   28.224833       1  0.011667   \n",
       "2017-06-08  3560.98  3492.387  3452.717167   39.669833       1  0.007642   \n",
       "2017-06-09  3576.17  3507.587  3455.188500   52.398500       1  0.004257   \n",
       "2017-06-12  3574.39  3516.460  3457.126667   59.333333       1 -0.000498   \n",
       "2017-06-13  3582.27  3526.644  3459.219667   67.424333       1  0.002202   \n",
       "2017-06-14  3535.30  3530.886  3460.414000   70.472000       1 -0.013199   \n",
       "2017-06-15  3528.79  3533.991  3461.202000   72.789000       1 -0.001843   \n",
       "2017-06-16  3518.76  3537.216  3462.417833   74.798167       1 -0.002846   \n",
       "2017-06-19  3553.67  3545.708  3464.152167   81.555833       1  0.009872   \n",
       "2017-06-20  3546.49  3551.069  3465.487833   85.581167       1 -0.002022   \n",
       "2017-06-21  3587.96  3556.478  3467.786333   88.691667       1  0.011625   \n",
       "2017-06-22  3590.34  3559.414  3469.925667   89.488333       1  0.000663   \n",
       "2017-06-23  3622.88  3564.085  3472.147000   91.938000       1  0.009022   \n",
       "2017-06-26  3668.09  3573.455  3475.314500   98.140500       1  0.012402   \n",
       "2017-06-27  3674.72  3582.700  3478.729667  103.970333       1  0.001806   \n",
       "2017-06-28  3646.17  3593.787  3481.746000  112.041000       1 -0.007800   \n",
       "2017-06-29  3668.83  3607.791  3485.613833  122.177167       1  0.006196   \n",
       "2017-06-30  3666.80  3622.595  3489.126333  133.468667       1 -0.000553   \n",
       "\n",
       "            Strategy  \n",
       "date                  \n",
       "2017-06-05 -0.005107  \n",
       "2017-06-06  0.006932  \n",
       "2017-06-07  0.011667  \n",
       "2017-06-08  0.007642  \n",
       "2017-06-09  0.004257  \n",
       "2017-06-12 -0.000498  \n",
       "2017-06-13  0.002202  \n",
       "2017-06-14 -0.013199  \n",
       "2017-06-15 -0.001843  \n",
       "2017-06-16 -0.002846  \n",
       "2017-06-19  0.009872  \n",
       "2017-06-20 -0.002022  \n",
       "2017-06-21  0.011625  \n",
       "2017-06-22  0.000663  \n",
       "2017-06-23  0.009022  \n",
       "2017-06-26  0.012402  \n",
       "2017-06-27  0.001806  \n",
       "2017-06-28 -0.007800  \n",
       "2017-06-29  0.006196  \n",
       "2017-06-30 -0.000553  "
      ]
     },
     "execution_count": 55,
     "metadata": {},
     "output_type": "execute_result"
    }
   ],
   "source": [
    "hs300.tail(20)"
   ]
  },
  {
   "cell_type": "code",
   "execution_count": 56,
   "metadata": {
    "collapsed": true
   },
   "outputs": [],
   "source": [
    "hs300['Market'] = np.log(hs300['price']/hs300['price'].shift(1))"
   ]
  },
  {
   "cell_type": "code",
   "execution_count": 57,
   "metadata": {
    "collapsed": true
   },
   "outputs": [],
   "source": [
    "hs300['Strategy'] = hs300['regime'].shift(1) * hs300['Market']"
   ]
  },
  {
   "cell_type": "code",
   "execution_count": 58,
   "metadata": {},
   "outputs": [
    {
     "data": {
      "text/plain": [
       "<matplotlib.axes._subplots.AxesSubplot at 0x1de6211c278>"
      ]
     },
     "execution_count": 58,
     "metadata": {},
     "output_type": "execute_result"
    },
    {
     "data": {
      "image/png": "[encoded data removed]",
      "text/plain": [
       "<matplotlib.figure.Figure at 0x1de621c3438>"
      ]
     },
     "metadata": {},
     "output_type": "display_data"
    }
   ],
   "source": [
    "hs300[['Market','Strategy']].cumsum().apply(np.exp).plot(grid=True, figsize = (10,8))"
   ]
  },
  {
   "cell_type": "markdown",
   "metadata": {},
   "source": [
    "声明：本资料仅限内部研究和交流使用，切勿外传。"
   ]
  }
 ],
 "metadata": {
  "anaconda-cloud": {},
  "kernelspec": {
   "display_name": "Python 2",
   "language": "python",
   "name": "python2"
  },
  "language_info": {
   "codemirror_mode": {
    "name": "ipython",
    "version": 2
   },
   "file_extension": ".py",
   "mimetype": "text/x-python",
   "name": "python",
   "nbconvert_exporter": "python",
   "pygments_lexer": "ipython2",
   "version": "2.7.13"
  }
 },
 "nbformat": 4,
 "nbformat_minor": 1
}
