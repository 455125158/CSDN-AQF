{
 "cells": [
  {
   "cell_type": "markdown",
   "metadata": {},
   "source": [
    "## 机器学习策略——基于逻辑回归的股市趋势预测(及SVM策略)"
   ]
  },
  {
   "cell_type": "code",
   "execution_count": 1,
   "metadata": {
    "collapsed": true
   },
   "outputs": [],
   "source": [
    "%matplotlib inline\n",
    "import seaborn\n",
    "import matplotlib as mpl\n",
    "mpl.rcParams['font.family'] = 'serif'\n",
    "import warnings; warnings.simplefilter('ignore') #忽略可能会出现的警告信息，警告并不是错误，可以忽略；"
   ]
  },
  {
   "cell_type": "markdown",
   "metadata": {},
   "source": [
    "### 1. 数据获取"
   ]
  },
  {
   "cell_type": "code",
   "execution_count": 2,
   "metadata": {
    "collapsed": true
   },
   "outputs": [],
   "source": [
    "import pandas as pd\n",
    "import numpy as np\n",
    "import tushare as ts"
   ]
  },
  {
   "cell_type": "code",
   "execution_count": 3,
   "metadata": {
    "collapsed": true
   },
   "outputs": [],
   "source": [
    "hs300 = ts.get_k_data('hs300', start = '2013-01-01', end = '2016-06-25')   #训练集数据"
   ]
  },
  {
   "cell_type": "code",
   "execution_count": 4,
   "metadata": {},
   "outputs": [],
   "source": [
    "hs300.set_index('date', inplace = True)"
   ]
  },
  {
   "cell_type": "code",
   "execution_count": 5,
   "metadata": {},
   "outputs": [],
   "source": [
    "hs300['returns'] = hs300['close'].pct_change()"
   ]
  },
  {
   "cell_type": "code",
   "execution_count": 6,
   "metadata": {
    "collapsed": true
   },
   "outputs": [],
   "source": [
    "hs300.dropna(inplace=True)            #有NaN值的话会影响机器学习算法；"
   ]
  },
  {
   "cell_type": "code",
   "execution_count": 7,
   "metadata": {},
   "outputs": [
    {
     "data": {
      "text/html": [
       "<div>\n",
       "<style>\n",
       "    .dataframe thead tr:only-child th {\n",
       "        text-align: right;\n",
       "    }\n",
       "\n",
       "    .dataframe thead th {\n",
       "        text-align: left;\n",
       "    }\n",
       "\n",
       "    .dataframe tbody tr th {\n",
       "        vertical-align: top;\n",
       "    }\n",
       "</style>\n",
       "<table border=\"1\" class=\"dataframe\">\n",
       "  <thead>\n",
       "    <tr style=\"text-align: right;\">\n",
       "      <th></th>\n",
       "      <th>open</th>\n",
       "      <th>close</th>\n",
       "      <th>high</th>\n",
       "      <th>low</th>\n",
       "      <th>volume</th>\n",
       "      <th>code</th>\n",
       "      <th>returns</th>\n",
       "    </tr>\n",
       "    <tr>\n",
       "      <th>date</th>\n",
       "      <th></th>\n",
       "      <th></th>\n",
       "      <th></th>\n",
       "      <th></th>\n",
       "      <th></th>\n",
       "      <th></th>\n",
       "      <th></th>\n",
       "    </tr>\n",
       "  </thead>\n",
       "  <tbody>\n",
       "    <tr>\n",
       "      <th>2013-01-07</th>\n",
       "      <td>2518.05</td>\n",
       "      <td>2535.99</td>\n",
       "      <td>2545.97</td>\n",
       "      <td>2511.60</td>\n",
       "      <td>75167993.0</td>\n",
       "      <td>hs300</td>\n",
       "      <td>0.004587</td>\n",
       "    </tr>\n",
       "    <tr>\n",
       "      <th>2013-01-08</th>\n",
       "      <td>2534.65</td>\n",
       "      <td>2525.33</td>\n",
       "      <td>2540.51</td>\n",
       "      <td>2502.49</td>\n",
       "      <td>71837100.0</td>\n",
       "      <td>hs300</td>\n",
       "      <td>-0.004203</td>\n",
       "    </tr>\n",
       "    <tr>\n",
       "      <th>2013-01-09</th>\n",
       "      <td>2518.10</td>\n",
       "      <td>2526.13</td>\n",
       "      <td>2534.24</td>\n",
       "      <td>2504.30</td>\n",
       "      <td>70231170.0</td>\n",
       "      <td>hs300</td>\n",
       "      <td>0.000317</td>\n",
       "    </tr>\n",
       "    <tr>\n",
       "      <th>2013-01-10</th>\n",
       "      <td>2525.59</td>\n",
       "      <td>2530.57</td>\n",
       "      <td>2553.35</td>\n",
       "      <td>2513.73</td>\n",
       "      <td>71085862.0</td>\n",
       "      <td>hs300</td>\n",
       "      <td>0.001758</td>\n",
       "    </tr>\n",
       "    <tr>\n",
       "      <th>2013-01-11</th>\n",
       "      <td>2533.50</td>\n",
       "      <td>2483.23</td>\n",
       "      <td>2539.79</td>\n",
       "      <td>2473.70</td>\n",
       "      <td>74239176.0</td>\n",
       "      <td>hs300</td>\n",
       "      <td>-0.018707</td>\n",
       "    </tr>\n",
       "  </tbody>\n",
       "</table>\n",
       "</div>"
      ],
      "text/plain": [
       "               open    close     high      low      volume   code   returns\n",
       "date                                                                       \n",
       "2013-01-07  2518.05  2535.99  2545.97  2511.60  75167993.0  hs300  0.004587\n",
       "2013-01-08  2534.65  2525.33  2540.51  2502.49  71837100.0  hs300 -0.004203\n",
       "2013-01-09  2518.10  2526.13  2534.24  2504.30  70231170.0  hs300  0.000317\n",
       "2013-01-10  2525.59  2530.57  2553.35  2513.73  71085862.0  hs300  0.001758\n",
       "2013-01-11  2533.50  2483.23  2539.79  2473.70  74239176.0  hs300 -0.018707"
      ]
     },
     "execution_count": 7,
     "metadata": {},
     "output_type": "execute_result"
    }
   ],
   "source": [
    "hs300.head()"
   ]
  },
  {
   "cell_type": "markdown",
   "metadata": {},
   "source": [
    "### 2. 数据处理——特征工程处理"
   ]
  },
  {
   "cell_type": "code",
   "execution_count": 8,
   "metadata": {},
   "outputs": [],
   "source": [
    "#特征的生成；\n",
    "for i in range(1, 8, 1):\n",
    "    hs300['close - ' + str(i) + 'd'] = hs300['close'].shift(i)"
   ]
  },
  {
   "cell_type": "code",
   "execution_count": 9,
   "metadata": {},
   "outputs": [
    {
     "data": {
      "text/html": [
       "<div>\n",
       "<style>\n",
       "    .dataframe thead tr:only-child th {\n",
       "        text-align: right;\n",
       "    }\n",
       "\n",
       "    .dataframe thead th {\n",
       "        text-align: left;\n",
       "    }\n",
       "\n",
       "    .dataframe tbody tr th {\n",
       "        vertical-align: top;\n",
       "    }\n",
       "</style>\n",
       "<table border=\"1\" class=\"dataframe\">\n",
       "  <thead>\n",
       "    <tr style=\"text-align: right;\">\n",
       "      <th></th>\n",
       "      <th>open</th>\n",
       "      <th>close</th>\n",
       "      <th>high</th>\n",
       "      <th>low</th>\n",
       "      <th>volume</th>\n",
       "      <th>code</th>\n",
       "      <th>returns</th>\n",
       "      <th>close - 1d</th>\n",
       "      <th>close - 2d</th>\n",
       "      <th>close - 3d</th>\n",
       "      <th>close - 4d</th>\n",
       "      <th>close - 5d</th>\n",
       "      <th>close - 6d</th>\n",
       "      <th>close - 7d</th>\n",
       "    </tr>\n",
       "    <tr>\n",
       "      <th>date</th>\n",
       "      <th></th>\n",
       "      <th></th>\n",
       "      <th></th>\n",
       "      <th></th>\n",
       "      <th></th>\n",
       "      <th></th>\n",
       "      <th></th>\n",
       "      <th></th>\n",
       "      <th></th>\n",
       "      <th></th>\n",
       "      <th></th>\n",
       "      <th></th>\n",
       "      <th></th>\n",
       "      <th></th>\n",
       "    </tr>\n",
       "  </thead>\n",
       "  <tbody>\n",
       "    <tr>\n",
       "      <th>2013-01-07</th>\n",
       "      <td>2518.05</td>\n",
       "      <td>2535.99</td>\n",
       "      <td>2545.97</td>\n",
       "      <td>2511.60</td>\n",
       "      <td>75167993.0</td>\n",
       "      <td>hs300</td>\n",
       "      <td>0.004587</td>\n",
       "      <td>NaN</td>\n",
       "      <td>NaN</td>\n",
       "      <td>NaN</td>\n",
       "      <td>NaN</td>\n",
       "      <td>NaN</td>\n",
       "      <td>NaN</td>\n",
       "      <td>NaN</td>\n",
       "    </tr>\n",
       "    <tr>\n",
       "      <th>2013-01-08</th>\n",
       "      <td>2534.65</td>\n",
       "      <td>2525.33</td>\n",
       "      <td>2540.51</td>\n",
       "      <td>2502.49</td>\n",
       "      <td>71837100.0</td>\n",
       "      <td>hs300</td>\n",
       "      <td>-0.004203</td>\n",
       "      <td>2535.99</td>\n",
       "      <td>NaN</td>\n",
       "      <td>NaN</td>\n",
       "      <td>NaN</td>\n",
       "      <td>NaN</td>\n",
       "      <td>NaN</td>\n",
       "      <td>NaN</td>\n",
       "    </tr>\n",
       "    <tr>\n",
       "      <th>2013-01-09</th>\n",
       "      <td>2518.10</td>\n",
       "      <td>2526.13</td>\n",
       "      <td>2534.24</td>\n",
       "      <td>2504.30</td>\n",
       "      <td>70231170.0</td>\n",
       "      <td>hs300</td>\n",
       "      <td>0.000317</td>\n",
       "      <td>2525.33</td>\n",
       "      <td>2535.99</td>\n",
       "      <td>NaN</td>\n",
       "      <td>NaN</td>\n",
       "      <td>NaN</td>\n",
       "      <td>NaN</td>\n",
       "      <td>NaN</td>\n",
       "    </tr>\n",
       "    <tr>\n",
       "      <th>2013-01-10</th>\n",
       "      <td>2525.59</td>\n",
       "      <td>2530.57</td>\n",
       "      <td>2553.35</td>\n",
       "      <td>2513.73</td>\n",
       "      <td>71085862.0</td>\n",
       "      <td>hs300</td>\n",
       "      <td>0.001758</td>\n",
       "      <td>2526.13</td>\n",
       "      <td>2525.33</td>\n",
       "      <td>2535.99</td>\n",
       "      <td>NaN</td>\n",
       "      <td>NaN</td>\n",
       "      <td>NaN</td>\n",
       "      <td>NaN</td>\n",
       "    </tr>\n",
       "    <tr>\n",
       "      <th>2013-01-11</th>\n",
       "      <td>2533.50</td>\n",
       "      <td>2483.23</td>\n",
       "      <td>2539.79</td>\n",
       "      <td>2473.70</td>\n",
       "      <td>74239176.0</td>\n",
       "      <td>hs300</td>\n",
       "      <td>-0.018707</td>\n",
       "      <td>2530.57</td>\n",
       "      <td>2526.13</td>\n",
       "      <td>2525.33</td>\n",
       "      <td>2535.99</td>\n",
       "      <td>NaN</td>\n",
       "      <td>NaN</td>\n",
       "      <td>NaN</td>\n",
       "    </tr>\n",
       "    <tr>\n",
       "      <th>2013-01-14</th>\n",
       "      <td>2474.18</td>\n",
       "      <td>2577.73</td>\n",
       "      <td>2583.62</td>\n",
       "      <td>2474.00</td>\n",
       "      <td>93554091.0</td>\n",
       "      <td>hs300</td>\n",
       "      <td>0.038055</td>\n",
       "      <td>2483.23</td>\n",
       "      <td>2530.57</td>\n",
       "      <td>2526.13</td>\n",
       "      <td>2525.33</td>\n",
       "      <td>2535.99</td>\n",
       "      <td>NaN</td>\n",
       "      <td>NaN</td>\n",
       "    </tr>\n",
       "    <tr>\n",
       "      <th>2013-01-15</th>\n",
       "      <td>2579.13</td>\n",
       "      <td>2595.86</td>\n",
       "      <td>2605.41</td>\n",
       "      <td>2576.92</td>\n",
       "      <td>98620805.0</td>\n",
       "      <td>hs300</td>\n",
       "      <td>0.007033</td>\n",
       "      <td>2577.73</td>\n",
       "      <td>2483.23</td>\n",
       "      <td>2530.57</td>\n",
       "      <td>2526.13</td>\n",
       "      <td>2525.33</td>\n",
       "      <td>2535.99</td>\n",
       "      <td>NaN</td>\n",
       "    </tr>\n",
       "    <tr>\n",
       "      <th>2013-01-16</th>\n",
       "      <td>2591.36</td>\n",
       "      <td>2577.09</td>\n",
       "      <td>2600.09</td>\n",
       "      <td>2540.52</td>\n",
       "      <td>93536084.0</td>\n",
       "      <td>hs300</td>\n",
       "      <td>-0.007231</td>\n",
       "      <td>2595.86</td>\n",
       "      <td>2577.73</td>\n",
       "      <td>2483.23</td>\n",
       "      <td>2530.57</td>\n",
       "      <td>2526.13</td>\n",
       "      <td>2525.33</td>\n",
       "      <td>2535.99</td>\n",
       "    </tr>\n",
       "  </tbody>\n",
       "</table>\n",
       "</div>"
      ],
      "text/plain": [
       "               open    close     high      low      volume   code   returns  \\\n",
       "date                                                                          \n",
       "2013-01-07  2518.05  2535.99  2545.97  2511.60  75167993.0  hs300  0.004587   \n",
       "2013-01-08  2534.65  2525.33  2540.51  2502.49  71837100.0  hs300 -0.004203   \n",
       "2013-01-09  2518.10  2526.13  2534.24  2504.30  70231170.0  hs300  0.000317   \n",
       "2013-01-10  2525.59  2530.57  2553.35  2513.73  71085862.0  hs300  0.001758   \n",
       "2013-01-11  2533.50  2483.23  2539.79  2473.70  74239176.0  hs300 -0.018707   \n",
       "2013-01-14  2474.18  2577.73  2583.62  2474.00  93554091.0  hs300  0.038055   \n",
       "2013-01-15  2579.13  2595.86  2605.41  2576.92  98620805.0  hs300  0.007033   \n",
       "2013-01-16  2591.36  2577.09  2600.09  2540.52  93536084.0  hs300 -0.007231   \n",
       "\n",
       "            close - 1d  close - 2d  close - 3d  close - 4d  close - 5d  \\\n",
       "date                                                                     \n",
       "2013-01-07         NaN         NaN         NaN         NaN         NaN   \n",
       "2013-01-08     2535.99         NaN         NaN         NaN         NaN   \n",
       "2013-01-09     2525.33     2535.99         NaN         NaN         NaN   \n",
       "2013-01-10     2526.13     2525.33     2535.99         NaN         NaN   \n",
       "2013-01-11     2530.57     2526.13     2525.33     2535.99         NaN   \n",
       "2013-01-14     2483.23     2530.57     2526.13     2525.33     2535.99   \n",
       "2013-01-15     2577.73     2483.23     2530.57     2526.13     2525.33   \n",
       "2013-01-16     2595.86     2577.73     2483.23     2530.57     2526.13   \n",
       "\n",
       "            close - 6d  close - 7d  \n",
       "date                                \n",
       "2013-01-07         NaN         NaN  \n",
       "2013-01-08         NaN         NaN  \n",
       "2013-01-09         NaN         NaN  \n",
       "2013-01-10         NaN         NaN  \n",
       "2013-01-11         NaN         NaN  \n",
       "2013-01-14         NaN         NaN  \n",
       "2013-01-15     2535.99         NaN  \n",
       "2013-01-16     2525.33     2535.99  "
      ]
     },
     "execution_count": 9,
     "metadata": {},
     "output_type": "execute_result"
    }
   ],
   "source": [
    "hs300.head(8)"
   ]
  },
  {
   "cell_type": "code",
   "execution_count": 10,
   "metadata": {
    "collapsed": true
   },
   "outputs": [],
   "source": [
    "hs_7d = hs300[[x for x in hs300.columns if 'close' in x]].iloc[7:]   #从第八行开始没有NaN地方开始取值作为features"
   ]
  },
  {
   "cell_type": "code",
   "execution_count": 11,
   "metadata": {},
   "outputs": [
    {
     "data": {
      "text/html": [
       "<div>\n",
       "<style>\n",
       "    .dataframe thead tr:only-child th {\n",
       "        text-align: right;\n",
       "    }\n",
       "\n",
       "    .dataframe thead th {\n",
       "        text-align: left;\n",
       "    }\n",
       "\n",
       "    .dataframe tbody tr th {\n",
       "        vertical-align: top;\n",
       "    }\n",
       "</style>\n",
       "<table border=\"1\" class=\"dataframe\">\n",
       "  <thead>\n",
       "    <tr style=\"text-align: right;\">\n",
       "      <th></th>\n",
       "      <th>close</th>\n",
       "      <th>close - 1d</th>\n",
       "      <th>close - 2d</th>\n",
       "      <th>close - 3d</th>\n",
       "      <th>close - 4d</th>\n",
       "      <th>close - 5d</th>\n",
       "      <th>close - 6d</th>\n",
       "      <th>close - 7d</th>\n",
       "    </tr>\n",
       "    <tr>\n",
       "      <th>date</th>\n",
       "      <th></th>\n",
       "      <th></th>\n",
       "      <th></th>\n",
       "      <th></th>\n",
       "      <th></th>\n",
       "      <th></th>\n",
       "      <th></th>\n",
       "      <th></th>\n",
       "    </tr>\n",
       "  </thead>\n",
       "  <tbody>\n",
       "    <tr>\n",
       "      <th>2013-01-16</th>\n",
       "      <td>2577.09</td>\n",
       "      <td>2595.86</td>\n",
       "      <td>2577.73</td>\n",
       "      <td>2483.23</td>\n",
       "      <td>2530.57</td>\n",
       "      <td>2526.13</td>\n",
       "      <td>2525.33</td>\n",
       "      <td>2535.99</td>\n",
       "    </tr>\n",
       "    <tr>\n",
       "      <th>2013-01-17</th>\n",
       "      <td>2552.76</td>\n",
       "      <td>2577.09</td>\n",
       "      <td>2595.86</td>\n",
       "      <td>2577.73</td>\n",
       "      <td>2483.23</td>\n",
       "      <td>2530.57</td>\n",
       "      <td>2526.13</td>\n",
       "      <td>2525.33</td>\n",
       "    </tr>\n",
       "    <tr>\n",
       "      <th>2013-01-18</th>\n",
       "      <td>2595.44</td>\n",
       "      <td>2552.76</td>\n",
       "      <td>2577.09</td>\n",
       "      <td>2595.86</td>\n",
       "      <td>2577.73</td>\n",
       "      <td>2483.23</td>\n",
       "      <td>2530.57</td>\n",
       "      <td>2526.13</td>\n",
       "    </tr>\n",
       "    <tr>\n",
       "      <th>2013-01-21</th>\n",
       "      <td>2610.90</td>\n",
       "      <td>2595.44</td>\n",
       "      <td>2552.76</td>\n",
       "      <td>2577.09</td>\n",
       "      <td>2595.86</td>\n",
       "      <td>2577.73</td>\n",
       "      <td>2483.23</td>\n",
       "      <td>2530.57</td>\n",
       "    </tr>\n",
       "    <tr>\n",
       "      <th>2013-01-22</th>\n",
       "      <td>2596.90</td>\n",
       "      <td>2610.90</td>\n",
       "      <td>2595.44</td>\n",
       "      <td>2552.76</td>\n",
       "      <td>2577.09</td>\n",
       "      <td>2595.86</td>\n",
       "      <td>2577.73</td>\n",
       "      <td>2483.23</td>\n",
       "    </tr>\n",
       "    <tr>\n",
       "      <th>2013-01-23</th>\n",
       "      <td>2607.46</td>\n",
       "      <td>2596.90</td>\n",
       "      <td>2610.90</td>\n",
       "      <td>2595.44</td>\n",
       "      <td>2552.76</td>\n",
       "      <td>2577.09</td>\n",
       "      <td>2595.86</td>\n",
       "      <td>2577.73</td>\n",
       "    </tr>\n",
       "    <tr>\n",
       "      <th>2013-01-24</th>\n",
       "      <td>2582.75</td>\n",
       "      <td>2607.46</td>\n",
       "      <td>2596.90</td>\n",
       "      <td>2610.90</td>\n",
       "      <td>2595.44</td>\n",
       "      <td>2552.76</td>\n",
       "      <td>2577.09</td>\n",
       "      <td>2595.86</td>\n",
       "    </tr>\n",
       "    <tr>\n",
       "      <th>2013-01-25</th>\n",
       "      <td>2571.67</td>\n",
       "      <td>2582.75</td>\n",
       "      <td>2607.46</td>\n",
       "      <td>2596.90</td>\n",
       "      <td>2610.90</td>\n",
       "      <td>2595.44</td>\n",
       "      <td>2552.76</td>\n",
       "      <td>2577.09</td>\n",
       "    </tr>\n",
       "    <tr>\n",
       "      <th>2013-01-28</th>\n",
       "      <td>2651.86</td>\n",
       "      <td>2571.67</td>\n",
       "      <td>2582.75</td>\n",
       "      <td>2607.46</td>\n",
       "      <td>2596.90</td>\n",
       "      <td>2610.90</td>\n",
       "      <td>2595.44</td>\n",
       "      <td>2552.76</td>\n",
       "    </tr>\n",
       "    <tr>\n",
       "      <th>2013-01-29</th>\n",
       "      <td>2675.87</td>\n",
       "      <td>2651.86</td>\n",
       "      <td>2571.67</td>\n",
       "      <td>2582.75</td>\n",
       "      <td>2607.46</td>\n",
       "      <td>2596.90</td>\n",
       "      <td>2610.90</td>\n",
       "      <td>2595.44</td>\n",
       "    </tr>\n",
       "  </tbody>\n",
       "</table>\n",
       "</div>"
      ],
      "text/plain": [
       "              close  close - 1d  close - 2d  close - 3d  close - 4d  \\\n",
       "date                                                                  \n",
       "2013-01-16  2577.09     2595.86     2577.73     2483.23     2530.57   \n",
       "2013-01-17  2552.76     2577.09     2595.86     2577.73     2483.23   \n",
       "2013-01-18  2595.44     2552.76     2577.09     2595.86     2577.73   \n",
       "2013-01-21  2610.90     2595.44     2552.76     2577.09     2595.86   \n",
       "2013-01-22  2596.90     2610.90     2595.44     2552.76     2577.09   \n",
       "2013-01-23  2607.46     2596.90     2610.90     2595.44     2552.76   \n",
       "2013-01-24  2582.75     2607.46     2596.90     2610.90     2595.44   \n",
       "2013-01-25  2571.67     2582.75     2607.46     2596.90     2610.90   \n",
       "2013-01-28  2651.86     2571.67     2582.75     2607.46     2596.90   \n",
       "2013-01-29  2675.87     2651.86     2571.67     2582.75     2607.46   \n",
       "\n",
       "            close - 5d  close - 6d  close - 7d  \n",
       "date                                            \n",
       "2013-01-16     2526.13     2525.33     2535.99  \n",
       "2013-01-17     2530.57     2526.13     2525.33  \n",
       "2013-01-18     2483.23     2530.57     2526.13  \n",
       "2013-01-21     2577.73     2483.23     2530.57  \n",
       "2013-01-22     2595.86     2577.73     2483.23  \n",
       "2013-01-23     2577.09     2595.86     2577.73  \n",
       "2013-01-24     2552.76     2577.09     2595.86  \n",
       "2013-01-25     2595.44     2552.76     2577.09  \n",
       "2013-01-28     2610.90     2595.44     2552.76  \n",
       "2013-01-29     2596.90     2610.90     2595.44  "
      ]
     },
     "execution_count": 11,
     "metadata": {},
     "output_type": "execute_result"
    }
   ],
   "source": [
    "hs_7d.head(10)"
   ]
  },
  {
   "cell_type": "code",
   "execution_count": 12,
   "metadata": {
    "collapsed": true
   },
   "outputs": [],
   "source": [
    "import sklearn\n",
    "from sklearn import linear_model"
   ]
  },
  {
   "cell_type": "code",
   "execution_count": 13,
   "metadata": {
    "scrolled": true
   },
   "outputs": [
    {
     "data": {
      "text/plain": [
       "array([[-0.48980854, -0.46439863, -0.48725682, ..., -0.5517547 ,\n",
       "        -0.55179916, -0.53688237],\n",
       "       [-0.52169806, -0.48899784, -0.46349906, ..., -0.54593936,\n",
       "        -0.55075152, -0.55084015],\n",
       "       [-0.46575704, -0.52088377, -0.48809548, ..., -0.60794343,\n",
       "        -0.54493708, -0.54979267],\n",
       "       ..., \n",
       "       [ 0.24008548,  0.20458992,  0.2137346 , ...,  0.22131846,\n",
       "         0.1693086 ,  0.15753698],\n",
       "       [ 0.2182753 ,  0.2408138 ,  0.20541349, ...,  0.19289665,\n",
       "         0.22220162,  0.17015921],\n",
       "       [ 0.16563726,  0.21900608,  0.24163326, ...,  0.2134468 ,\n",
       "         0.19378422,  0.22304428]])"
      ]
     },
     "execution_count": 13,
     "metadata": {},
     "output_type": "execute_result"
    }
   ],
   "source": [
    "X_train = hs_7d\n",
    "X_train = sklearn.preprocessing.scale(X_train)    #对features进行标准化；\n",
    "X_train"
   ]
  },
  {
   "cell_type": "markdown",
   "metadata": {},
   "source": [
    "### 3. 逻辑回归预测股价趋势算法实现"
   ]
  },
  {
   "cell_type": "code",
   "execution_count": 14,
   "metadata": {
    "collapsed": true
   },
   "outputs": [],
   "source": [
    "lm = linear_model.LogisticRegression(C=1000)"
   ]
  },
  {
   "cell_type": "code",
   "execution_count": 15,
   "metadata": {},
   "outputs": [
    {
     "data": {
      "text/plain": [
       "array([[ 1.],\n",
       "       [ 1.],\n",
       "       [-1.],\n",
       "       [ 1.],\n",
       "       [ 1.],\n",
       "       [-1.],\n",
       "       [ 1.],\n",
       "       [-1.],\n",
       "       [-1.],\n",
       "       [ 0.]])"
      ]
     },
     "execution_count": 15,
     "metadata": {},
     "output_type": "execute_result"
    }
   ],
   "source": [
    "# 计算出训练集的labels；\n",
    "y_train = np.sign(hs_7d['close'].pct_change().shift(-1))       #非常重要；拿到下一天的收益，用.shift(-1)\n",
    "y_train.replace(to_replace= np.NaN, value = 0,inplace = True)\n",
    "y_train = y_train.reshape(-1,1)\n",
    "y_train[-10:]"
   ]
  },
  {
   "cell_type": "code",
   "execution_count": 16,
   "metadata": {},
   "outputs": [
    {
     "data": {
      "text/plain": [
       "LogisticRegression(C=1000, class_weight=None, dual=False, fit_intercept=True,\n",
       "          intercept_scaling=1, max_iter=100, multi_class='ovr', n_jobs=1,\n",
       "          penalty='l2', random_state=None, solver='liblinear', tol=0.0001,\n",
       "          verbose=0, warm_start=False)"
      ]
     },
     "execution_count": 16,
     "metadata": {},
     "output_type": "execute_result"
    }
   ],
   "source": [
    "lm.fit(X_train, y_train)"
   ]
  },
  {
   "cell_type": "code",
   "execution_count": 17,
   "metadata": {},
   "outputs": [
    {
     "data": {
      "text/plain": [
       "0.54610778443113772"
      ]
     },
     "execution_count": 17,
     "metadata": {},
     "output_type": "execute_result"
    }
   ],
   "source": [
    "lm.score(X_train, y_train)"
   ]
  },
  {
   "cell_type": "code",
   "execution_count": 18,
   "metadata": {},
   "outputs": [],
   "source": [
    "hs300['prediction'] = np.NaN\n",
    "hs300['prediction'].ix[7:] = lm.predict(X_train)    #返回的是我预测的训练集的labels；"
   ]
  },
  {
   "cell_type": "code",
   "execution_count": 28,
   "metadata": {},
   "outputs": [
    {
     "data": {
      "text/html": [
       "<div>\n",
       "<style>\n",
       "    .dataframe thead tr:only-child th {\n",
       "        text-align: right;\n",
       "    }\n",
       "\n",
       "    .dataframe thead th {\n",
       "        text-align: left;\n",
       "    }\n",
       "\n",
       "    .dataframe tbody tr th {\n",
       "        vertical-align: top;\n",
       "    }\n",
       "</style>\n",
       "<table border=\"1\" class=\"dataframe\">\n",
       "  <thead>\n",
       "    <tr style=\"text-align: right;\">\n",
       "      <th></th>\n",
       "      <th>open</th>\n",
       "      <th>close</th>\n",
       "      <th>high</th>\n",
       "      <th>low</th>\n",
       "      <th>volume</th>\n",
       "      <th>code</th>\n",
       "      <th>returns</th>\n",
       "      <th>close - 1d</th>\n",
       "      <th>close - 2d</th>\n",
       "      <th>close - 3d</th>\n",
       "      <th>close - 4d</th>\n",
       "      <th>close - 5d</th>\n",
       "      <th>close - 6d</th>\n",
       "      <th>close - 7d</th>\n",
       "      <th>prediction</th>\n",
       "    </tr>\n",
       "    <tr>\n",
       "      <th>date</th>\n",
       "      <th></th>\n",
       "      <th></th>\n",
       "      <th></th>\n",
       "      <th></th>\n",
       "      <th></th>\n",
       "      <th></th>\n",
       "      <th></th>\n",
       "      <th></th>\n",
       "      <th></th>\n",
       "      <th></th>\n",
       "      <th></th>\n",
       "      <th></th>\n",
       "      <th></th>\n",
       "      <th></th>\n",
       "      <th></th>\n",
       "    </tr>\n",
       "  </thead>\n",
       "  <tbody>\n",
       "    <tr>\n",
       "      <th>2013-01-07</th>\n",
       "      <td>2518.05</td>\n",
       "      <td>2535.99</td>\n",
       "      <td>2545.97</td>\n",
       "      <td>2511.60</td>\n",
       "      <td>75167993.0</td>\n",
       "      <td>hs300</td>\n",
       "      <td>0.004587</td>\n",
       "      <td>NaN</td>\n",
       "      <td>NaN</td>\n",
       "      <td>NaN</td>\n",
       "      <td>NaN</td>\n",
       "      <td>NaN</td>\n",
       "      <td>NaN</td>\n",
       "      <td>NaN</td>\n",
       "      <td>NaN</td>\n",
       "    </tr>\n",
       "    <tr>\n",
       "      <th>2013-01-08</th>\n",
       "      <td>2534.65</td>\n",
       "      <td>2525.33</td>\n",
       "      <td>2540.51</td>\n",
       "      <td>2502.49</td>\n",
       "      <td>71837100.0</td>\n",
       "      <td>hs300</td>\n",
       "      <td>-0.004203</td>\n",
       "      <td>2535.99</td>\n",
       "      <td>NaN</td>\n",
       "      <td>NaN</td>\n",
       "      <td>NaN</td>\n",
       "      <td>NaN</td>\n",
       "      <td>NaN</td>\n",
       "      <td>NaN</td>\n",
       "      <td>NaN</td>\n",
       "    </tr>\n",
       "    <tr>\n",
       "      <th>2013-01-09</th>\n",
       "      <td>2518.10</td>\n",
       "      <td>2526.13</td>\n",
       "      <td>2534.24</td>\n",
       "      <td>2504.30</td>\n",
       "      <td>70231170.0</td>\n",
       "      <td>hs300</td>\n",
       "      <td>0.000317</td>\n",
       "      <td>2525.33</td>\n",
       "      <td>2535.99</td>\n",
       "      <td>NaN</td>\n",
       "      <td>NaN</td>\n",
       "      <td>NaN</td>\n",
       "      <td>NaN</td>\n",
       "      <td>NaN</td>\n",
       "      <td>NaN</td>\n",
       "    </tr>\n",
       "    <tr>\n",
       "      <th>2013-01-10</th>\n",
       "      <td>2525.59</td>\n",
       "      <td>2530.57</td>\n",
       "      <td>2553.35</td>\n",
       "      <td>2513.73</td>\n",
       "      <td>71085862.0</td>\n",
       "      <td>hs300</td>\n",
       "      <td>0.001758</td>\n",
       "      <td>2526.13</td>\n",
       "      <td>2525.33</td>\n",
       "      <td>2535.99</td>\n",
       "      <td>NaN</td>\n",
       "      <td>NaN</td>\n",
       "      <td>NaN</td>\n",
       "      <td>NaN</td>\n",
       "      <td>NaN</td>\n",
       "    </tr>\n",
       "    <tr>\n",
       "      <th>2013-01-11</th>\n",
       "      <td>2533.50</td>\n",
       "      <td>2483.23</td>\n",
       "      <td>2539.79</td>\n",
       "      <td>2473.70</td>\n",
       "      <td>74239176.0</td>\n",
       "      <td>hs300</td>\n",
       "      <td>-0.018707</td>\n",
       "      <td>2530.57</td>\n",
       "      <td>2526.13</td>\n",
       "      <td>2525.33</td>\n",
       "      <td>2535.99</td>\n",
       "      <td>NaN</td>\n",
       "      <td>NaN</td>\n",
       "      <td>NaN</td>\n",
       "      <td>NaN</td>\n",
       "    </tr>\n",
       "    <tr>\n",
       "      <th>2013-01-14</th>\n",
       "      <td>2474.18</td>\n",
       "      <td>2577.73</td>\n",
       "      <td>2583.62</td>\n",
       "      <td>2474.00</td>\n",
       "      <td>93554091.0</td>\n",
       "      <td>hs300</td>\n",
       "      <td>0.038055</td>\n",
       "      <td>2483.23</td>\n",
       "      <td>2530.57</td>\n",
       "      <td>2526.13</td>\n",
       "      <td>2525.33</td>\n",
       "      <td>2535.99</td>\n",
       "      <td>NaN</td>\n",
       "      <td>NaN</td>\n",
       "      <td>NaN</td>\n",
       "    </tr>\n",
       "    <tr>\n",
       "      <th>2013-01-15</th>\n",
       "      <td>2579.13</td>\n",
       "      <td>2595.86</td>\n",
       "      <td>2605.41</td>\n",
       "      <td>2576.92</td>\n",
       "      <td>98620805.0</td>\n",
       "      <td>hs300</td>\n",
       "      <td>0.007033</td>\n",
       "      <td>2577.73</td>\n",
       "      <td>2483.23</td>\n",
       "      <td>2530.57</td>\n",
       "      <td>2526.13</td>\n",
       "      <td>2525.33</td>\n",
       "      <td>2535.99</td>\n",
       "      <td>NaN</td>\n",
       "      <td>NaN</td>\n",
       "    </tr>\n",
       "    <tr>\n",
       "      <th>2013-01-16</th>\n",
       "      <td>2591.36</td>\n",
       "      <td>2577.09</td>\n",
       "      <td>2600.09</td>\n",
       "      <td>2540.52</td>\n",
       "      <td>93536084.0</td>\n",
       "      <td>hs300</td>\n",
       "      <td>-0.007231</td>\n",
       "      <td>2595.86</td>\n",
       "      <td>2577.73</td>\n",
       "      <td>2483.23</td>\n",
       "      <td>2530.57</td>\n",
       "      <td>2526.13</td>\n",
       "      <td>2525.33</td>\n",
       "      <td>2535.99</td>\n",
       "      <td>-1.0</td>\n",
       "    </tr>\n",
       "    <tr>\n",
       "      <th>2013-01-17</th>\n",
       "      <td>2570.71</td>\n",
       "      <td>2552.76</td>\n",
       "      <td>2575.06</td>\n",
       "      <td>2539.67</td>\n",
       "      <td>69915239.0</td>\n",
       "      <td>hs300</td>\n",
       "      <td>-0.009441</td>\n",
       "      <td>2577.09</td>\n",
       "      <td>2595.86</td>\n",
       "      <td>2577.73</td>\n",
       "      <td>2483.23</td>\n",
       "      <td>2530.57</td>\n",
       "      <td>2526.13</td>\n",
       "      <td>2525.33</td>\n",
       "      <td>1.0</td>\n",
       "    </tr>\n",
       "    <tr>\n",
       "      <th>2013-01-18</th>\n",
       "      <td>2568.69</td>\n",
       "      <td>2595.44</td>\n",
       "      <td>2607.45</td>\n",
       "      <td>2553.45</td>\n",
       "      <td>77940303.0</td>\n",
       "      <td>hs300</td>\n",
       "      <td>0.016719</td>\n",
       "      <td>2552.76</td>\n",
       "      <td>2577.09</td>\n",
       "      <td>2595.86</td>\n",
       "      <td>2577.73</td>\n",
       "      <td>2483.23</td>\n",
       "      <td>2530.57</td>\n",
       "      <td>2526.13</td>\n",
       "      <td>1.0</td>\n",
       "    </tr>\n",
       "  </tbody>\n",
       "</table>\n",
       "</div>"
      ],
      "text/plain": [
       "               open    close     high      low      volume   code   returns  \\\n",
       "date                                                                          \n",
       "2013-01-07  2518.05  2535.99  2545.97  2511.60  75167993.0  hs300  0.004587   \n",
       "2013-01-08  2534.65  2525.33  2540.51  2502.49  71837100.0  hs300 -0.004203   \n",
       "2013-01-09  2518.10  2526.13  2534.24  2504.30  70231170.0  hs300  0.000317   \n",
       "2013-01-10  2525.59  2530.57  2553.35  2513.73  71085862.0  hs300  0.001758   \n",
       "2013-01-11  2533.50  2483.23  2539.79  2473.70  74239176.0  hs300 -0.018707   \n",
       "2013-01-14  2474.18  2577.73  2583.62  2474.00  93554091.0  hs300  0.038055   \n",
       "2013-01-15  2579.13  2595.86  2605.41  2576.92  98620805.0  hs300  0.007033   \n",
       "2013-01-16  2591.36  2577.09  2600.09  2540.52  93536084.0  hs300 -0.007231   \n",
       "2013-01-17  2570.71  2552.76  2575.06  2539.67  69915239.0  hs300 -0.009441   \n",
       "2013-01-18  2568.69  2595.44  2607.45  2553.45  77940303.0  hs300  0.016719   \n",
       "\n",
       "            close - 1d  close - 2d  close - 3d  close - 4d  close - 5d  \\\n",
       "date                                                                     \n",
       "2013-01-07         NaN         NaN         NaN         NaN         NaN   \n",
       "2013-01-08     2535.99         NaN         NaN         NaN         NaN   \n",
       "2013-01-09     2525.33     2535.99         NaN         NaN         NaN   \n",
       "2013-01-10     2526.13     2525.33     2535.99         NaN         NaN   \n",
       "2013-01-11     2530.57     2526.13     2525.33     2535.99         NaN   \n",
       "2013-01-14     2483.23     2530.57     2526.13     2525.33     2535.99   \n",
       "2013-01-15     2577.73     2483.23     2530.57     2526.13     2525.33   \n",
       "2013-01-16     2595.86     2577.73     2483.23     2530.57     2526.13   \n",
       "2013-01-17     2577.09     2595.86     2577.73     2483.23     2530.57   \n",
       "2013-01-18     2552.76     2577.09     2595.86     2577.73     2483.23   \n",
       "\n",
       "            close - 6d  close - 7d  prediction  \n",
       "date                                            \n",
       "2013-01-07         NaN         NaN         NaN  \n",
       "2013-01-08         NaN         NaN         NaN  \n",
       "2013-01-09         NaN         NaN         NaN  \n",
       "2013-01-10         NaN         NaN         NaN  \n",
       "2013-01-11         NaN         NaN         NaN  \n",
       "2013-01-14         NaN         NaN         NaN  \n",
       "2013-01-15     2535.99         NaN         NaN  \n",
       "2013-01-16     2525.33     2535.99        -1.0  \n",
       "2013-01-17     2526.13     2525.33         1.0  \n",
       "2013-01-18     2530.57     2526.13         1.0  "
      ]
     },
     "execution_count": 28,
     "metadata": {},
     "output_type": "execute_result"
    }
   ],
   "source": [
    "hs300.head(10)"
   ]
  },
  {
   "cell_type": "code",
   "execution_count": 29,
   "metadata": {
    "scrolled": true
   },
   "outputs": [
    {
     "data": {
      "text/plain": [
       " 1.0    572\n",
       "-1.0    263\n",
       "Name: prediction, dtype: int64"
      ]
     },
     "execution_count": 29,
     "metadata": {},
     "output_type": "execute_result"
    }
   ],
   "source": [
    "hs300['prediction'].value_counts()"
   ]
  },
  {
   "cell_type": "code",
   "execution_count": 32,
   "metadata": {},
   "outputs": [],
   "source": [
    "hs300['strategy'] = (hs300['prediction'].shift(1) * hs300['returns'] + 1).cumprod()\n",
    "hs300['cum_ret'] = (hs300['returns']+1).cumprod()"
   ]
  },
  {
   "cell_type": "code",
   "execution_count": 33,
   "metadata": {},
   "outputs": [
    {
     "data": {
      "text/plain": [
       "<matplotlib.axes._subplots.AxesSubplot at 0x1c1581fabe0>"
      ]
     },
     "execution_count": 33,
     "metadata": {},
     "output_type": "execute_result"
    },
    {
     "data": {
      "image/png": "[encoded data removed]",
      "text/plain": [
       "<matplotlib.figure.Figure at 0x1c15820b208>"
      ]
     },
     "metadata": {},
     "output_type": "display_data"
    }
   ],
   "source": [
    "hs300[['strategy','cum_ret']].dropna().plot(figsize=(10, 6))"
   ]
  },
  {
   "cell_type": "markdown",
   "metadata": {},
   "source": [
    "### 4. 改变算法：SVM"
   ]
  },
  {
   "cell_type": "code",
   "execution_count": 34,
   "metadata": {},
   "outputs": [],
   "source": [
    "X_train = hs_7d"
   ]
  },
  {
   "cell_type": "code",
   "execution_count": 35,
   "metadata": {},
   "outputs": [],
   "source": [
    "from sklearn.svm import SVC\n",
    "clf_SVC = SVC(kernel = 'linear')"
   ]
  },
  {
   "cell_type": "code",
   "execution_count": 36,
   "metadata": {},
   "outputs": [
    {
     "data": {
      "text/plain": [
       "SVC(C=1.0, cache_size=200, class_weight=None, coef0=0.0,\n",
       "  decision_function_shape=None, degree=3, gamma='auto', kernel='linear',\n",
       "  max_iter=-1, probability=False, random_state=None, shrinking=True,\n",
       "  tol=0.001, verbose=False)"
      ]
     },
     "execution_count": 36,
     "metadata": {},
     "output_type": "execute_result"
    }
   ],
   "source": [
    "clf_SVC.fit(X_train, y_train)"
   ]
  },
  {
   "cell_type": "code",
   "execution_count": 37,
   "metadata": {},
   "outputs": [
    {
     "data": {
      "text/plain": [
       "0.52814371257485027"
      ]
     },
     "execution_count": 37,
     "metadata": {},
     "output_type": "execute_result"
    }
   ],
   "source": [
    "clf_SVC.score(X_train, y_train)"
   ]
  },
  {
   "cell_type": "code",
   "execution_count": 38,
   "metadata": {
    "collapsed": true
   },
   "outputs": [],
   "source": [
    "hs300['prediction'] = np.NaN\n",
    "hs300['prediction'].ix[7:] = clf_SVC.predict(X_train)"
   ]
  },
  {
   "cell_type": "code",
   "execution_count": 40,
   "metadata": {
    "collapsed": true
   },
   "outputs": [],
   "source": [
    "hs300['strategy'] = (hs300['prediction'].shift(1) * hs300['returns'] + 1).cumprod()\n",
    "hs300['cum_ret'] = (hs300['returns']+1).cumprod()"
   ]
  },
  {
   "cell_type": "code",
   "execution_count": 41,
   "metadata": {
    "scrolled": false
   },
   "outputs": [
    {
     "data": {
      "text/plain": [
       "<matplotlib.axes._subplots.AxesSubplot at 0x1c157e1b630>"
      ]
     },
     "execution_count": 41,
     "metadata": {},
     "output_type": "execute_result"
    },
    {
     "data": {
      "image/png": "[encoded data removed]",
      "text/plain": [
       "<matplotlib.figure.Figure at 0x1c15827a5f8>"
      ]
     },
     "metadata": {},
     "output_type": "display_data"
    }
   ],
   "source": [
    "hs300[['strategy','cum_ret']].dropna().plot(figsize=(10, 6))"
   ]
  },
  {
   "cell_type": "markdown",
   "metadata": {},
   "source": [
    "### 5. 逻辑回归算法在测试集的验证"
   ]
  },
  {
   "cell_type": "code",
   "execution_count": 42,
   "metadata": {
    "collapsed": true
   },
   "outputs": [],
   "source": [
    "hs300_test = ts.get_k_data('hs300', start = '2016-07-01', end = '2017-06-30')      #测试集数据"
   ]
  },
  {
   "cell_type": "code",
   "execution_count": 43,
   "metadata": {
    "collapsed": true
   },
   "outputs": [],
   "source": [
    "hs300_test.set_index('date', inplace = True)"
   ]
  },
  {
   "cell_type": "code",
   "execution_count": 44,
   "metadata": {
    "collapsed": true
   },
   "outputs": [],
   "source": [
    "hs300_test['returns'] = hs300_test['close'].pct_change()"
   ]
  },
  {
   "cell_type": "code",
   "execution_count": 45,
   "metadata": {
    "collapsed": true
   },
   "outputs": [],
   "source": [
    "hs300_test.dropna(inplace=True)"
   ]
  },
  {
   "cell_type": "code",
   "execution_count": 46,
   "metadata": {},
   "outputs": [
    {
     "data": {
      "text/html": [
       "<div>\n",
       "<style>\n",
       "    .dataframe thead tr:only-child th {\n",
       "        text-align: right;\n",
       "    }\n",
       "\n",
       "    .dataframe thead th {\n",
       "        text-align: left;\n",
       "    }\n",
       "\n",
       "    .dataframe tbody tr th {\n",
       "        vertical-align: top;\n",
       "    }\n",
       "</style>\n",
       "<table border=\"1\" class=\"dataframe\">\n",
       "  <thead>\n",
       "    <tr style=\"text-align: right;\">\n",
       "      <th></th>\n",
       "      <th>open</th>\n",
       "      <th>close</th>\n",
       "      <th>high</th>\n",
       "      <th>low</th>\n",
       "      <th>volume</th>\n",
       "      <th>code</th>\n",
       "      <th>returns</th>\n",
       "    </tr>\n",
       "    <tr>\n",
       "      <th>date</th>\n",
       "      <th></th>\n",
       "      <th></th>\n",
       "      <th></th>\n",
       "      <th></th>\n",
       "      <th></th>\n",
       "      <th></th>\n",
       "      <th></th>\n",
       "    </tr>\n",
       "  </thead>\n",
       "  <tbody>\n",
       "    <tr>\n",
       "      <th>2016-07-04</th>\n",
       "      <td>3136.39</td>\n",
       "      <td>3204.70</td>\n",
       "      <td>3210.60</td>\n",
       "      <td>3134.02</td>\n",
       "      <td>133310529.0</td>\n",
       "      <td>hs300</td>\n",
       "      <td>0.016010</td>\n",
       "    </tr>\n",
       "    <tr>\n",
       "      <th>2016-07-05</th>\n",
       "      <td>3199.16</td>\n",
       "      <td>3207.38</td>\n",
       "      <td>3216.70</td>\n",
       "      <td>3198.00</td>\n",
       "      <td>130226895.0</td>\n",
       "      <td>hs300</td>\n",
       "      <td>0.000836</td>\n",
       "    </tr>\n",
       "    <tr>\n",
       "      <th>2016-07-06</th>\n",
       "      <td>3197.62</td>\n",
       "      <td>3216.80</td>\n",
       "      <td>3217.51</td>\n",
       "      <td>3183.45</td>\n",
       "      <td>124897458.0</td>\n",
       "      <td>hs300</td>\n",
       "      <td>0.002937</td>\n",
       "    </tr>\n",
       "    <tr>\n",
       "      <th>2016-07-07</th>\n",
       "      <td>3206.55</td>\n",
       "      <td>3209.95</td>\n",
       "      <td>3220.54</td>\n",
       "      <td>3190.12</td>\n",
       "      <td>118595202.0</td>\n",
       "      <td>hs300</td>\n",
       "      <td>-0.002129</td>\n",
       "    </tr>\n",
       "    <tr>\n",
       "      <th>2016-07-08</th>\n",
       "      <td>3199.75</td>\n",
       "      <td>3192.28</td>\n",
       "      <td>3204.93</td>\n",
       "      <td>3183.96</td>\n",
       "      <td>89734855.0</td>\n",
       "      <td>hs300</td>\n",
       "      <td>-0.005505</td>\n",
       "    </tr>\n",
       "  </tbody>\n",
       "</table>\n",
       "</div>"
      ],
      "text/plain": [
       "               open    close     high      low       volume   code   returns\n",
       "date                                                                        \n",
       "2016-07-04  3136.39  3204.70  3210.60  3134.02  133310529.0  hs300  0.016010\n",
       "2016-07-05  3199.16  3207.38  3216.70  3198.00  130226895.0  hs300  0.000836\n",
       "2016-07-06  3197.62  3216.80  3217.51  3183.45  124897458.0  hs300  0.002937\n",
       "2016-07-07  3206.55  3209.95  3220.54  3190.12  118595202.0  hs300 -0.002129\n",
       "2016-07-08  3199.75  3192.28  3204.93  3183.96   89734855.0  hs300 -0.005505"
      ]
     },
     "execution_count": 46,
     "metadata": {},
     "output_type": "execute_result"
    }
   ],
   "source": [
    "hs300_test.head()"
   ]
  },
  {
   "cell_type": "code",
   "execution_count": 47,
   "metadata": {
    "collapsed": true
   },
   "outputs": [],
   "source": [
    "for i in range(1, 8, 1):\n",
    "    hs300_test['close - ' + str(i) + 'd'] = hs300_test['close'].shift(i)"
   ]
  },
  {
   "cell_type": "code",
   "execution_count": 48,
   "metadata": {},
   "outputs": [
    {
     "data": {
      "text/html": [
       "<div>\n",
       "<style>\n",
       "    .dataframe thead tr:only-child th {\n",
       "        text-align: right;\n",
       "    }\n",
       "\n",
       "    .dataframe thead th {\n",
       "        text-align: left;\n",
       "    }\n",
       "\n",
       "    .dataframe tbody tr th {\n",
       "        vertical-align: top;\n",
       "    }\n",
       "</style>\n",
       "<table border=\"1\" class=\"dataframe\">\n",
       "  <thead>\n",
       "    <tr style=\"text-align: right;\">\n",
       "      <th></th>\n",
       "      <th>open</th>\n",
       "      <th>close</th>\n",
       "      <th>high</th>\n",
       "      <th>low</th>\n",
       "      <th>volume</th>\n",
       "      <th>code</th>\n",
       "      <th>returns</th>\n",
       "      <th>close - 1d</th>\n",
       "      <th>close - 2d</th>\n",
       "      <th>close - 3d</th>\n",
       "      <th>close - 4d</th>\n",
       "      <th>close - 5d</th>\n",
       "      <th>close - 6d</th>\n",
       "      <th>close - 7d</th>\n",
       "    </tr>\n",
       "    <tr>\n",
       "      <th>date</th>\n",
       "      <th></th>\n",
       "      <th></th>\n",
       "      <th></th>\n",
       "      <th></th>\n",
       "      <th></th>\n",
       "      <th></th>\n",
       "      <th></th>\n",
       "      <th></th>\n",
       "      <th></th>\n",
       "      <th></th>\n",
       "      <th></th>\n",
       "      <th></th>\n",
       "      <th></th>\n",
       "      <th></th>\n",
       "    </tr>\n",
       "  </thead>\n",
       "  <tbody>\n",
       "    <tr>\n",
       "      <th>2016-07-04</th>\n",
       "      <td>3136.39</td>\n",
       "      <td>3204.70</td>\n",
       "      <td>3210.60</td>\n",
       "      <td>3134.02</td>\n",
       "      <td>133310529.0</td>\n",
       "      <td>hs300</td>\n",
       "      <td>0.016010</td>\n",
       "      <td>NaN</td>\n",
       "      <td>NaN</td>\n",
       "      <td>NaN</td>\n",
       "      <td>NaN</td>\n",
       "      <td>NaN</td>\n",
       "      <td>NaN</td>\n",
       "      <td>NaN</td>\n",
       "    </tr>\n",
       "    <tr>\n",
       "      <th>2016-07-05</th>\n",
       "      <td>3199.16</td>\n",
       "      <td>3207.38</td>\n",
       "      <td>3216.70</td>\n",
       "      <td>3198.00</td>\n",
       "      <td>130226895.0</td>\n",
       "      <td>hs300</td>\n",
       "      <td>0.000836</td>\n",
       "      <td>3204.70</td>\n",
       "      <td>NaN</td>\n",
       "      <td>NaN</td>\n",
       "      <td>NaN</td>\n",
       "      <td>NaN</td>\n",
       "      <td>NaN</td>\n",
       "      <td>NaN</td>\n",
       "    </tr>\n",
       "    <tr>\n",
       "      <th>2016-07-06</th>\n",
       "      <td>3197.62</td>\n",
       "      <td>3216.80</td>\n",
       "      <td>3217.51</td>\n",
       "      <td>3183.45</td>\n",
       "      <td>124897458.0</td>\n",
       "      <td>hs300</td>\n",
       "      <td>0.002937</td>\n",
       "      <td>3207.38</td>\n",
       "      <td>3204.70</td>\n",
       "      <td>NaN</td>\n",
       "      <td>NaN</td>\n",
       "      <td>NaN</td>\n",
       "      <td>NaN</td>\n",
       "      <td>NaN</td>\n",
       "    </tr>\n",
       "    <tr>\n",
       "      <th>2016-07-07</th>\n",
       "      <td>3206.55</td>\n",
       "      <td>3209.95</td>\n",
       "      <td>3220.54</td>\n",
       "      <td>3190.12</td>\n",
       "      <td>118595202.0</td>\n",
       "      <td>hs300</td>\n",
       "      <td>-0.002129</td>\n",
       "      <td>3216.80</td>\n",
       "      <td>3207.38</td>\n",
       "      <td>3204.70</td>\n",
       "      <td>NaN</td>\n",
       "      <td>NaN</td>\n",
       "      <td>NaN</td>\n",
       "      <td>NaN</td>\n",
       "    </tr>\n",
       "    <tr>\n",
       "      <th>2016-07-08</th>\n",
       "      <td>3199.75</td>\n",
       "      <td>3192.28</td>\n",
       "      <td>3204.93</td>\n",
       "      <td>3183.96</td>\n",
       "      <td>89734855.0</td>\n",
       "      <td>hs300</td>\n",
       "      <td>-0.005505</td>\n",
       "      <td>3209.95</td>\n",
       "      <td>3216.80</td>\n",
       "      <td>3207.38</td>\n",
       "      <td>3204.7</td>\n",
       "      <td>NaN</td>\n",
       "      <td>NaN</td>\n",
       "      <td>NaN</td>\n",
       "    </tr>\n",
       "  </tbody>\n",
       "</table>\n",
       "</div>"
      ],
      "text/plain": [
       "               open    close     high      low       volume   code   returns  \\\n",
       "date                                                                           \n",
       "2016-07-04  3136.39  3204.70  3210.60  3134.02  133310529.0  hs300  0.016010   \n",
       "2016-07-05  3199.16  3207.38  3216.70  3198.00  130226895.0  hs300  0.000836   \n",
       "2016-07-06  3197.62  3216.80  3217.51  3183.45  124897458.0  hs300  0.002937   \n",
       "2016-07-07  3206.55  3209.95  3220.54  3190.12  118595202.0  hs300 -0.002129   \n",
       "2016-07-08  3199.75  3192.28  3204.93  3183.96   89734855.0  hs300 -0.005505   \n",
       "\n",
       "            close - 1d  close - 2d  close - 3d  close - 4d  close - 5d  \\\n",
       "date                                                                     \n",
       "2016-07-04         NaN         NaN         NaN         NaN         NaN   \n",
       "2016-07-05     3204.70         NaN         NaN         NaN         NaN   \n",
       "2016-07-06     3207.38     3204.70         NaN         NaN         NaN   \n",
       "2016-07-07     3216.80     3207.38     3204.70         NaN         NaN   \n",
       "2016-07-08     3209.95     3216.80     3207.38      3204.7         NaN   \n",
       "\n",
       "            close - 6d  close - 7d  \n",
       "date                                \n",
       "2016-07-04         NaN         NaN  \n",
       "2016-07-05         NaN         NaN  \n",
       "2016-07-06         NaN         NaN  \n",
       "2016-07-07         NaN         NaN  \n",
       "2016-07-08         NaN         NaN  "
      ]
     },
     "execution_count": 48,
     "metadata": {},
     "output_type": "execute_result"
    }
   ],
   "source": [
    "hs300_test.head()"
   ]
  },
  {
   "cell_type": "code",
   "execution_count": 49,
   "metadata": {
    "collapsed": true
   },
   "outputs": [],
   "source": [
    "hs_7d_test = hs300_test[[x for x in hs300_test.columns if 'close' in x]].iloc[7:]"
   ]
  },
  {
   "cell_type": "code",
   "execution_count": 50,
   "metadata": {},
   "outputs": [
    {
     "data": {
      "text/html": [
       "<div>\n",
       "<style>\n",
       "    .dataframe thead tr:only-child th {\n",
       "        text-align: right;\n",
       "    }\n",
       "\n",
       "    .dataframe thead th {\n",
       "        text-align: left;\n",
       "    }\n",
       "\n",
       "    .dataframe tbody tr th {\n",
       "        vertical-align: top;\n",
       "    }\n",
       "</style>\n",
       "<table border=\"1\" class=\"dataframe\">\n",
       "  <thead>\n",
       "    <tr style=\"text-align: right;\">\n",
       "      <th></th>\n",
       "      <th>close</th>\n",
       "      <th>close - 1d</th>\n",
       "      <th>close - 2d</th>\n",
       "      <th>close - 3d</th>\n",
       "      <th>close - 4d</th>\n",
       "      <th>close - 5d</th>\n",
       "      <th>close - 6d</th>\n",
       "      <th>close - 7d</th>\n",
       "    </tr>\n",
       "    <tr>\n",
       "      <th>date</th>\n",
       "      <th></th>\n",
       "      <th></th>\n",
       "      <th></th>\n",
       "      <th></th>\n",
       "      <th></th>\n",
       "      <th></th>\n",
       "      <th></th>\n",
       "      <th></th>\n",
       "    </tr>\n",
       "  </thead>\n",
       "  <tbody>\n",
       "    <tr>\n",
       "      <th>2016-07-13</th>\n",
       "      <td>3282.87</td>\n",
       "      <td>3273.18</td>\n",
       "      <td>3203.33</td>\n",
       "      <td>3192.28</td>\n",
       "      <td>3209.95</td>\n",
       "      <td>3216.80</td>\n",
       "      <td>3207.38</td>\n",
       "      <td>3204.70</td>\n",
       "    </tr>\n",
       "    <tr>\n",
       "      <th>2016-07-14</th>\n",
       "      <td>3276.76</td>\n",
       "      <td>3282.87</td>\n",
       "      <td>3273.18</td>\n",
       "      <td>3203.33</td>\n",
       "      <td>3192.28</td>\n",
       "      <td>3209.95</td>\n",
       "      <td>3216.80</td>\n",
       "      <td>3207.38</td>\n",
       "    </tr>\n",
       "    <tr>\n",
       "      <th>2016-07-15</th>\n",
       "      <td>3276.28</td>\n",
       "      <td>3276.76</td>\n",
       "      <td>3282.87</td>\n",
       "      <td>3273.18</td>\n",
       "      <td>3203.33</td>\n",
       "      <td>3192.28</td>\n",
       "      <td>3209.95</td>\n",
       "      <td>3216.80</td>\n",
       "    </tr>\n",
       "    <tr>\n",
       "      <th>2016-07-18</th>\n",
       "      <td>3262.02</td>\n",
       "      <td>3276.28</td>\n",
       "      <td>3276.76</td>\n",
       "      <td>3282.87</td>\n",
       "      <td>3273.18</td>\n",
       "      <td>3203.33</td>\n",
       "      <td>3192.28</td>\n",
       "      <td>3209.95</td>\n",
       "    </tr>\n",
       "    <tr>\n",
       "      <th>2016-07-19</th>\n",
       "      <td>3248.23</td>\n",
       "      <td>3262.02</td>\n",
       "      <td>3276.28</td>\n",
       "      <td>3276.76</td>\n",
       "      <td>3282.87</td>\n",
       "      <td>3273.18</td>\n",
       "      <td>3203.33</td>\n",
       "      <td>3192.28</td>\n",
       "    </tr>\n",
       "  </tbody>\n",
       "</table>\n",
       "</div>"
      ],
      "text/plain": [
       "              close  close - 1d  close - 2d  close - 3d  close - 4d  \\\n",
       "date                                                                  \n",
       "2016-07-13  3282.87     3273.18     3203.33     3192.28     3209.95   \n",
       "2016-07-14  3276.76     3282.87     3273.18     3203.33     3192.28   \n",
       "2016-07-15  3276.28     3276.76     3282.87     3273.18     3203.33   \n",
       "2016-07-18  3262.02     3276.28     3276.76     3282.87     3273.18   \n",
       "2016-07-19  3248.23     3262.02     3276.28     3276.76     3282.87   \n",
       "\n",
       "            close - 5d  close - 6d  close - 7d  \n",
       "date                                            \n",
       "2016-07-13     3216.80     3207.38     3204.70  \n",
       "2016-07-14     3209.95     3216.80     3207.38  \n",
       "2016-07-15     3192.28     3209.95     3216.80  \n",
       "2016-07-18     3203.33     3192.28     3209.95  \n",
       "2016-07-19     3273.18     3203.33     3192.28  "
      ]
     },
     "execution_count": 50,
     "metadata": {},
     "output_type": "execute_result"
    }
   ],
   "source": [
    "hs_7d_test.head()"
   ]
  },
  {
   "cell_type": "code",
   "execution_count": 51,
   "metadata": {},
   "outputs": [
    {
     "data": {
      "text/plain": [
       "array([[-1.08385111, -1.17718366, -1.86756869, ..., -1.72317764,\n",
       "        -1.81302459, -1.82902805],\n",
       "       [-1.14374922, -1.08098366, -1.16789687, ..., -1.79379777,\n",
       "        -1.71531841, -1.80115087],\n",
       "       [-1.1484548 , -1.14164228, -1.0708343 , ..., -1.97596677,\n",
       "        -1.78636802, -1.70316467],\n",
       "       ..., \n",
       "       [ 2.47768481,  2.80920961,  2.78782826, ...,  2.10329928,\n",
       "         1.7042943 ,  1.80093442],\n",
       "       [ 2.6998274 ,  2.52577203,  2.85423948, ...,  2.12783591,\n",
       "         2.1344297 ,  1.72624855],\n",
       "       [ 2.67992672,  2.7507351 ,  2.56826052, ...,  2.46330729,\n",
       "         2.15911555,  2.1576167 ]])"
      ]
     },
     "execution_count": 51,
     "metadata": {},
     "output_type": "execute_result"
    }
   ],
   "source": [
    "X_test = hs_7d_test \n",
    "X_test = sklearn.preprocessing.scale(X_test)\n",
    "X_test"
   ]
  },
  {
   "cell_type": "code",
   "execution_count": 52,
   "metadata": {},
   "outputs": [],
   "source": [
    "hs300_test['prediction'] = np.NaN\n",
    "hs300_test['prediction'].ix[7:] = lm.predict(X_test)    #给你测试集的features，返回的是预测的测试集的labels"
   ]
  },
  {
   "cell_type": "code",
   "execution_count": 53,
   "metadata": {},
   "outputs": [
    {
     "data": {
      "text/plain": [
       " 1.0    135\n",
       "-1.0    100\n",
       "Name: prediction, dtype: int64"
      ]
     },
     "execution_count": 53,
     "metadata": {},
     "output_type": "execute_result"
    }
   ],
   "source": [
    "hs300_test['prediction'].value_counts()"
   ]
  },
  {
   "cell_type": "code",
   "execution_count": 55,
   "metadata": {},
   "outputs": [
    {
     "data": {
      "text/html": [
       "<div>\n",
       "<style>\n",
       "    .dataframe thead tr:only-child th {\n",
       "        text-align: right;\n",
       "    }\n",
       "\n",
       "    .dataframe thead th {\n",
       "        text-align: left;\n",
       "    }\n",
       "\n",
       "    .dataframe tbody tr th {\n",
       "        vertical-align: top;\n",
       "    }\n",
       "</style>\n",
       "<table border=\"1\" class=\"dataframe\">\n",
       "  <thead>\n",
       "    <tr style=\"text-align: right;\">\n",
       "      <th></th>\n",
       "      <th>open</th>\n",
       "      <th>close</th>\n",
       "      <th>high</th>\n",
       "      <th>low</th>\n",
       "      <th>volume</th>\n",
       "      <th>code</th>\n",
       "      <th>returns</th>\n",
       "      <th>close - 1d</th>\n",
       "      <th>close - 2d</th>\n",
       "      <th>close - 3d</th>\n",
       "      <th>close - 4d</th>\n",
       "      <th>close - 5d</th>\n",
       "      <th>close - 6d</th>\n",
       "      <th>close - 7d</th>\n",
       "      <th>prediction</th>\n",
       "    </tr>\n",
       "    <tr>\n",
       "      <th>date</th>\n",
       "      <th></th>\n",
       "      <th></th>\n",
       "      <th></th>\n",
       "      <th></th>\n",
       "      <th></th>\n",
       "      <th></th>\n",
       "      <th></th>\n",
       "      <th></th>\n",
       "      <th></th>\n",
       "      <th></th>\n",
       "      <th></th>\n",
       "      <th></th>\n",
       "      <th></th>\n",
       "      <th></th>\n",
       "      <th></th>\n",
       "    </tr>\n",
       "  </thead>\n",
       "  <tbody>\n",
       "    <tr>\n",
       "      <th>2016-07-04</th>\n",
       "      <td>3136.39</td>\n",
       "      <td>3204.70</td>\n",
       "      <td>3210.60</td>\n",
       "      <td>3134.02</td>\n",
       "      <td>133310529.0</td>\n",
       "      <td>hs300</td>\n",
       "      <td>0.016010</td>\n",
       "      <td>NaN</td>\n",
       "      <td>NaN</td>\n",
       "      <td>NaN</td>\n",
       "      <td>NaN</td>\n",
       "      <td>NaN</td>\n",
       "      <td>NaN</td>\n",
       "      <td>NaN</td>\n",
       "      <td>NaN</td>\n",
       "    </tr>\n",
       "    <tr>\n",
       "      <th>2016-07-05</th>\n",
       "      <td>3199.16</td>\n",
       "      <td>3207.38</td>\n",
       "      <td>3216.70</td>\n",
       "      <td>3198.00</td>\n",
       "      <td>130226895.0</td>\n",
       "      <td>hs300</td>\n",
       "      <td>0.000836</td>\n",
       "      <td>3204.70</td>\n",
       "      <td>NaN</td>\n",
       "      <td>NaN</td>\n",
       "      <td>NaN</td>\n",
       "      <td>NaN</td>\n",
       "      <td>NaN</td>\n",
       "      <td>NaN</td>\n",
       "      <td>NaN</td>\n",
       "    </tr>\n",
       "    <tr>\n",
       "      <th>2016-07-06</th>\n",
       "      <td>3197.62</td>\n",
       "      <td>3216.80</td>\n",
       "      <td>3217.51</td>\n",
       "      <td>3183.45</td>\n",
       "      <td>124897458.0</td>\n",
       "      <td>hs300</td>\n",
       "      <td>0.002937</td>\n",
       "      <td>3207.38</td>\n",
       "      <td>3204.70</td>\n",
       "      <td>NaN</td>\n",
       "      <td>NaN</td>\n",
       "      <td>NaN</td>\n",
       "      <td>NaN</td>\n",
       "      <td>NaN</td>\n",
       "      <td>NaN</td>\n",
       "    </tr>\n",
       "    <tr>\n",
       "      <th>2016-07-07</th>\n",
       "      <td>3206.55</td>\n",
       "      <td>3209.95</td>\n",
       "      <td>3220.54</td>\n",
       "      <td>3190.12</td>\n",
       "      <td>118595202.0</td>\n",
       "      <td>hs300</td>\n",
       "      <td>-0.002129</td>\n",
       "      <td>3216.80</td>\n",
       "      <td>3207.38</td>\n",
       "      <td>3204.70</td>\n",
       "      <td>NaN</td>\n",
       "      <td>NaN</td>\n",
       "      <td>NaN</td>\n",
       "      <td>NaN</td>\n",
       "      <td>NaN</td>\n",
       "    </tr>\n",
       "    <tr>\n",
       "      <th>2016-07-08</th>\n",
       "      <td>3199.75</td>\n",
       "      <td>3192.28</td>\n",
       "      <td>3204.93</td>\n",
       "      <td>3183.96</td>\n",
       "      <td>89734855.0</td>\n",
       "      <td>hs300</td>\n",
       "      <td>-0.005505</td>\n",
       "      <td>3209.95</td>\n",
       "      <td>3216.80</td>\n",
       "      <td>3207.38</td>\n",
       "      <td>3204.70</td>\n",
       "      <td>NaN</td>\n",
       "      <td>NaN</td>\n",
       "      <td>NaN</td>\n",
       "      <td>NaN</td>\n",
       "    </tr>\n",
       "    <tr>\n",
       "      <th>2016-07-11</th>\n",
       "      <td>3199.04</td>\n",
       "      <td>3203.33</td>\n",
       "      <td>3235.96</td>\n",
       "      <td>3197.62</td>\n",
       "      <td>138529511.0</td>\n",
       "      <td>hs300</td>\n",
       "      <td>0.003461</td>\n",
       "      <td>3192.28</td>\n",
       "      <td>3209.95</td>\n",
       "      <td>3216.80</td>\n",
       "      <td>3207.38</td>\n",
       "      <td>3204.70</td>\n",
       "      <td>NaN</td>\n",
       "      <td>NaN</td>\n",
       "      <td>NaN</td>\n",
       "    </tr>\n",
       "    <tr>\n",
       "      <th>2016-07-12</th>\n",
       "      <td>3201.91</td>\n",
       "      <td>3273.18</td>\n",
       "      <td>3273.47</td>\n",
       "      <td>3200.30</td>\n",
       "      <td>172534217.0</td>\n",
       "      <td>hs300</td>\n",
       "      <td>0.021805</td>\n",
       "      <td>3203.33</td>\n",
       "      <td>3192.28</td>\n",
       "      <td>3209.95</td>\n",
       "      <td>3216.80</td>\n",
       "      <td>3207.38</td>\n",
       "      <td>3204.70</td>\n",
       "      <td>NaN</td>\n",
       "      <td>NaN</td>\n",
       "    </tr>\n",
       "    <tr>\n",
       "      <th>2016-07-13</th>\n",
       "      <td>3274.02</td>\n",
       "      <td>3282.87</td>\n",
       "      <td>3300.99</td>\n",
       "      <td>3271.77</td>\n",
       "      <td>175196090.0</td>\n",
       "      <td>hs300</td>\n",
       "      <td>0.002960</td>\n",
       "      <td>3273.18</td>\n",
       "      <td>3203.33</td>\n",
       "      <td>3192.28</td>\n",
       "      <td>3209.95</td>\n",
       "      <td>3216.80</td>\n",
       "      <td>3207.38</td>\n",
       "      <td>3204.70</td>\n",
       "      <td>-1.0</td>\n",
       "    </tr>\n",
       "    <tr>\n",
       "      <th>2016-07-14</th>\n",
       "      <td>3277.48</td>\n",
       "      <td>3276.76</td>\n",
       "      <td>3281.95</td>\n",
       "      <td>3259.06</td>\n",
       "      <td>107525798.0</td>\n",
       "      <td>hs300</td>\n",
       "      <td>-0.001861</td>\n",
       "      <td>3282.87</td>\n",
       "      <td>3273.18</td>\n",
       "      <td>3203.33</td>\n",
       "      <td>3192.28</td>\n",
       "      <td>3209.95</td>\n",
       "      <td>3216.80</td>\n",
       "      <td>3207.38</td>\n",
       "      <td>-1.0</td>\n",
       "    </tr>\n",
       "    <tr>\n",
       "      <th>2016-07-15</th>\n",
       "      <td>3278.83</td>\n",
       "      <td>3276.28</td>\n",
       "      <td>3285.03</td>\n",
       "      <td>3265.29</td>\n",
       "      <td>102665026.0</td>\n",
       "      <td>hs300</td>\n",
       "      <td>-0.000146</td>\n",
       "      <td>3276.76</td>\n",
       "      <td>3282.87</td>\n",
       "      <td>3273.18</td>\n",
       "      <td>3203.33</td>\n",
       "      <td>3192.28</td>\n",
       "      <td>3209.95</td>\n",
       "      <td>3216.80</td>\n",
       "      <td>1.0</td>\n",
       "    </tr>\n",
       "  </tbody>\n",
       "</table>\n",
       "</div>"
      ],
      "text/plain": [
       "               open    close     high      low       volume   code   returns  \\\n",
       "date                                                                           \n",
       "2016-07-04  3136.39  3204.70  3210.60  3134.02  133310529.0  hs300  0.016010   \n",
       "2016-07-05  3199.16  3207.38  3216.70  3198.00  130226895.0  hs300  0.000836   \n",
       "2016-07-06  3197.62  3216.80  3217.51  3183.45  124897458.0  hs300  0.002937   \n",
       "2016-07-07  3206.55  3209.95  3220.54  3190.12  118595202.0  hs300 -0.002129   \n",
       "2016-07-08  3199.75  3192.28  3204.93  3183.96   89734855.0  hs300 -0.005505   \n",
       "2016-07-11  3199.04  3203.33  3235.96  3197.62  138529511.0  hs300  0.003461   \n",
       "2016-07-12  3201.91  3273.18  3273.47  3200.30  172534217.0  hs300  0.021805   \n",
       "2016-07-13  3274.02  3282.87  3300.99  3271.77  175196090.0  hs300  0.002960   \n",
       "2016-07-14  3277.48  3276.76  3281.95  3259.06  107525798.0  hs300 -0.001861   \n",
       "2016-07-15  3278.83  3276.28  3285.03  3265.29  102665026.0  hs300 -0.000146   \n",
       "\n",
       "            close - 1d  close - 2d  close - 3d  close - 4d  close - 5d  \\\n",
       "date                                                                     \n",
       "2016-07-04         NaN         NaN         NaN         NaN         NaN   \n",
       "2016-07-05     3204.70         NaN         NaN         NaN         NaN   \n",
       "2016-07-06     3207.38     3204.70         NaN         NaN         NaN   \n",
       "2016-07-07     3216.80     3207.38     3204.70         NaN         NaN   \n",
       "2016-07-08     3209.95     3216.80     3207.38     3204.70         NaN   \n",
       "2016-07-11     3192.28     3209.95     3216.80     3207.38     3204.70   \n",
       "2016-07-12     3203.33     3192.28     3209.95     3216.80     3207.38   \n",
       "2016-07-13     3273.18     3203.33     3192.28     3209.95     3216.80   \n",
       "2016-07-14     3282.87     3273.18     3203.33     3192.28     3209.95   \n",
       "2016-07-15     3276.76     3282.87     3273.18     3203.33     3192.28   \n",
       "\n",
       "            close - 6d  close - 7d  prediction  \n",
       "date                                            \n",
       "2016-07-04         NaN         NaN         NaN  \n",
       "2016-07-05         NaN         NaN         NaN  \n",
       "2016-07-06         NaN         NaN         NaN  \n",
       "2016-07-07         NaN         NaN         NaN  \n",
       "2016-07-08         NaN         NaN         NaN  \n",
       "2016-07-11         NaN         NaN         NaN  \n",
       "2016-07-12     3204.70         NaN         NaN  \n",
       "2016-07-13     3207.38     3204.70        -1.0  \n",
       "2016-07-14     3216.80     3207.38        -1.0  \n",
       "2016-07-15     3209.95     3216.80         1.0  "
      ]
     },
     "execution_count": 55,
     "metadata": {},
     "output_type": "execute_result"
    }
   ],
   "source": [
    "hs300_test.head(10)"
   ]
  },
  {
   "cell_type": "code",
   "execution_count": 62,
   "metadata": {
    "collapsed": true
   },
   "outputs": [],
   "source": [
    "hs300_test['strategy'] = (hs300_test['prediction'].shift(1) * hs300_test['returns'] + 1).cumprod()\n",
    "hs300_test['cum_ret'] = (hs300_test['returns']+1).cumprod()"
   ]
  },
  {
   "cell_type": "code",
   "execution_count": 63,
   "metadata": {},
   "outputs": [
    {
     "data": {
      "text/plain": [
       "<matplotlib.axes._subplots.AxesSubplot at 0x1c1584def98>"
      ]
     },
     "execution_count": 63,
     "metadata": {},
     "output_type": "execute_result"
    },
    {
     "data": {
      "image/png": "[encoded data removed]",
      "text/plain": [
       "<matplotlib.figure.Figure at 0x1c158407cf8>"
      ]
     },
     "metadata": {},
     "output_type": "display_data"
    }
   ],
   "source": [
    "hs300_test[['strategy','cum_ret']].dropna().plot(figsize=(10, 6))"
   ]
  },
  {
   "cell_type": "markdown",
   "metadata": {},
   "source": [
    "### 6.SVM算法在测试集的验证"
   ]
  },
  {
   "cell_type": "code",
   "execution_count": 58,
   "metadata": {
    "collapsed": true
   },
   "outputs": [],
   "source": [
    "X_test = hs_7d_test "
   ]
  },
  {
   "cell_type": "code",
   "execution_count": 59,
   "metadata": {},
   "outputs": [],
   "source": [
    "hs300_test['prediction'] = np.NaN\n",
    "hs300_test['prediction'].ix[7:] = clf_SVC.predict(X_test)"
   ]
  },
  {
   "cell_type": "code",
   "execution_count": 64,
   "metadata": {
    "collapsed": true
   },
   "outputs": [],
   "source": [
    "hs300_test['strategy'] = (hs300_test['prediction'].shift(1) * hs300_test['returns'] + 1).cumprod()\n",
    "hs300_test['cum_ret'] = (hs300_test['returns']+1).cumprod()"
   ]
  },
  {
   "cell_type": "code",
   "execution_count": 65,
   "metadata": {},
   "outputs": [
    {
     "data": {
      "text/plain": [
       "<matplotlib.axes._subplots.AxesSubplot at 0x1c1584a4978>"
      ]
     },
     "execution_count": 65,
     "metadata": {},
     "output_type": "execute_result"
    },
    {
     "data": {
      "image/png": "[encoded data removed]",
      "text/plain": [
       "<matplotlib.figure.Figure at 0x1c1584f3eb8>"
      ]
     },
     "metadata": {},
     "output_type": "display_data"
    }
   ],
   "source": [
    "hs300_test[['strategy','cum_ret']].dropna().plot(figsize=(10, 6))"
   ]
  },
  {
   "cell_type": "markdown",
   "metadata": {},
   "source": [
    "声明：本资料仅供内部学习交流使用，切勿外传。"
   ]
  }
 ],
 "metadata": {
  "anaconda-cloud": {},
  "kernelspec": {
   "display_name": "Python 3",
   "language": "python",
   "name": "python3"
  },
  "language_info": {
   "codemirror_mode": {
    "name": "ipython",
    "version": 3
   },
   "file_extension": ".py",
   "mimetype": "text/x-python",
   "name": "python",
   "nbconvert_exporter": "python",
   "pygments_lexer": "ipython3",
   "version": "3.7.1"
  }
 },
 "nbformat": 4,
 "nbformat_minor": 1
}
